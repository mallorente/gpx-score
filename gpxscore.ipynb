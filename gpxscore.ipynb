{
 "cells": [
  {
   "cell_type": "code",
   "execution_count": 17,
   "metadata": {},
   "outputs": [
    {
     "name": "stdout",
     "output_type": "stream",
     "text": [
      "Requirement already satisfied: gpxpy in c:\\users\\mllorente.mne\\appdata\\local\\miniconda3\\envs\\spark_env\\lib\\site-packages (1.6.2)\n",
      "Requirement already satisfied: osmnx in c:\\users\\mllorente.mne\\appdata\\local\\miniconda3\\envs\\spark_env\\lib\\site-packages (1.9.3)\n",
      "Requirement already satisfied: geopandas>=0.12 in c:\\users\\mllorente.mne\\appdata\\local\\miniconda3\\envs\\spark_env\\lib\\site-packages (from osmnx) (0.12.2)\n",
      "Requirement already satisfied: networkx>=2.5 in c:\\users\\mllorente.mne\\appdata\\local\\miniconda3\\envs\\spark_env\\lib\\site-packages (from osmnx) (3.1)\n",
      "Requirement already satisfied: numpy>=1.20 in c:\\users\\mllorente.mne\\appdata\\local\\miniconda3\\envs\\spark_env\\lib\\site-packages (from osmnx) (1.26.0)\n",
      "Requirement already satisfied: pandas>=1.1 in c:\\users\\mllorente.mne\\appdata\\local\\miniconda3\\envs\\spark_env\\lib\\site-packages (from osmnx) (2.1.1)\n",
      "Requirement already satisfied: requests>=2.27 in c:\\users\\mllorente.mne\\appdata\\local\\miniconda3\\envs\\spark_env\\lib\\site-packages (from osmnx) (2.31.0)\n",
      "Requirement already satisfied: shapely>=2.0 in c:\\users\\mllorente.mne\\appdata\\local\\miniconda3\\envs\\spark_env\\lib\\site-packages (from osmnx) (2.0.1)\n",
      "Requirement already satisfied: fiona>=1.8 in c:\\users\\mllorente.mne\\appdata\\local\\miniconda3\\envs\\spark_env\\lib\\site-packages (from geopandas>=0.12->osmnx) (1.9.1)\n",
      "Requirement already satisfied: pyproj>=2.6.1.post1 in c:\\users\\mllorente.mne\\appdata\\local\\miniconda3\\envs\\spark_env\\lib\\site-packages (from geopandas>=0.12->osmnx) (3.2.1)\n",
      "Requirement already satisfied: packaging in c:\\users\\mllorente.mne\\appdata\\local\\miniconda3\\envs\\spark_env\\lib\\site-packages (from geopandas>=0.12->osmnx) (23.1)\n",
      "Requirement already satisfied: python-dateutil>=2.8.2 in c:\\users\\mllorente.mne\\appdata\\local\\miniconda3\\envs\\spark_env\\lib\\site-packages (from pandas>=1.1->osmnx) (2.8.2)\n",
      "Requirement already satisfied: pytz>=2020.1 in c:\\users\\mllorente.mne\\appdata\\local\\miniconda3\\envs\\spark_env\\lib\\site-packages (from pandas>=1.1->osmnx) (2023.3.post1)\n",
      "Requirement already satisfied: tzdata>=2022.1 in c:\\users\\mllorente.mne\\appdata\\local\\miniconda3\\envs\\spark_env\\lib\\site-packages (from pandas>=1.1->osmnx) (2023.3)\n",
      "Requirement already satisfied: charset-normalizer<4,>=2 in c:\\users\\mllorente.mne\\appdata\\local\\miniconda3\\envs\\spark_env\\lib\\site-packages (from requests>=2.27->osmnx) (2.0.4)\n",
      "Requirement already satisfied: idna<4,>=2.5 in c:\\users\\mllorente.mne\\appdata\\local\\miniconda3\\envs\\spark_env\\lib\\site-packages (from requests>=2.27->osmnx) (3.4)\n",
      "Requirement already satisfied: urllib3<3,>=1.21.1 in c:\\users\\mllorente.mne\\appdata\\local\\miniconda3\\envs\\spark_env\\lib\\site-packages (from requests>=2.27->osmnx) (1.26.18)\n",
      "Requirement already satisfied: certifi>=2017.4.17 in c:\\users\\mllorente.mne\\appdata\\local\\miniconda3\\envs\\spark_env\\lib\\site-packages (from requests>=2.27->osmnx) (2023.7.22)\n",
      "Requirement already satisfied: attrs>=19.2.0 in c:\\users\\mllorente.mne\\appdata\\local\\miniconda3\\envs\\spark_env\\lib\\site-packages (from fiona>=1.8->geopandas>=0.12->osmnx) (23.1.0)\n",
      "Requirement already satisfied: click~=8.0 in c:\\users\\mllorente.mne\\appdata\\local\\miniconda3\\envs\\spark_env\\lib\\site-packages (from fiona>=1.8->geopandas>=0.12->osmnx) (8.1.7)\n",
      "Requirement already satisfied: click-plugins>=1.0 in c:\\users\\mllorente.mne\\appdata\\local\\miniconda3\\envs\\spark_env\\lib\\site-packages (from fiona>=1.8->geopandas>=0.12->osmnx) (1.1.1)\n",
      "Requirement already satisfied: cligj>=0.5 in c:\\users\\mllorente.mne\\appdata\\local\\miniconda3\\envs\\spark_env\\lib\\site-packages (from fiona>=1.8->geopandas>=0.12->osmnx) (0.7.2)\n",
      "Requirement already satisfied: munch>=2.3.2 in c:\\users\\mllorente.mne\\appdata\\local\\miniconda3\\envs\\spark_env\\lib\\site-packages (from fiona>=1.8->geopandas>=0.12->osmnx) (2.5.0)\n",
      "Requirement already satisfied: setuptools in c:\\users\\mllorente.mne\\appdata\\local\\miniconda3\\envs\\spark_env\\lib\\site-packages (from fiona>=1.8->geopandas>=0.12->osmnx) (68.0.0)\n",
      "Requirement already satisfied: six>=1.5 in c:\\users\\mllorente.mne\\appdata\\local\\miniconda3\\envs\\spark_env\\lib\\site-packages (from python-dateutil>=2.8.2->pandas>=1.1->osmnx) (1.16.0)\n",
      "Requirement already satisfied: colorama in c:\\users\\mllorente.mne\\appdata\\local\\miniconda3\\envs\\spark_env\\lib\\site-packages (from click~=8.0->fiona>=1.8->geopandas>=0.12->osmnx) (0.4.6)\n",
      "Requirement already satisfied: networkx in c:\\users\\mllorente.mne\\appdata\\local\\miniconda3\\envs\\spark_env\\lib\\site-packages (3.1)\n",
      "Requirement already satisfied: pyproj==3.2.1 in c:\\users\\mllorente.mne\\appdata\\local\\miniconda3\\envs\\spark_env\\lib\\site-packages (3.2.1)\n",
      "Requirement already satisfied: certifi in c:\\users\\mllorente.mne\\appdata\\local\\miniconda3\\envs\\spark_env\\lib\\site-packages (from pyproj==3.2.1) (2023.7.22)\n",
      "Requirement already satisfied: geopandas in c:\\users\\mllorente.mne\\appdata\\local\\miniconda3\\envs\\spark_env\\lib\\site-packages (0.12.2)\n",
      "Requirement already satisfied: pandas>=1.0.0 in c:\\users\\mllorente.mne\\appdata\\local\\miniconda3\\envs\\spark_env\\lib\\site-packages (from geopandas) (2.1.1)\n",
      "Requirement already satisfied: shapely>=1.7 in c:\\users\\mllorente.mne\\appdata\\local\\miniconda3\\envs\\spark_env\\lib\\site-packages (from geopandas) (2.0.1)\n",
      "Requirement already satisfied: fiona>=1.8 in c:\\users\\mllorente.mne\\appdata\\local\\miniconda3\\envs\\spark_env\\lib\\site-packages (from geopandas) (1.9.1)\n",
      "Requirement already satisfied: pyproj>=2.6.1.post1 in c:\\users\\mllorente.mne\\appdata\\local\\miniconda3\\envs\\spark_env\\lib\\site-packages (from geopandas) (3.2.1)\n",
      "Requirement already satisfied: packaging in c:\\users\\mllorente.mne\\appdata\\local\\miniconda3\\envs\\spark_env\\lib\\site-packages (from geopandas) (23.1)\n",
      "Requirement already satisfied: attrs>=19.2.0 in c:\\users\\mllorente.mne\\appdata\\local\\miniconda3\\envs\\spark_env\\lib\\site-packages (from fiona>=1.8->geopandas) (23.1.0)\n",
      "Requirement already satisfied: certifi in c:\\users\\mllorente.mne\\appdata\\local\\miniconda3\\envs\\spark_env\\lib\\site-packages (from fiona>=1.8->geopandas) (2023.7.22)\n",
      "Requirement already satisfied: click~=8.0 in c:\\users\\mllorente.mne\\appdata\\local\\miniconda3\\envs\\spark_env\\lib\\site-packages (from fiona>=1.8->geopandas) (8.1.7)\n",
      "Requirement already satisfied: click-plugins>=1.0 in c:\\users\\mllorente.mne\\appdata\\local\\miniconda3\\envs\\spark_env\\lib\\site-packages (from fiona>=1.8->geopandas) (1.1.1)\n",
      "Requirement already satisfied: cligj>=0.5 in c:\\users\\mllorente.mne\\appdata\\local\\miniconda3\\envs\\spark_env\\lib\\site-packages (from fiona>=1.8->geopandas) (0.7.2)\n",
      "Requirement already satisfied: munch>=2.3.2 in c:\\users\\mllorente.mne\\appdata\\local\\miniconda3\\envs\\spark_env\\lib\\site-packages (from fiona>=1.8->geopandas) (2.5.0)\n",
      "Requirement already satisfied: setuptools in c:\\users\\mllorente.mne\\appdata\\local\\miniconda3\\envs\\spark_env\\lib\\site-packages (from fiona>=1.8->geopandas) (68.0.0)\n",
      "Requirement already satisfied: numpy>=1.22.4 in c:\\users\\mllorente.mne\\appdata\\local\\miniconda3\\envs\\spark_env\\lib\\site-packages (from pandas>=1.0.0->geopandas) (1.26.0)\n",
      "Requirement already satisfied: python-dateutil>=2.8.2 in c:\\users\\mllorente.mne\\appdata\\local\\miniconda3\\envs\\spark_env\\lib\\site-packages (from pandas>=1.0.0->geopandas) (2.8.2)\n",
      "Requirement already satisfied: pytz>=2020.1 in c:\\users\\mllorente.mne\\appdata\\local\\miniconda3\\envs\\spark_env\\lib\\site-packages (from pandas>=1.0.0->geopandas) (2023.3.post1)\n",
      "Requirement already satisfied: tzdata>=2022.1 in c:\\users\\mllorente.mne\\appdata\\local\\miniconda3\\envs\\spark_env\\lib\\site-packages (from pandas>=1.0.0->geopandas) (2023.3)\n",
      "Requirement already satisfied: colorama in c:\\users\\mllorente.mne\\appdata\\local\\miniconda3\\envs\\spark_env\\lib\\site-packages (from click~=8.0->fiona>=1.8->geopandas) (0.4.6)\n",
      "Requirement already satisfied: six in c:\\users\\mllorente.mne\\appdata\\local\\miniconda3\\envs\\spark_env\\lib\\site-packages (from munch>=2.3.2->fiona>=1.8->geopandas) (1.16.0)\n",
      "Collecting plotly\n",
      "  Downloading plotly-5.22.0-py3-none-any.whl.metadata (7.1 kB)\n",
      "Collecting tenacity>=6.2.0 (from plotly)\n",
      "  Downloading tenacity-8.3.0-py3-none-any.whl.metadata (1.2 kB)\n",
      "Requirement already satisfied: packaging in c:\\users\\mllorente.mne\\appdata\\local\\miniconda3\\envs\\spark_env\\lib\\site-packages (from plotly) (23.1)\n",
      "Downloading plotly-5.22.0-py3-none-any.whl (16.4 MB)\n",
      "   ---------------------------------------- 0.0/16.4 MB ? eta -:--:--\n",
      "   ---------------------------------------- 0.0/16.4 MB ? eta -:--:--\n",
      "   ---------------------------------------- 0.0/16.4 MB 660.6 kB/s eta 0:00:25\n",
      "   ---------------------------------------- 0.2/16.4 MB 2.4 MB/s eta 0:00:07\n",
      "   - -------------------------------------- 0.6/16.4 MB 4.9 MB/s eta 0:00:04\n",
      "   -- ------------------------------------- 1.2/16.4 MB 6.8 MB/s eta 0:00:03\n",
      "   ---- ----------------------------------- 1.7/16.4 MB 7.8 MB/s eta 0:00:02\n",
      "   ----- ---------------------------------- 2.1/16.4 MB 8.0 MB/s eta 0:00:02\n",
      "   ------ --------------------------------- 2.6/16.4 MB 8.3 MB/s eta 0:00:02\n",
      "   ------- -------------------------------- 3.2/16.4 MB 8.8 MB/s eta 0:00:02\n",
      "   --------- ------------------------------ 3.7/16.4 MB 9.5 MB/s eta 0:00:02\n",
      "   ---------- ----------------------------- 4.3/16.4 MB 9.4 MB/s eta 0:00:02\n",
      "   ----------- ---------------------------- 4.8/16.4 MB 9.9 MB/s eta 0:00:02\n",
      "   ------------- -------------------------- 5.6/16.4 MB 10.5 MB/s eta 0:00:02\n",
      "   --------------- ------------------------ 6.4/16.4 MB 11.1 MB/s eta 0:00:01\n",
      "   ------------------ --------------------- 7.4/16.4 MB 11.8 MB/s eta 0:00:01\n",
      "   -------------------- ------------------- 8.4/16.4 MB 12.6 MB/s eta 0:00:01\n",
      "   ----------------------- ---------------- 9.5/16.4 MB 13.2 MB/s eta 0:00:01\n",
      "   ------------------------- -------------- 10.3/16.4 MB 14.6 MB/s eta 0:00:01\n",
      "   --------------------------- ------------ 11.3/16.4 MB 15.6 MB/s eta 0:00:01\n",
      "   ----------------------------- ---------- 12.0/16.4 MB 16.4 MB/s eta 0:00:01\n",
      "   ------------------------------- -------- 12.9/16.4 MB 17.7 MB/s eta 0:00:01\n",
      "   ---------------------------------- ----- 14.0/16.4 MB 18.7 MB/s eta 0:00:01\n",
      "   ------------------------------------ --- 15.1/16.4 MB 20.5 MB/s eta 0:00:01\n",
      "   -------------------------------------- - 15.7/16.4 MB 20.5 MB/s eta 0:00:01\n",
      "   -------------------------------------- - 15.9/16.4 MB 18.7 MB/s eta 0:00:01\n",
      "   ---------------------------------------  16.4/16.4 MB 19.3 MB/s eta 0:00:01\n",
      "   ---------------------------------------  16.4/16.4 MB 19.3 MB/s eta 0:00:01\n",
      "   ---------------------------------------  16.4/16.4 MB 19.3 MB/s eta 0:00:01\n",
      "   ---------------------------------------  16.4/16.4 MB 19.3 MB/s eta 0:00:01\n",
      "   ---------------------------------------  16.4/16.4 MB 19.3 MB/s eta 0:00:01\n",
      "   ---------------------------------------- 16.4/16.4 MB 13.6 MB/s eta 0:00:00\n",
      "Downloading tenacity-8.3.0-py3-none-any.whl (25 kB)\n",
      "Installing collected packages: tenacity, plotly\n",
      "Successfully installed plotly-5.22.0 tenacity-8.3.0\n"
     ]
    }
   ],
   "source": [
    "import sys\n",
    "!{sys.executable} -m pip install gpxpy\n",
    "!{sys.executable} -m pip install osmnx\n",
    "!{sys.executable} -m pip install networkx\n",
    "!{sys.executable} -m pip install pyproj==3.2.1\n",
    "!{sys.executable} -m pip install geopandas\n",
    "!{sys.executable} -m pip install plotly"
   ]
  },
  {
   "cell_type": "code",
   "execution_count": null,
   "metadata": {},
   "outputs": [],
   "source": [
    "pip show pyproj osmnx networkx geopandas"
   ]
  },
  {
   "cell_type": "code",
   "execution_count": 7,
   "metadata": {},
   "outputs": [],
   "source": [
    "import gpxpy\n",
    "\n",
    "# Cargar el archivo GPX\n",
    "with open('ruta.gpx', 'r') as gpx_file:\n",
    "    gpx = gpxpy.parse(gpx_file)\n",
    "\n",
    "# Extraer los puntos del track\n",
    "points = []\n",
    "for track in gpx.tracks:\n",
    "    for segment in track.segments:\n",
    "        for point in segment.points:\n",
    "            points.append((point.latitude, point.longitude))"
   ]
  },
  {
   "cell_type": "code",
   "execution_count": 15,
   "metadata": {},
   "outputs": [
    {
     "name": "stdout",
     "output_type": "stream",
     "text": [
      "Error fetching OSM data for point (39.839579, -0.371577): Connectivity is undefined for the null graph.\n",
      "Error fetching OSM data for point (39.840378, -0.372854): Found no graph nodes within the requested polygon\n",
      "Error fetching OSM data for point (39.840903, -0.375454): Found no graph nodes within the requested polygon\n",
      "Error fetching OSM data for point (39.841439, -0.3765): Found no graph nodes within the requested polygon\n",
      "Error fetching OSM data for point (39.84266, -0.381716): Connectivity is undefined for the null graph.\n",
      "Error fetching OSM data for point (39.84576, -0.384149): Connectivity is undefined for the null graph.\n",
      "Error fetching OSM data for point (39.84776, -0.384148): Found no graph nodes within the requested polygon\n",
      "Error fetching OSM data for point (39.850793, -0.38707): Connectivity is undefined for the null graph.\n",
      "Error fetching OSM data for point (39.852116, -0.39245): Found no graph nodes within the requested polygon\n",
      "Error fetching OSM data for point (39.851318, -0.395229): Found no graph nodes within the requested polygon\n",
      "Error fetching OSM data for point (39.852383, -0.396562): Found no graph nodes within the requested polygon\n",
      "Error fetching OSM data for point (39.852403, -0.397833): Found no graph nodes within the requested polygon\n",
      "Error fetching OSM data for point (39.85365, -0.401344): Connectivity is undefined for the null graph.\n",
      "Error fetching OSM data for point (39.855608, -0.403122): Found no graph nodes within the requested polygon\n",
      "Error fetching OSM data for point (39.856582, -0.404537): Connectivity is undefined for the null graph.\n",
      "Error fetching OSM data for point (39.856677, -0.405869): Found no graph nodes within the requested polygon\n",
      "Error fetching OSM data for point (39.855745, -0.406025): Connectivity is undefined for the null graph.\n",
      "Error fetching OSM data for point (39.855595, -0.406502): Connectivity is undefined for the null graph.\n",
      "Error fetching OSM data for point (39.860673, -0.408288): Connectivity is undefined for the null graph.\n",
      "Error fetching OSM data for point (39.860926, -0.408134): Connectivity is undefined for the null graph.\n",
      "Error fetching OSM data for point (39.860705, -0.408279): Connectivity is undefined for the null graph.\n",
      "Error fetching OSM data for point (39.862336, -0.409186): Found no graph nodes within the requested polygon\n",
      "Error fetching OSM data for point (39.86398, -0.409198): Found no graph nodes within the requested polygon\n",
      "Error fetching OSM data for point (39.864404, -0.409568): Found no graph nodes within the requested polygon\n",
      "Error fetching OSM data for point (39.864804, -0.409258): Found no graph nodes within the requested polygon\n",
      "Error fetching OSM data for point (39.864913, -0.41012): Found no graph nodes within the requested polygon\n",
      "Error fetching OSM data for point (39.865376, -0.409989): Found no graph nodes within the requested polygon\n",
      "Error fetching OSM data for point (39.867483, -0.411812): Connectivity is undefined for the null graph.\n",
      "Error fetching OSM data for point (39.873571, -0.413781): Found no graph nodes within the requested polygon\n",
      "Error fetching OSM data for point (39.872989, -0.413958): Found no graph nodes within the requested polygon\n",
      "Error fetching OSM data for point (39.87279, -0.414996): Connectivity is undefined for the null graph.\n",
      "Error fetching OSM data for point (39.87347, -0.414774): Connectivity is undefined for the null graph.\n",
      "Error fetching OSM data for point (39.872982, -0.41752): Found no graph nodes within the requested polygon\n",
      "Error fetching OSM data for point (39.874053, -0.416457): Connectivity is undefined for the null graph.\n",
      "Error fetching OSM data for point (39.874466, -0.41615): Connectivity is undefined for the null graph.\n",
      "Error fetching OSM data for point (39.874199, -0.416792): Connectivity is undefined for the null graph.\n",
      "Error fetching OSM data for point (39.87542, -0.416319): Found no graph nodes within the requested polygon\n",
      "Error fetching OSM data for point (39.877692, -0.416508): Connectivity is undefined for the null graph.\n",
      "Error fetching OSM data for point (39.878486, -0.417221): Found no graph nodes within the requested polygon\n",
      "Error fetching OSM data for point (39.879567, -0.417138): Connectivity is undefined for the null graph.\n",
      "Error fetching OSM data for point (39.878664, -0.417666): Found no graph nodes within the requested polygon\n",
      "Error fetching OSM data for point (39.877218, -0.417532): Connectivity is undefined for the null graph.\n",
      "Error fetching OSM data for point (39.8785, -0.417693): Found no graph nodes within the requested polygon\n",
      "Error fetching OSM data for point (39.879635, -0.417119): Connectivity is undefined for the null graph.\n",
      "Error fetching OSM data for point (39.88102, -0.417565): Found no graph nodes within the requested polygon\n",
      "Error fetching OSM data for point (39.88222, -0.416614): Found no graph nodes within the requested polygon\n",
      "Error fetching OSM data for point (39.883725, -0.417878): Found no graph nodes within the requested polygon\n",
      "Error fetching OSM data for point (39.884379, -0.417974): Found no graph nodes within the requested polygon\n",
      "Error fetching OSM data for point (39.884615, -0.41855): Found no graph nodes within the requested polygon\n",
      "Error fetching OSM data for point (39.885049, -0.417847): Found no graph nodes within the requested polygon\n",
      "Error fetching OSM data for point (39.88496, -0.418464): Found no graph nodes within the requested polygon\n",
      "Error fetching OSM data for point (39.886209, -0.419624): Connectivity is undefined for the null graph.\n",
      "Error fetching OSM data for point (39.88638, -0.419227): Connectivity is undefined for the null graph.\n",
      "Error fetching OSM data for point (39.886856, -0.419474): Connectivity is undefined for the null graph.\n",
      "Error fetching OSM data for point (39.889163, -0.418971): Connectivity is undefined for the null graph.\n",
      "Error fetching OSM data for point (39.889568, -0.418552): Connectivity is undefined for the null graph.\n",
      "Error fetching OSM data for point (39.889523, -0.41707): Connectivity is undefined for the null graph.\n",
      "Error fetching OSM data for point (39.890005, -0.416472): Connectivity is undefined for the null graph.\n",
      "Error fetching OSM data for point (39.892117, -0.415695): Found no graph nodes within the requested polygon\n",
      "Error fetching OSM data for point (39.893559, -0.414516): Found no graph nodes within the requested polygon\n",
      "Error fetching OSM data for point (39.894315, -0.411262): Found no graph nodes within the requested polygon\n",
      "Error fetching OSM data for point (39.894008, -0.411622): Found no graph nodes within the requested polygon\n",
      "Error fetching OSM data for point (39.894045, -0.411205): Found no graph nodes within the requested polygon\n",
      "Error fetching OSM data for point (39.89371, -0.411536): Found no graph nodes within the requested polygon\n",
      "Error fetching OSM data for point (39.893684, -0.410643): Found no graph nodes within the requested polygon\n",
      "Error fetching OSM data for point (39.893294, -0.410349): Found no graph nodes within the requested polygon\n",
      "Error fetching OSM data for point (39.893115, -0.409229): Found no graph nodes within the requested polygon\n",
      "Error fetching OSM data for point (39.892647, -0.408737): Found no graph nodes within the requested polygon\n",
      "Error fetching OSM data for point (39.8929, -0.4063): Connectivity is undefined for the null graph.\n",
      "Error fetching OSM data for point (39.893577, -0.406118): Connectivity is undefined for the null graph.\n",
      "Error fetching OSM data for point (39.895847, -0.403987): Connectivity is undefined for the null graph.\n",
      "Error fetching OSM data for point (39.898416, -0.39822): Found no graph nodes within the requested polygon\n",
      "Error fetching OSM data for point (39.899074, -0.397089): Connectivity is undefined for the null graph.\n",
      "Error fetching OSM data for point (39.89952, -0.397313): Found no graph nodes within the requested polygon\n",
      "Error fetching OSM data for point (39.899592, -0.395933): Connectivity is undefined for the null graph.\n",
      "Error fetching OSM data for point (39.899095, -0.39601): Connectivity is undefined for the null graph.\n",
      "Error fetching OSM data for point (39.898432, -0.394689): Found no graph nodes within the requested polygon\n",
      "Error fetching OSM data for point (39.898796, -0.393953): Found no graph nodes within the requested polygon\n",
      "Error fetching OSM data for point (39.89917, -0.39456): Found no graph nodes within the requested polygon\n",
      "Error fetching OSM data for point (39.899076, -0.393426): Found no graph nodes within the requested polygon\n",
      "Error fetching OSM data for point (39.898638, -0.393138): Found no graph nodes within the requested polygon\n",
      "Error fetching OSM data for point (39.899749, -0.391943): Connectivity is undefined for the null graph.\n",
      "Error fetching OSM data for point (39.899207, -0.390353): Connectivity is undefined for the null graph.\n",
      "Error fetching OSM data for point (39.899714, -0.387002): Found no graph nodes within the requested polygon\n",
      "Error fetching OSM data for point (39.899461, -0.385151): Connectivity is undefined for the null graph.\n",
      "Error fetching OSM data for point (39.900841, -0.386187): Found no graph nodes within the requested polygon\n",
      "Error fetching OSM data for point (39.901855, -0.385267): Found no graph nodes within the requested polygon\n",
      "Error fetching OSM data for point (39.902057, -0.386405): Found no graph nodes within the requested polygon\n",
      "Error fetching OSM data for point (39.901744, -0.388038): Connectivity is undefined for the null graph.\n",
      "Error fetching OSM data for point (39.902487, -0.389177): Found no graph nodes within the requested polygon\n",
      "Error fetching OSM data for point (39.903718, -0.388494): Found no graph nodes within the requested polygon\n",
      "Error fetching OSM data for point (39.904462, -0.391036): Found no graph nodes within the requested polygon\n",
      "Error fetching OSM data for point (39.905478, -0.392546): Found no graph nodes within the requested polygon\n",
      "Error fetching OSM data for point (39.906128, -0.392529): Found no graph nodes within the requested polygon\n",
      "Error fetching OSM data for point (39.907714, -0.392931): Connectivity is undefined for the null graph.\n",
      "Error fetching OSM data for point (39.908486, -0.394634): Connectivity is undefined for the null graph.\n",
      "Error fetching OSM data for point (39.90996, -0.396191): Found no graph nodes within the requested polygon\n",
      "Error fetching OSM data for point (39.910553, -0.39697): Found no graph nodes within the requested polygon\n",
      "Error fetching OSM data for point (39.911543, -0.39623): Found no graph nodes within the requested polygon\n",
      "Error fetching OSM data for point (39.911419, -0.395506): Found no graph nodes within the requested polygon\n",
      "Error fetching OSM data for point (39.91073, -0.394655): Found no graph nodes within the requested polygon\n",
      "Error fetching OSM data for point (39.911327, -0.391928): Connectivity is undefined for the null graph.\n",
      "Error fetching OSM data for point (39.91254, -0.391839): Found no graph nodes within the requested polygon\n",
      "Error fetching OSM data for point (39.914996, -0.389492): Connectivity is undefined for the null graph.\n",
      "Error fetching OSM data for point (39.917262, -0.387102): Connectivity is undefined for the null graph.\n",
      "Error fetching OSM data for point (39.917329, -0.386427): Connectivity is undefined for the null graph.\n",
      "Error fetching OSM data for point (39.918378, -0.385774): Connectivity is undefined for the null graph.\n",
      "Error fetching OSM data for point (39.91829, -0.386056): Connectivity is undefined for the null graph.\n",
      "Error fetching OSM data for point (39.919643, -0.385607): Found no graph nodes within the requested polygon\n",
      "Error fetching OSM data for point (39.918991, -0.386323): Found no graph nodes within the requested polygon\n",
      "Error fetching OSM data for point (39.919922, -0.387145): Found no graph nodes within the requested polygon\n",
      "Error fetching OSM data for point (39.921598, -0.387098): Found no graph nodes within the requested polygon\n",
      "Error fetching OSM data for point (39.921588, -0.387534): Found no graph nodes within the requested polygon\n",
      "Error fetching OSM data for point (39.921983, -0.387547): Found no graph nodes within the requested polygon\n",
      "Error fetching OSM data for point (39.922151, -0.38879): Connectivity is undefined for the null graph.\n",
      "Error fetching OSM data for point (39.921745, -0.389032): Found no graph nodes within the requested polygon\n",
      "Error fetching OSM data for point (39.922097, -0.392416): Found no graph nodes within the requested polygon\n",
      "Error fetching OSM data for point (39.921276, -0.394129): Connectivity is undefined for the null graph.\n",
      "Error fetching OSM data for point (39.922108, -0.394593): Connectivity is undefined for the null graph.\n",
      "Error fetching OSM data for point (39.921679, -0.395603): Connectivity is undefined for the null graph.\n",
      "Error fetching OSM data for point (39.922158, -0.396404): Found no graph nodes within the requested polygon\n",
      "Error fetching OSM data for point (39.923447, -0.397229): Found no graph nodes within the requested polygon\n",
      "Error fetching OSM data for point (39.923714, -0.39805): Found no graph nodes within the requested polygon\n",
      "Error fetching OSM data for point (39.924314, -0.398111): Found no graph nodes within the requested polygon\n",
      "Error fetching OSM data for point (39.924924, -0.397219): Found no graph nodes within the requested polygon\n",
      "Error fetching OSM data for point (39.926782, -0.39843): Connectivity is undefined for the null graph.\n",
      "Error fetching OSM data for point (39.927806, -0.399254): Connectivity is undefined for the null graph.\n",
      "Error fetching OSM data for point (39.925428, -0.39377): Found no graph nodes within the requested polygon\n",
      "Error fetching OSM data for point (39.925864, -0.3931): Connectivity is undefined for the null graph.\n",
      "Error fetching OSM data for point (39.924837, -0.38663): Found no graph nodes within the requested polygon\n",
      "Error fetching OSM data for point (39.923462, -0.383878): Connectivity is undefined for the null graph.\n",
      "Error fetching OSM data for point (39.922682, -0.384106): Connectivity is undefined for the null graph.\n",
      "Error fetching OSM data for point (39.922967, -0.382511): Found no graph nodes within the requested polygon\n",
      "Error fetching OSM data for point (39.922813, -0.38103): Found no graph nodes within the requested polygon\n",
      "Error fetching OSM data for point (39.923452, -0.378427): Found no graph nodes within the requested polygon\n",
      "Error fetching OSM data for point (39.924198, -0.377521): Found no graph nodes within the requested polygon\n",
      "Error fetching OSM data for point (39.924514, -0.37306): Found no graph nodes within the requested polygon\n",
      "Error fetching OSM data for point (39.924079, -0.372392): Found no graph nodes within the requested polygon\n",
      "Error fetching OSM data for point (39.923166, -0.36812): Found no graph nodes within the requested polygon\n",
      "Error fetching OSM data for point (39.922425, -0.367843): Found no graph nodes within the requested polygon\n",
      "Error fetching OSM data for point (39.912774, -0.352596): Found no graph nodes within the requested polygon\n",
      "Error fetching OSM data for point (39.912228, -0.352608): Found no graph nodes within the requested polygon\n",
      "Error fetching OSM data for point (39.913073, -0.357966): Connectivity is undefined for the null graph.\n",
      "Error fetching OSM data for point (39.912786, -0.358886): Found no graph nodes within the requested polygon\n",
      "Error fetching OSM data for point (39.910195, -0.356748): Connectivity is undefined for the null graph.\n",
      "Error fetching OSM data for point (39.908335, -0.356644): Connectivity is undefined for the null graph.\n",
      "Error fetching OSM data for point (39.907948, -0.355892): Found no graph nodes within the requested polygon\n",
      "Error fetching OSM data for point (39.905379, -0.356027): Found no graph nodes within the requested polygon\n",
      "Error fetching OSM data for point (39.905971, -0.354727): Found no graph nodes within the requested polygon\n",
      "Error fetching OSM data for point (39.904553, -0.348251): Found no graph nodes within the requested polygon\n",
      "Error fetching OSM data for point (39.895377, -0.342655): Connectivity is undefined for the null graph.\n",
      "Error fetching OSM data for point (39.894945, -0.343945): Connectivity is undefined for the null graph.\n",
      "Error fetching OSM data for point (39.887785, -0.346244): Connectivity is undefined for the null graph.\n",
      "Error fetching OSM data for point (39.885698, -0.346923): Connectivity is undefined for the null graph.\n",
      "Error fetching OSM data for point (39.885102, -0.34576): Found no graph nodes within the requested polygon\n",
      "Error fetching OSM data for point (39.883538, -0.344348): Connectivity is undefined for the null graph.\n",
      "Error fetching OSM data for point (39.885968, -0.344851): Found no graph nodes within the requested polygon\n",
      "Error fetching OSM data for point (39.884392, -0.343312): Found no graph nodes within the requested polygon\n",
      "Error fetching OSM data for point (39.885733, -0.343424): Connectivity is undefined for the null graph.\n",
      "Error fetching OSM data for point (39.8868, -0.344195): Connectivity is undefined for the null graph.\n",
      "Error fetching OSM data for point (39.888008, -0.342515): Found no graph nodes within the requested polygon\n",
      "Error fetching OSM data for point (39.888688, -0.342259): Found no graph nodes within the requested polygon\n",
      "Error fetching OSM data for point (39.888894, -0.341493): Found no graph nodes within the requested polygon\n",
      "Error fetching OSM data for point (39.890714, -0.340761): Connectivity is undefined for the null graph.\n",
      "Error fetching OSM data for point (39.8912, -0.341048): Connectivity is undefined for the null graph.\n",
      "Error fetching OSM data for point (39.892213, -0.339848): Connectivity is undefined for the null graph.\n",
      "Error fetching OSM data for point (39.891096, -0.340395): Connectivity is undefined for the null graph.\n",
      "Error fetching OSM data for point (39.888078, -0.340085): Found no graph nodes within the requested polygon\n",
      "Error fetching OSM data for point (39.886838, -0.340516): Found no graph nodes within the requested polygon\n",
      "Error fetching OSM data for point (39.886427, -0.341057): Found no graph nodes within the requested polygon\n",
      "Error fetching OSM data for point (39.88571, -0.341013): Found no graph nodes within the requested polygon\n",
      "Error fetching OSM data for point (39.885063, -0.340106): Found no graph nodes within the requested polygon\n",
      "Error fetching OSM data for point (39.884395, -0.34033): Found no graph nodes within the requested polygon\n",
      "Error fetching OSM data for point (39.883975, -0.339807): Found no graph nodes within the requested polygon\n",
      "Error fetching OSM data for point (39.882967, -0.339881): Found no graph nodes within the requested polygon\n",
      "Error fetching OSM data for point (39.882339, -0.340399): Found no graph nodes within the requested polygon\n",
      "Error fetching OSM data for point (39.881915, -0.336276): Found no graph nodes within the requested polygon\n",
      "Error fetching OSM data for point (39.882222, -0.335245): Found no graph nodes within the requested polygon\n",
      "Error fetching OSM data for point (39.883427, -0.334553): Found no graph nodes within the requested polygon\n",
      "Error fetching OSM data for point (39.882521, -0.332697): Found no graph nodes within the requested polygon\n",
      "Error fetching OSM data for point (39.88255, -0.333422): Found no graph nodes within the requested polygon\n",
      "Error fetching OSM data for point (39.882182, -0.332999): Found no graph nodes within the requested polygon\n",
      "Error fetching OSM data for point (39.882269, -0.332315): Found no graph nodes within the requested polygon\n",
      "Error fetching OSM data for point (39.88316, -0.331791): Found no graph nodes within the requested polygon\n",
      "Error fetching OSM data for point (39.882355, -0.329519): Found no graph nodes within the requested polygon\n",
      "Error fetching OSM data for point (39.882832, -0.328627): Found no graph nodes within the requested polygon\n",
      "Error fetching OSM data for point (39.884422, -0.327628): Connectivity is undefined for the null graph.\n",
      "Error fetching OSM data for point (39.884153, -0.324058): Found no graph nodes within the requested polygon\n",
      "Error fetching OSM data for point (39.884524, -0.322731): Connectivity is undefined for the null graph.\n",
      "Error fetching OSM data for point (39.886198, -0.323153): Found no graph nodes within the requested polygon\n",
      "Error fetching OSM data for point (39.883768, -0.320373): Connectivity is undefined for the null graph.\n",
      "Error fetching OSM data for point (39.884002, -0.320381): Connectivity is undefined for the null graph.\n",
      "Error fetching OSM data for point (39.883475, -0.319687): Found no graph nodes within the requested polygon\n",
      "Error fetching OSM data for point (39.884258, -0.316753): Found no graph nodes within the requested polygon\n",
      "Error fetching OSM data for point (39.884594, -0.316588): Found no graph nodes within the requested polygon\n",
      "Error fetching OSM data for point (39.88415, -0.31621): Found no graph nodes within the requested polygon\n",
      "Error fetching OSM data for point (39.884469, -0.316247): Found no graph nodes within the requested polygon\n",
      "Error fetching OSM data for point (39.884221, -0.315277): Found no graph nodes within the requested polygon\n",
      "Error fetching OSM data for point (39.884732, -0.315756): Found no graph nodes within the requested polygon\n",
      "Error fetching OSM data for point (39.884644, -0.31499): Connectivity is undefined for the null graph.\n",
      "Error fetching OSM data for point (39.884067, -0.314457): Connectivity is undefined for the null graph.\n",
      "Error fetching OSM data for point (39.884908, -0.314723): Connectivity is undefined for the null graph.\n",
      "Error fetching OSM data for point (39.884965, -0.315378): Found no graph nodes within the requested polygon\n",
      "Error fetching OSM data for point (39.885666, -0.315848): Connectivity is undefined for the null graph.\n",
      "Error fetching OSM data for point (39.885836, -0.31656): Connectivity is undefined for the null graph.\n",
      "Error fetching OSM data for point (39.885767, -0.315453): Connectivity is undefined for the null graph.\n",
      "Error fetching OSM data for point (39.885251, -0.314302): Connectivity is undefined for the null graph.\n",
      "Error fetching OSM data for point (39.884411, -0.313894): Connectivity is undefined for the null graph.\n",
      "Error fetching OSM data for point (39.881559, -0.310521): Connectivity is undefined for the null graph.\n",
      "Error fetching OSM data for point (39.875312, -0.310447): Connectivity is undefined for the null graph.\n",
      "Error fetching OSM data for point (39.875729, -0.30892): Found no graph nodes within the requested polygon\n",
      "Error fetching OSM data for point (39.875524, -0.307525): Found no graph nodes within the requested polygon\n",
      "Error fetching OSM data for point (39.874789, -0.30696): Found no graph nodes within the requested polygon\n",
      "Error fetching OSM data for point (39.873872, -0.307294): Found no graph nodes within the requested polygon\n",
      "Error fetching OSM data for point (39.873973, -0.306854): Found no graph nodes within the requested polygon\n",
      "Error fetching OSM data for point (39.871834, -0.304432): Found no graph nodes within the requested polygon\n",
      "Error fetching OSM data for point (39.871662, -0.303766): Found no graph nodes within the requested polygon\n",
      "Error fetching OSM data for point (39.872049, -0.303094): Found no graph nodes within the requested polygon\n",
      "Error fetching OSM data for point (39.871726, -0.302467): Found no graph nodes within the requested polygon\n",
      "Error fetching OSM data for point (39.869976, -0.301998): Found no graph nodes within the requested polygon\n",
      "Error fetching OSM data for point (39.870009, -0.300214): Found no graph nodes within the requested polygon\n",
      "Error fetching OSM data for point (39.868828, -0.299981): Connectivity is undefined for the null graph.\n",
      "Error fetching OSM data for point (39.868674, -0.299338): Connectivity is undefined for the null graph.\n",
      "Error fetching OSM data for point (39.868548, -0.299728): Connectivity is undefined for the null graph.\n",
      "Error fetching OSM data for point (39.868942, -0.300383): Connectivity is undefined for the null graph.\n",
      "Error fetching OSM data for point (39.869653, -0.300622): Found no graph nodes within the requested polygon\n",
      "Error fetching OSM data for point (39.869216, -0.302287): Found no graph nodes within the requested polygon\n",
      "Error fetching OSM data for point (39.870268, -0.303665): Found no graph nodes within the requested polygon\n",
      "Error fetching OSM data for point (39.870305, -0.304524): Found no graph nodes within the requested polygon\n",
      "Error fetching OSM data for point (39.870307, -0.308719): Found no graph nodes within the requested polygon\n",
      "Error fetching OSM data for point (39.870299, -0.309728): Found no graph nodes within the requested polygon\n",
      "Error fetching OSM data for point (39.869509, -0.312737): Found no graph nodes within the requested polygon\n",
      "Error fetching OSM data for point (39.868542, -0.312937): Found no graph nodes within the requested polygon\n",
      "Error fetching OSM data for point (39.86739, -0.314502): Connectivity is undefined for the null graph.\n",
      "Error fetching OSM data for point (39.866647, -0.315055): Connectivity is undefined for the null graph.\n",
      "Error fetching OSM data for point (39.864717, -0.31799): Connectivity is undefined for the null graph.\n",
      "Error fetching OSM data for point (39.865468, -0.319584): Connectivity is undefined for the null graph.\n",
      "Error fetching OSM data for point (39.865284, -0.320447): Connectivity is undefined for the null graph.\n",
      "Error fetching OSM data for point (39.867128, -0.32367): Found no graph nodes within the requested polygon\n",
      "Error fetching OSM data for point (39.867286, -0.323164): Found no graph nodes within the requested polygon\n",
      "Error fetching OSM data for point (39.868553, -0.323285): Found no graph nodes within the requested polygon\n",
      "Error fetching OSM data for point (39.869198, -0.323737): Found no graph nodes within the requested polygon\n",
      "Error fetching OSM data for point (39.869367, -0.322358): Found no graph nodes within the requested polygon\n",
      "Error fetching OSM data for point (39.868763, -0.321071): Found no graph nodes within the requested polygon\n",
      "Error fetching OSM data for point (39.869757, -0.321447): Found no graph nodes within the requested polygon\n",
      "Error fetching OSM data for point (39.870313, -0.325402): Connectivity is undefined for the null graph.\n",
      "Error fetching OSM data for point (39.870123, -0.325802): Connectivity is undefined for the null graph.\n",
      "Error fetching OSM data for point (39.869621, -0.325726): Connectivity is undefined for the null graph.\n",
      "Error fetching OSM data for point (39.870093, -0.326207): Connectivity is undefined for the null graph.\n",
      "Error fetching OSM data for point (39.871131, -0.323437): Found no graph nodes within the requested polygon\n",
      "Error fetching OSM data for point (39.871129, -0.323497): Found no graph nodes within the requested polygon\n",
      "Error fetching OSM data for point (39.869979, -0.326219): Connectivity is undefined for the null graph.\n",
      "Error fetching OSM data for point (39.869576, -0.325779): Connectivity is undefined for the null graph.\n",
      "Error fetching OSM data for point (39.870194, -0.325717): Connectivity is undefined for the null graph.\n",
      "Error fetching OSM data for point (39.870229, -0.324322): Found no graph nodes within the requested polygon\n",
      "Error fetching OSM data for point (39.869684, -0.32139): Found no graph nodes within the requested polygon\n",
      "Error fetching OSM data for point (39.868913, -0.321016): Found no graph nodes within the requested polygon\n",
      "Error fetching OSM data for point (39.86884, -0.321467): Found no graph nodes within the requested polygon\n",
      "Error fetching OSM data for point (39.869385, -0.32233): Found no graph nodes within the requested polygon\n",
      "Error fetching OSM data for point (39.869247, -0.323754): Found no graph nodes within the requested polygon\n",
      "Error fetching OSM data for point (39.867559, -0.323069): Found no graph nodes within the requested polygon\n",
      "Error fetching OSM data for point (39.866324, -0.326295): Found no graph nodes within the requested polygon\n",
      "Error fetching OSM data for point (39.867379, -0.326489): Found no graph nodes within the requested polygon\n",
      "Error fetching OSM data for point (39.868184, -0.327609): Found no graph nodes within the requested polygon\n",
      "Error fetching OSM data for point (39.868628, -0.329302): Found no graph nodes within the requested polygon\n",
      "Error fetching OSM data for point (39.869588, -0.329487): Found no graph nodes within the requested polygon\n",
      "Error fetching OSM data for point (39.869515, -0.330336): Found no graph nodes within the requested polygon\n",
      "Error fetching OSM data for point (39.868732, -0.331398): Connectivity is undefined for the null graph.\n",
      "Error fetching OSM data for point (39.868878, -0.33249): Connectivity is undefined for the null graph.\n",
      "Error fetching OSM data for point (39.870736, -0.332342): Found no graph nodes within the requested polygon\n",
      "Error fetching OSM data for point (39.870495, -0.333949): Found no graph nodes within the requested polygon\n",
      "Error fetching OSM data for point (39.87121, -0.33576): Found no graph nodes within the requested polygon\n",
      "Error fetching OSM data for point (39.871651, -0.337364): Found no graph nodes within the requested polygon\n",
      "Error fetching OSM data for point (39.871417, -0.33779): Found no graph nodes within the requested polygon\n",
      "Error fetching OSM data for point (39.871562, -0.338888): Found no graph nodes within the requested polygon\n",
      "Error fetching OSM data for point (39.870968, -0.33887): Found no graph nodes within the requested polygon\n",
      "Error fetching OSM data for point (39.867539, -0.336036): Found no graph nodes within the requested polygon\n",
      "Error fetching OSM data for point (39.866127, -0.336795): Connectivity is undefined for the null graph.\n",
      "Error fetching OSM data for point (39.864294, -0.335974): Found no graph nodes within the requested polygon\n",
      "Error fetching OSM data for point (39.86399, -0.335279): Found no graph nodes within the requested polygon\n",
      "Error fetching OSM data for point (39.862653, -0.335627): Connectivity is undefined for the null graph.\n",
      "Error fetching OSM data for point (39.862219, -0.335197): Connectivity is undefined for the null graph.\n",
      "Error fetching OSM data for point (39.860565, -0.335727): Connectivity is undefined for the null graph.\n",
      "Error fetching OSM data for point (39.861027, -0.338508): Found no graph nodes within the requested polygon\n",
      "Error fetching OSM data for point (39.86035, -0.339764): Found no graph nodes within the requested polygon\n",
      "Error fetching OSM data for point (39.860269, -0.341249): Found no graph nodes within the requested polygon\n",
      "Error fetching OSM data for point (39.859567, -0.341426): Found no graph nodes within the requested polygon\n",
      "Error fetching OSM data for point (39.858804, -0.342866): Found no graph nodes within the requested polygon\n",
      "Error fetching OSM data for point (39.859989, -0.342037): Found no graph nodes within the requested polygon\n",
      "Error fetching OSM data for point (39.86142, -0.343133): Found no graph nodes within the requested polygon\n",
      "Error fetching OSM data for point (39.862036, -0.34473): Found no graph nodes within the requested polygon\n",
      "Error fetching OSM data for point (39.862653, -0.343586): Found no graph nodes within the requested polygon\n",
      "Error fetching OSM data for point (39.863355, -0.343267): Found no graph nodes within the requested polygon\n",
      "Error fetching OSM data for point (39.864237, -0.343482): Found no graph nodes within the requested polygon\n",
      "Error fetching OSM data for point (39.865221, -0.342674): Found no graph nodes within the requested polygon\n",
      "Error fetching OSM data for point (39.86635, -0.34532): Found no graph nodes within the requested polygon\n",
      "Error fetching OSM data for point (39.865738, -0.346254): Found no graph nodes within the requested polygon\n",
      "Error fetching OSM data for point (39.865768, -0.346905): Found no graph nodes within the requested polygon\n",
      "Error fetching OSM data for point (39.866313, -0.347589): Found no graph nodes within the requested polygon\n",
      "Error fetching OSM data for point (39.866898, -0.34748): Found no graph nodes within the requested polygon\n",
      "Error fetching OSM data for point (39.866712, -0.349215): Found no graph nodes within the requested polygon\n",
      "Error fetching OSM data for point (39.867483, -0.349513): Found no graph nodes within the requested polygon\n",
      "Error fetching OSM data for point (39.868874, -0.349259): Found no graph nodes within the requested polygon\n",
      "Error fetching OSM data for point (39.870708, -0.350022): Found no graph nodes within the requested polygon\n",
      "Error fetching OSM data for point (39.871972, -0.349745): Connectivity is undefined for the null graph.\n",
      "Error fetching OSM data for point (39.871521, -0.3509): Found no graph nodes within the requested polygon\n",
      "Error fetching OSM data for point (39.868993, -0.352138): Found no graph nodes within the requested polygon\n",
      "Error fetching OSM data for point (39.869059, -0.353344): Found no graph nodes within the requested polygon\n",
      "Error fetching OSM data for point (39.868744, -0.353626): Found no graph nodes within the requested polygon\n",
      "Error fetching OSM data for point (39.868713, -0.354299): Found no graph nodes within the requested polygon\n",
      "Error fetching OSM data for point (39.870611, -0.354383): Found no graph nodes within the requested polygon\n",
      "Error fetching OSM data for point (39.871144, -0.355167): Found no graph nodes within the requested polygon\n",
      "Error fetching OSM data for point (39.871888, -0.35544): Found no graph nodes within the requested polygon\n",
      "Error fetching OSM data for point (39.869203, -0.357596): Found no graph nodes within the requested polygon\n",
      "Error fetching OSM data for point (39.868791, -0.357781): Found no graph nodes within the requested polygon\n",
      "Error fetching OSM data for point (39.867254, -0.357181): Connectivity is undefined for the null graph.\n",
      "Error fetching OSM data for point (39.866963, -0.356601): Connectivity is undefined for the null graph.\n",
      "Error fetching OSM data for point (39.866111, -0.357185): Found no graph nodes within the requested polygon\n",
      "Error fetching OSM data for point (39.866822, -0.35619): Connectivity is undefined for the null graph.\n",
      "Error fetching OSM data for point (39.867687, -0.35639): Connectivity is undefined for the null graph.\n",
      "Error fetching OSM data for point (39.866065, -0.355049): Found no graph nodes within the requested polygon\n",
      "Error fetching OSM data for point (39.86604, -0.353944): Found no graph nodes within the requested polygon\n",
      "Error fetching OSM data for point (39.865212, -0.353502): Found no graph nodes within the requested polygon\n",
      "Error fetching OSM data for point (39.862944, -0.353909): Found no graph nodes within the requested polygon\n",
      "Error fetching OSM data for point (39.861016, -0.353438): Found no graph nodes within the requested polygon\n",
      "Error fetching OSM data for point (39.86065, -0.35371): Found no graph nodes within the requested polygon\n",
      "Error fetching OSM data for point (39.859401, -0.352344): Found no graph nodes within the requested polygon\n",
      "Error fetching OSM data for point (39.857589, -0.352618): Connectivity is undefined for the null graph.\n",
      "Error fetching OSM data for point (39.855199, -0.351764): Connectivity is undefined for the null graph.\n",
      "Error fetching OSM data for point (39.85542, -0.351566): Connectivity is undefined for the null graph.\n",
      "Error fetching OSM data for point (39.85253, -0.349681): Found no graph nodes within the requested polygon\n",
      "Error fetching OSM data for point (39.85048, -0.353143): Found no graph nodes within the requested polygon\n",
      "Error fetching OSM data for point (39.847973, -0.359963): Connectivity is undefined for the null graph.\n",
      "Error fetching OSM data for point (39.846797, -0.359545): Found no graph nodes within the requested polygon\n",
      "Error fetching OSM data for point (39.846241, -0.361152): Found no graph nodes within the requested polygon\n",
      "Error fetching OSM data for point (39.845586, -0.361826): Found no graph nodes within the requested polygon\n",
      "Error fetching OSM data for point (39.845201, -0.364452): Connectivity is undefined for the null graph.\n",
      "Error fetching OSM data for point (39.844127, -0.365263): Found no graph nodes within the requested polygon\n",
      "Error fetching OSM data for point (39.844024, -0.365723): Found no graph nodes within the requested polygon\n",
      "Error fetching OSM data for point (39.844519, -0.366902): Connectivity is undefined for the null graph.\n",
      "Error fetching OSM data for point (39.843516, -0.367472): Found no graph nodes within the requested polygon\n",
      "Error fetching OSM data for point (39.842734, -0.368952): Connectivity is undefined for the null graph.\n",
      "Error fetching OSM data for point (39.841274, -0.368669): Connectivity is undefined for the null graph.\n",
      "Error fetching OSM data for point (39.839503, -0.36771): Connectivity is undefined for the null graph.\n",
      "Error fetching OSM data for point (39.839074, -0.368045): Connectivity is undefined for the null graph.\n",
      "Error fetching OSM data for point (39.837883, -0.36856): Connectivity is undefined for the null graph.\n",
      "secondary: 22.08%\n",
      "unclassified: 3.25%\n",
      "track: 46.75%\n",
      "residential: 5.84%\n",
      "path: 14.94%\n",
      "service: 1.95%\n",
      "living_street: 5.19%\n",
      "Error fetching OSM data for point (39.884379, -0.417974): Connectivity is undefined for the null graph.\n",
      "Error fetching OSM data for point (39.923452, -0.378427): Connectivity is undefined for the null graph.\n",
      "Error fetching OSM data for point (39.924514, -0.37306): Connectivity is undefined for the null graph.\n",
      "Error fetching OSM data for point (39.858804, -0.342866): Connectivity is undefined for the null graph.\n",
      "Error fetching OSM data for point (39.859989, -0.342037): Connectivity is undefined for the null graph.\n",
      "Error fetching OSM data for point (39.86142, -0.343133): Connectivity is undefined for the null graph.\n",
      "Error fetching OSM data for point (39.862036, -0.34473): Connectivity is undefined for the null graph.\n",
      "Error fetching OSM data for point (39.862653, -0.343586): Connectivity is undefined for the null graph.\n",
      "Error fetching OSM data for point (39.863355, -0.343267): Connectivity is undefined for the null graph.\n",
      "Error fetching OSM data for point (39.864237, -0.343482): Connectivity is undefined for the null graph.\n",
      "Error fetching OSM data for point (39.865221, -0.342674): Connectivity is undefined for the null graph.\n",
      "Error fetching OSM data for point (39.86635, -0.34532): Connectivity is undefined for the null graph.\n",
      "Error fetching OSM data for point (39.865738, -0.346254): Connectivity is undefined for the null graph.\n",
      "Error fetching OSM data for point (39.865768, -0.346905): Connectivity is undefined for the null graph.\n",
      "Error fetching OSM data for point (39.866313, -0.347589): Connectivity is undefined for the null graph.\n",
      "Error fetching OSM data for point (39.866898, -0.34748): Connectivity is undefined for the null graph.\n",
      "Error fetching OSM data for point (39.866712, -0.349215): Connectivity is undefined for the null graph.\n",
      "Error fetching OSM data for point (39.867483, -0.349513): Connectivity is undefined for the null graph.\n",
      "Error fetching OSM data for point (39.871521, -0.3509): Connectivity is undefined for the null graph.\n",
      "Error fetching OSM data for point (39.865212, -0.353502): Connectivity is undefined for the null graph.\n"
     ]
    }
   ],
   "source": [
    "import gpxpy\n",
    "import osmnx as ox\n",
    "import networkx as nx\n",
    "from collections import Counter\n",
    "import folium\n",
    "import math\n",
    "\n",
    "\n",
    "# Load the GPX file\n",
    "with open('ruta.gpx', 'r') as gpx_file:\n",
    "    gpx = gpxpy.parse(gpx_file)\n",
    "\n",
    "# Extract points from the GPX track\n",
    "points = []\n",
    "for track in gpx.tracks:\n",
    "    for segment in track.segments:\n",
    "        for point in segment.points:\n",
    "            points.append((point.latitude, point.longitude))\n",
    "\n",
    "# Function to get road type for a given point\n",
    "def get_road_type(point, dist=500):  # Increase distance to 500 meters\n",
    "    try:\n",
    "        G = ox.graph_from_point(point, dist=dist, network_type='all')\n",
    "        if len(G) == 0:\n",
    "            raise nx.NetworkXPointlessConcept(\"Graph is empty.\")\n",
    "        for u, v, data in G.edges(data=True):\n",
    "            if 'highway' in data:\n",
    "                highway_type = data['highway']\n",
    "                if isinstance(highway_type, list):\n",
    "                    highway_type = highway_type[0]  # Take the first type if it's a list\n",
    "                return highway_type\n",
    "    except Exception as e:\n",
    "        print(f\"Error fetching OSM data for point {point}: {e}\")\n",
    "    return None\n",
    "\n",
    "# Get road types for each point\n",
    "road_types = []\n",
    "for point in points:\n",
    "    road_type = get_road_type(point,100)\n",
    "    if road_type:  # Only add if road_type is not None\n",
    "        road_types.append(road_type)\n",
    "\n",
    "# Count the occurrences of each road type\n",
    "road_type_counts = Counter(road_types)\n",
    "\n",
    "# Calculate the percentage of each road type\n",
    "total_points = len(road_types)\n",
    "road_type_percentages = {road_type: (count / total_points) * 100 for road_type, count in road_type_counts.items()}\n",
    "\n",
    "# Display the results\n",
    "for road_type, percentage in road_type_percentages.items():\n",
    "    print(f'{road_type}: {percentage:.2f}%')\n",
    "\n",
    "# Define a color mapping based on road difficulty\n",
    "road_color_map = {\n",
    "    'motorway': 'blue',\n",
    "    'trunk': 'blue',\n",
    "    'primary': 'blue',\n",
    "    'secondary': 'blue',\n",
    "    'tertiary': 'green',\n",
    "    'unclassified': 'gray',\n",
    "    'residential': 'yellow',\n",
    "    'service': 'lime',\n",
    "    'track': 'darkorange',\n",
    "    'path': 'red',\n",
    "    'footway': 'red',\n",
    "    'cycleway': 'red'\n",
    "}\n",
    "\n",
    "# Get road types for each point and store with coordinates\n",
    "track_data = []\n",
    "for point in points:\n",
    "    road_type = get_road_type(point)\n",
    "    if road_type:\n",
    "        color = road_color_map.get(road_type, 'black')  # Default to black if type not found\n",
    "        track_data.append((point[0], point[1], color))\n",
    "\n",
    "# Initialize the map at the center of the track\n",
    "map_center = [points[0][0], points[0][1]]\n",
    "mymap = folium.Map(location=map_center, zoom_start=14)\n",
    "\n",
    "# Add the track to the map\n",
    "for i in range(len(track_data) - 1):\n",
    "    folium.PolyLine(locations=[(track_data[i][0], track_data[i][1]), (track_data[i+1][0], track_data[i+1][1])], color=track_data[i][2], weight=5).add_to(mymap)\n",
    "\n",
    "# Save the map to an HTML file\n",
    "mymap.save('track_map.html')\n"
   ]
  },
  {
   "cell_type": "code",
   "execution_count": 14,
   "metadata": {},
   "outputs": [
    {
     "name": "stdout",
     "output_type": "stream",
     "text": [
      "Número total de curvas: 148\n",
      "Número de curvas cuesta abajo: 69\n",
      "Error fetching OSM data for point (39.884379, -0.417974): Connectivity is undefined for the null graph.\n",
      "Error fetching OSM data for point (39.923452, -0.378427): Connectivity is undefined for the null graph.\n",
      "Error fetching OSM data for point (39.924514, -0.37306): Connectivity is undefined for the null graph.\n",
      "Error fetching OSM data for point (39.858804, -0.342866): Connectivity is undefined for the null graph.\n",
      "Error fetching OSM data for point (39.859989, -0.342037): Connectivity is undefined for the null graph.\n",
      "Error fetching OSM data for point (39.86142, -0.343133): Connectivity is undefined for the null graph.\n",
      "Error fetching OSM data for point (39.862036, -0.34473): Connectivity is undefined for the null graph.\n",
      "Error fetching OSM data for point (39.862653, -0.343586): Connectivity is undefined for the null graph.\n",
      "Error fetching OSM data for point (39.863355, -0.343267): Connectivity is undefined for the null graph.\n",
      "Error fetching OSM data for point (39.864237, -0.343482): Connectivity is undefined for the null graph.\n",
      "Error fetching OSM data for point (39.865221, -0.342674): Connectivity is undefined for the null graph.\n",
      "Error fetching OSM data for point (39.86635, -0.34532): Connectivity is undefined for the null graph.\n",
      "Error fetching OSM data for point (39.865738, -0.346254): Connectivity is undefined for the null graph.\n",
      "Error fetching OSM data for point (39.865768, -0.346905): Connectivity is undefined for the null graph.\n",
      "Error fetching OSM data for point (39.866313, -0.347589): Connectivity is undefined for the null graph.\n",
      "Error fetching OSM data for point (39.866898, -0.34748): Connectivity is undefined for the null graph.\n",
      "Error fetching OSM data for point (39.866712, -0.349215): Connectivity is undefined for the null graph.\n",
      "Error fetching OSM data for point (39.867483, -0.349513): Connectivity is undefined for the null graph.\n",
      "Error fetching OSM data for point (39.871521, -0.3509): Connectivity is undefined for the null graph.\n",
      "Error fetching OSM data for point (39.865212, -0.353502): Connectivity is undefined for the null graph.\n"
     ]
    }
   ],
   "source": [
    "import gpxpy\n",
    "import osmnx as ox\n",
    "import networkx as nx\n",
    "import folium\n",
    "import math\n",
    "\n",
    "# Load the GPX file\n",
    "with open('ruta.gpx', 'r') as gpx_file:\n",
    "    gpx = gpxpy.parse(gpx_file)\n",
    "\n",
    "# Extract points and elevations from the GPX track\n",
    "points = []\n",
    "elevations = []\n",
    "for track in gpx.tracks:\n",
    "    for segment in track.segments:\n",
    "        for point in segment.points:\n",
    "            points.append((point.latitude, point.longitude))\n",
    "            elevations.append(point.elevation)\n",
    "\n",
    "def haversine(coord1, coord2):\n",
    "    # Calculate the great-circle distance between two points\n",
    "    # on the Earth's surface given their longitude and latitude.\n",
    "    R = 6371000  # radius of Earth in meters\n",
    "    lat1, lon1 = coord1\n",
    "    lat2, lon2 = coord2\n",
    "    phi1 = math.radians(lat1)\n",
    "    phi2 = math.radians(lat2)\n",
    "    delta_phi = math.radians(lat2 - lat1)\n",
    "    delta_lambda = math.radians(lon2 - lon1)\n",
    "    a = math.sin(delta_phi / 2.0) ** 2 + math.cos(phi1) * math.cos(phi2) * math.sin(delta_lambda / 2.0) ** 2\n",
    "    c = 2 * math.atan2(math.sqrt(a), math.sqrt(1 - a))\n",
    "    meters = R * c  # output distance in meters\n",
    "    return meters\n",
    "\n",
    "def calculate_bearing(coord1, coord2):\n",
    "    # Calculate the bearing between two points\n",
    "    lat1, lon1 = math.radians(coord1[0]), math.radians(coord1[1])\n",
    "    lat2, lon2 = math.radians(coord2[0]), math.radians(coord2[1])\n",
    "    delta_lon = lon2 - lon1\n",
    "    x = math.sin(delta_lon) * math.cos(lat2)\n",
    "    y = math.cos(lat1) * math.sin(lat2) - math.sin(lat1) * math.cos(lat2) * math.cos(delta_lon)\n",
    "    bearing = math.atan2(x, y)\n",
    "    bearing = math.degrees(bearing)\n",
    "    return (bearing + 360) % 360\n",
    "\n",
    "# Detect curves and check if they are downhill\n",
    "num_curves = 0\n",
    "num_downhill_curves = 0\n",
    "for i in range(1, len(points) - 1):\n",
    "    bearing1 = calculate_bearing(points[i-1], points[i])\n",
    "    bearing2 = calculate_bearing(points[i], points[i+1])\n",
    "    change_in_bearing = abs(bearing2 - bearing1)\n",
    "    if change_in_bearing >120:  # Threshold for detecting a curve, can be adjusted\n",
    "        num_curves += 1\n",
    "        if elevations[i] > elevations[i+1]:\n",
    "            num_downhill_curves += 1\n",
    "\n",
    "print(f'Número total de curvas: {num_curves}')\n",
    "print(f'Número de curvas cuesta abajo: {num_downhill_curves}')\n",
    "\n",
    "# Optionally, visualize the track with colored segments\n",
    "def get_road_type(point, dist=500):  # Increase distance to 500 meters\n",
    "    try:\n",
    "        G = ox.graph_from_point(point, dist=dist, network_type='all')\n",
    "        if len(G) == 0:\n",
    "            raise nx.NetworkXPointlessConcept(\"Graph is empty.\")\n",
    "        for u, v, data in G.edges(data=True):\n",
    "            if 'highway' in data:\n",
    "                highway_type = data['highway']\n",
    "                if isinstance(highway_type, list):\n",
    "                    highway_type = highway_type[0]  # Take the first type if it's a list\n",
    "                return highway_type\n",
    "    except Exception as e:\n",
    "        print(f\"Error fetching OSM data for point {point}: {e}\")\n",
    "    return None\n",
    "\n",
    "# Define a color mapping based on road difficulty\n",
    "road_color_map = {\n",
    "    'motorway': 'blue',\n",
    "    'trunk': 'blue',\n",
    "    'primary': 'blue',\n",
    "    'secondary': 'blue',\n",
    "    'tertiary': 'green',\n",
    "    'unclassified': 'gray',\n",
    "    'residential': 'yellow',\n",
    "    'service': 'lime',\n",
    "    'track': 'darkorange',\n",
    "    'path': 'red',\n",
    "    'footway': 'red',\n",
    "    'cycleway': 'red'\n",
    "}\n",
    "\n",
    "# Get road types for each point and store with coordinates\n",
    "track_data = []\n",
    "for point in points:\n",
    "    road_type = get_road_type(point)\n",
    "    if road_type:\n",
    "        color = road_color_map.get(road_type, 'black')  # Default to black if type not found\n",
    "        track_data.append((point[0], point[1], color))\n",
    "\n",
    "# Initialize the map at the center of the track\n",
    "map_center = [points[0][0], points[0][1]]\n",
    "mymap = folium.Map(location=map_center, zoom_start=14)\n",
    "\n",
    "# Add the track to the map\n",
    "for i in range(len(track_data) - 1):\n",
    "    folium.PolyLine(locations=[(track_data[i][0], track_data[i][1]), (track_data[i+1][0], track_data[i+1][1])], color=track_data[i][2], weight=5).add_to(mymap)\n",
    "\n",
    "# Save the map to an HTML file\n",
    "mymap.save('track_map.html')"
   ]
  },
  {
   "cell_type": "code",
   "execution_count": 9,
   "metadata": {},
   "outputs": [
    {
     "name": "stdout",
     "output_type": "stream",
     "text": [
      "secondary: 15.42%\n",
      "track: 61.67%\n",
      "unclassified: 2.50%\n",
      "residential: 7.29%\n",
      "path: 10.83%\n",
      "service: 0.21%\n",
      "living_street: 2.08%\n"
     ]
    }
   ],
   "source": [
    "from collections import Counter\n",
    "\n",
    "# Contar tipos de calzada\n",
    "road_type_counts = Counter(road_types)\n",
    "\n",
    "# Calcular porcentajes\n",
    "total_points = len(road_types)\n",
    "road_type_percentages = {road_type: count / total_points * 100 for road_type, count in road_type_counts.items()}\n",
    "\n",
    "# Mostrar resultados\n",
    "for road_type, percentage in road_type_percentages.items():\n",
    "    print(f'{road_type}: {percentage:.2f}%')\n"
   ]
  },
  {
   "cell_type": "code",
   "execution_count": null,
   "metadata": {},
   "outputs": [],
   "source": [
    "import gpxpy\n",
    "import osmnx as ox\n",
    "import networkx as nx\n",
    "import folium\n",
    "import math\n",
    "from collections import Counter\n",
    "import plotly.express as px\n",
    "\n",
    "# Load the GPX file\n",
    "with open('ruta.gpx', 'r') as gpx_file:\n",
    "    gpx = gpxpy.parse(gpx_file)\n",
    "\n",
    "# Extract points and elevations from the GPX track\n",
    "points = []\n",
    "elevations = []\n",
    "for track in gpx.tracks:\n",
    "    for segment in track.segments:\n",
    "        for point in segment.points:\n",
    "            points.append((point.latitude, point.longitude))\n",
    "            elevations.append(point.elevation)\n",
    "\n",
    "def haversine(coord1, coord2):\n",
    "    # Calculate the great-circle distance between two points\n",
    "    # on the Earth's surface given their longitude and latitude.\n",
    "    R = 6371000  # radius of Earth in meters\n",
    "    lat1, lon1 = coord1\n",
    "    lat2, lon2 = coord2\n",
    "    phi1 = math.radians(lat1)\n",
    "    phi2 = math.radians(lat2)\n",
    "    delta_phi = math.radians(lat2 - lat1)\n",
    "    delta_lambda = math.radians(lon2 - lon1)\n",
    "    a = math.sin(delta_phi / 2.0) ** 2 + math.cos(phi1) * math.cos(phi2) * math.sin(delta_lambda / 2.0) ** 2\n",
    "    c = 2 * math.atan2(math.sqrt(a), math.sqrt(1 - a))\n",
    "    meters = R * c  # output distance in meters\n",
    "    return meters\n",
    "\n",
    "def calculate_bearing(coord1, coord2):\n",
    "    # Calculate the bearing between two points\n",
    "    lat1, lon1 = math.radians(coord1[0]), math.radians(coord1[1])\n",
    "    lat2, lon2 = math.radians(coord2[0]), math.radians(coord2[1])\n",
    "    delta_lon = lon2 - lon1\n",
    "    x = math.sin(delta_lon) * math.cos(lat2)\n",
    "    y = math.cos(lat1) * math.sin(lat2) - math.sin(lat1) * math.cos(lat2) * math.cos(delta_lon)\n",
    "    bearing = math.atan2(x, y)\n",
    "    bearing = math.degrees(bearing)\n",
    "    return (bearing + 360) % 360\n",
    "\n",
    "# Detect curves and check if they are downhill\n",
    "num_curves = 0\n",
    "num_downhill_curves = 0\n",
    "for i in range(1, len(points) - 1):\n",
    "    bearing1 = calculate_bearing(points[i-1], points[i])\n",
    "    bearing2 = calculate_bearing(points[i], points[i+1])\n",
    "    change_in_bearing = abs(bearing2 - bearing1)\n",
    "    if change_in_bearing > 30:  # Threshold for detecting a curve, can be adjusted\n",
    "        num_curves += 1\n",
    "        if elevations[i] > elevations[i+1]:\n",
    "            num_downhill_curves += 1\n",
    "\n",
    "print(f'Número total de curvas: {num_curves}')\n",
    "print(f'Número de curvas cuesta abajo: {num_downhill_curves}')\n",
    "\n",
    "# Optionally, visualize the track with colored segments\n",
    "def get_road_type(point, dist=500):  # Increase distance to 500 meters\n",
    "    try:\n",
    "        G = ox.graph_from_point(point, dist=dist, network_type='all')\n",
    "        if len(G) == 0:\n",
    "            raise nx.NetworkXPointlessConcept(\"Graph is empty.\")\n",
    "        for u, v, data in G.edges(data=True):\n",
    "            if 'highway' in data:\n",
    "                highway_type = data['highway']\n",
    "                if isinstance(highway_type, list):\n",
    "                    highway_type = highway_type[0]  # Take the first type if it's a list\n",
    "                return highway_type\n",
    "    except Exception as e:\n",
    "        print(f\"Error fetching OSM data for point {point}: {e}\")\n",
    "    return None\n",
    "\n",
    "# Define a color mapping based on road difficulty\n",
    "road_color_map = {\n",
    "    'motorway': 'green',\n",
    "    'trunk': 'lime',\n",
    "    'primary': 'yellow',\n",
    "    'secondary': 'orange',\n",
    "    'tertiary': 'darkorange',\n",
    "    'unclassified': 'red',\n",
    "    'residential': 'red',\n",
    "    'service': 'red',\n",
    "    'track': 'red',\n",
    "    'path': 'red',\n",
    "    'footway': 'red',\n",
    "    'cycleway': 'red'\n",
    "}\n",
    "\n",
    "# Get road types for each point and store with coordinates\n",
    "track_data = []\n",
    "for point in points:\n",
    "    road_type = get_road_type(point)\n",
    "    if road_type:\n",
    "        color = road_color_map.get(road_type, 'black')  # Default to black if type not found\n",
    "        track_data.append((point[0], point[1], color, road_type))\n",
    "\n",
    "# Initialize the map at the center of the track\n",
    "map_center = [points[0][0], points[0][1]]\n",
    "mymap = folium.Map(location=map_center, zoom_start=14)\n",
    "\n",
    "# Add the track to the map\n",
    "for i in range(len(track_data) - 1):\n",
    "    folium.PolyLine(locations=[(track_data[i][0], track_data[i][1]), (track_data[i+1][0], track_data[i+1][1])], color=track_data[i][2], weight=5).add_to(mymap)\n",
    "\n",
    "# Save the map to an HTML file\n",
    "mymap.save('track_map.html')\n",
    "\n",
    "# Create a counter for the road types\n",
    "road_type_counts = Counter([data[3] for data in track_data])\n",
    "\n",
    "# Prepare data for the sunburst plot\n",
    "labels = []\n",
    "parents = []\n",
    "values = []\n",
    "\n",
    "for road_type, count in road_type_counts.items():\n",
    "    labels.append(road_type)\n",
    "    parents.append(\"\")\n",
    "    values.append(count)\n",
    "\n",
    "# Create the sunburst plot\n",
    "fig = px.sunburst(\n",
    "    names=labels,\n",
    "    parents=parents,\n",
    "    values=values,\n",
    "    title=\"Distribución de tipos de calzada\"\n",
    ")\n",
    "\n",
    "# Show the plot\n",
    "fig.show()\n"
   ]
  },
  {
   "cell_type": "code",
   "execution_count": 19,
   "metadata": {},
   "outputs": [
    {
     "name": "stdout",
     "output_type": "stream",
     "text": [
      "Número total de curvas: 438\n",
      "Número de curvas cuesta abajo: 206\n",
      "Error fetching OSM data for point (39.884379, -0.417974): Connectivity is undefined for the null graph.\n",
      "Error fetching OSM data for point (39.923452, -0.378427): Connectivity is undefined for the null graph.\n",
      "Error fetching OSM data for point (39.924514, -0.37306): Connectivity is undefined for the null graph.\n",
      "Error fetching OSM data for point (39.858804, -0.342866): Connectivity is undefined for the null graph.\n",
      "Error fetching OSM data for point (39.859989, -0.342037): Connectivity is undefined for the null graph.\n",
      "Error fetching OSM data for point (39.86142, -0.343133): Connectivity is undefined for the null graph.\n",
      "Error fetching OSM data for point (39.862036, -0.34473): Connectivity is undefined for the null graph.\n",
      "Error fetching OSM data for point (39.862653, -0.343586): Connectivity is undefined for the null graph.\n",
      "Error fetching OSM data for point (39.863355, -0.343267): Connectivity is undefined for the null graph.\n",
      "Error fetching OSM data for point (39.864237, -0.343482): Connectivity is undefined for the null graph.\n",
      "Error fetching OSM data for point (39.86635, -0.34532): Connectivity is undefined for the null graph.\n",
      "Error fetching OSM data for point (39.865221, -0.342674): Connectivity is undefined for the null graph.\n",
      "Error fetching OSM data for point (39.865738, -0.346254): Connectivity is undefined for the null graph.\n",
      "Error fetching OSM data for point (39.865768, -0.346905): Connectivity is undefined for the null graph.\n",
      "Error fetching OSM data for point (39.866313, -0.347589): Connectivity is undefined for the null graph.\n",
      "Error fetching OSM data for point (39.866898, -0.34748): Connectivity is undefined for the null graph.\n",
      "Error fetching OSM data for point (39.866712, -0.349215): Connectivity is undefined for the null graph.\n",
      "Error fetching OSM data for point (39.867483, -0.349513): Connectivity is undefined for the null graph.\n",
      "Error fetching OSM data for point (39.871521, -0.3509): Connectivity is undefined for the null graph.\n",
      "Error fetching OSM data for point (39.865212, -0.353502): Connectivity is undefined for the null graph.\n"
     ]
    },
    {
     "data": {
      "application/vnd.plotly.v1+json": {
       "config": {
        "plotlyServerURL": "https://plot.ly"
       },
       "data": [
        {
         "domain": {
          "x": [
           0,
           1
          ],
          "y": [
           0,
           1
          ]
         },
         "hovertemplate": "label=%{label}<br>value=%{value}<br>parent=%{parent}<extra></extra>",
         "labels": [
          "unclassified",
          "secondary",
          "track",
          "residential",
          "path",
          "service",
          "living_street"
         ],
         "name": "",
         "parents": [
          "",
          "",
          "",
          "",
          "",
          "",
          ""
         ],
         "type": "sunburst",
         "values": [
          12,
          74,
          296,
          35,
          52,
          1,
          10
         ]
        }
       ],
       "layout": {
        "legend": {
         "tracegroupgap": 0
        },
        "template": {
         "data": {
          "bar": [
           {
            "error_x": {
             "color": "#2a3f5f"
            },
            "error_y": {
             "color": "#2a3f5f"
            },
            "marker": {
             "line": {
              "color": "#E5ECF6",
              "width": 0.5
             },
             "pattern": {
              "fillmode": "overlay",
              "size": 10,
              "solidity": 0.2
             }
            },
            "type": "bar"
           }
          ],
          "barpolar": [
           {
            "marker": {
             "line": {
              "color": "#E5ECF6",
              "width": 0.5
             },
             "pattern": {
              "fillmode": "overlay",
              "size": 10,
              "solidity": 0.2
             }
            },
            "type": "barpolar"
           }
          ],
          "carpet": [
           {
            "aaxis": {
             "endlinecolor": "#2a3f5f",
             "gridcolor": "white",
             "linecolor": "white",
             "minorgridcolor": "white",
             "startlinecolor": "#2a3f5f"
            },
            "baxis": {
             "endlinecolor": "#2a3f5f",
             "gridcolor": "white",
             "linecolor": "white",
             "minorgridcolor": "white",
             "startlinecolor": "#2a3f5f"
            },
            "type": "carpet"
           }
          ],
          "choropleth": [
           {
            "colorbar": {
             "outlinewidth": 0,
             "ticks": ""
            },
            "type": "choropleth"
           }
          ],
          "contour": [
           {
            "colorbar": {
             "outlinewidth": 0,
             "ticks": ""
            },
            "colorscale": [
             [
              0,
              "#0d0887"
             ],
             [
              0.1111111111111111,
              "#46039f"
             ],
             [
              0.2222222222222222,
              "#7201a8"
             ],
             [
              0.3333333333333333,
              "#9c179e"
             ],
             [
              0.4444444444444444,
              "#bd3786"
             ],
             [
              0.5555555555555556,
              "#d8576b"
             ],
             [
              0.6666666666666666,
              "#ed7953"
             ],
             [
              0.7777777777777778,
              "#fb9f3a"
             ],
             [
              0.8888888888888888,
              "#fdca26"
             ],
             [
              1,
              "#f0f921"
             ]
            ],
            "type": "contour"
           }
          ],
          "contourcarpet": [
           {
            "colorbar": {
             "outlinewidth": 0,
             "ticks": ""
            },
            "type": "contourcarpet"
           }
          ],
          "heatmap": [
           {
            "colorbar": {
             "outlinewidth": 0,
             "ticks": ""
            },
            "colorscale": [
             [
              0,
              "#0d0887"
             ],
             [
              0.1111111111111111,
              "#46039f"
             ],
             [
              0.2222222222222222,
              "#7201a8"
             ],
             [
              0.3333333333333333,
              "#9c179e"
             ],
             [
              0.4444444444444444,
              "#bd3786"
             ],
             [
              0.5555555555555556,
              "#d8576b"
             ],
             [
              0.6666666666666666,
              "#ed7953"
             ],
             [
              0.7777777777777778,
              "#fb9f3a"
             ],
             [
              0.8888888888888888,
              "#fdca26"
             ],
             [
              1,
              "#f0f921"
             ]
            ],
            "type": "heatmap"
           }
          ],
          "heatmapgl": [
           {
            "colorbar": {
             "outlinewidth": 0,
             "ticks": ""
            },
            "colorscale": [
             [
              0,
              "#0d0887"
             ],
             [
              0.1111111111111111,
              "#46039f"
             ],
             [
              0.2222222222222222,
              "#7201a8"
             ],
             [
              0.3333333333333333,
              "#9c179e"
             ],
             [
              0.4444444444444444,
              "#bd3786"
             ],
             [
              0.5555555555555556,
              "#d8576b"
             ],
             [
              0.6666666666666666,
              "#ed7953"
             ],
             [
              0.7777777777777778,
              "#fb9f3a"
             ],
             [
              0.8888888888888888,
              "#fdca26"
             ],
             [
              1,
              "#f0f921"
             ]
            ],
            "type": "heatmapgl"
           }
          ],
          "histogram": [
           {
            "marker": {
             "pattern": {
              "fillmode": "overlay",
              "size": 10,
              "solidity": 0.2
             }
            },
            "type": "histogram"
           }
          ],
          "histogram2d": [
           {
            "colorbar": {
             "outlinewidth": 0,
             "ticks": ""
            },
            "colorscale": [
             [
              0,
              "#0d0887"
             ],
             [
              0.1111111111111111,
              "#46039f"
             ],
             [
              0.2222222222222222,
              "#7201a8"
             ],
             [
              0.3333333333333333,
              "#9c179e"
             ],
             [
              0.4444444444444444,
              "#bd3786"
             ],
             [
              0.5555555555555556,
              "#d8576b"
             ],
             [
              0.6666666666666666,
              "#ed7953"
             ],
             [
              0.7777777777777778,
              "#fb9f3a"
             ],
             [
              0.8888888888888888,
              "#fdca26"
             ],
             [
              1,
              "#f0f921"
             ]
            ],
            "type": "histogram2d"
           }
          ],
          "histogram2dcontour": [
           {
            "colorbar": {
             "outlinewidth": 0,
             "ticks": ""
            },
            "colorscale": [
             [
              0,
              "#0d0887"
             ],
             [
              0.1111111111111111,
              "#46039f"
             ],
             [
              0.2222222222222222,
              "#7201a8"
             ],
             [
              0.3333333333333333,
              "#9c179e"
             ],
             [
              0.4444444444444444,
              "#bd3786"
             ],
             [
              0.5555555555555556,
              "#d8576b"
             ],
             [
              0.6666666666666666,
              "#ed7953"
             ],
             [
              0.7777777777777778,
              "#fb9f3a"
             ],
             [
              0.8888888888888888,
              "#fdca26"
             ],
             [
              1,
              "#f0f921"
             ]
            ],
            "type": "histogram2dcontour"
           }
          ],
          "mesh3d": [
           {
            "colorbar": {
             "outlinewidth": 0,
             "ticks": ""
            },
            "type": "mesh3d"
           }
          ],
          "parcoords": [
           {
            "line": {
             "colorbar": {
              "outlinewidth": 0,
              "ticks": ""
             }
            },
            "type": "parcoords"
           }
          ],
          "pie": [
           {
            "automargin": true,
            "type": "pie"
           }
          ],
          "scatter": [
           {
            "fillpattern": {
             "fillmode": "overlay",
             "size": 10,
             "solidity": 0.2
            },
            "type": "scatter"
           }
          ],
          "scatter3d": [
           {
            "line": {
             "colorbar": {
              "outlinewidth": 0,
              "ticks": ""
             }
            },
            "marker": {
             "colorbar": {
              "outlinewidth": 0,
              "ticks": ""
             }
            },
            "type": "scatter3d"
           }
          ],
          "scattercarpet": [
           {
            "marker": {
             "colorbar": {
              "outlinewidth": 0,
              "ticks": ""
             }
            },
            "type": "scattercarpet"
           }
          ],
          "scattergeo": [
           {
            "marker": {
             "colorbar": {
              "outlinewidth": 0,
              "ticks": ""
             }
            },
            "type": "scattergeo"
           }
          ],
          "scattergl": [
           {
            "marker": {
             "colorbar": {
              "outlinewidth": 0,
              "ticks": ""
             }
            },
            "type": "scattergl"
           }
          ],
          "scattermapbox": [
           {
            "marker": {
             "colorbar": {
              "outlinewidth": 0,
              "ticks": ""
             }
            },
            "type": "scattermapbox"
           }
          ],
          "scatterpolar": [
           {
            "marker": {
             "colorbar": {
              "outlinewidth": 0,
              "ticks": ""
             }
            },
            "type": "scatterpolar"
           }
          ],
          "scatterpolargl": [
           {
            "marker": {
             "colorbar": {
              "outlinewidth": 0,
              "ticks": ""
             }
            },
            "type": "scatterpolargl"
           }
          ],
          "scatterternary": [
           {
            "marker": {
             "colorbar": {
              "outlinewidth": 0,
              "ticks": ""
             }
            },
            "type": "scatterternary"
           }
          ],
          "surface": [
           {
            "colorbar": {
             "outlinewidth": 0,
             "ticks": ""
            },
            "colorscale": [
             [
              0,
              "#0d0887"
             ],
             [
              0.1111111111111111,
              "#46039f"
             ],
             [
              0.2222222222222222,
              "#7201a8"
             ],
             [
              0.3333333333333333,
              "#9c179e"
             ],
             [
              0.4444444444444444,
              "#bd3786"
             ],
             [
              0.5555555555555556,
              "#d8576b"
             ],
             [
              0.6666666666666666,
              "#ed7953"
             ],
             [
              0.7777777777777778,
              "#fb9f3a"
             ],
             [
              0.8888888888888888,
              "#fdca26"
             ],
             [
              1,
              "#f0f921"
             ]
            ],
            "type": "surface"
           }
          ],
          "table": [
           {
            "cells": {
             "fill": {
              "color": "#EBF0F8"
             },
             "line": {
              "color": "white"
             }
            },
            "header": {
             "fill": {
              "color": "#C8D4E3"
             },
             "line": {
              "color": "white"
             }
            },
            "type": "table"
           }
          ]
         },
         "layout": {
          "annotationdefaults": {
           "arrowcolor": "#2a3f5f",
           "arrowhead": 0,
           "arrowwidth": 1
          },
          "autotypenumbers": "strict",
          "coloraxis": {
           "colorbar": {
            "outlinewidth": 0,
            "ticks": ""
           }
          },
          "colorscale": {
           "diverging": [
            [
             0,
             "#8e0152"
            ],
            [
             0.1,
             "#c51b7d"
            ],
            [
             0.2,
             "#de77ae"
            ],
            [
             0.3,
             "#f1b6da"
            ],
            [
             0.4,
             "#fde0ef"
            ],
            [
             0.5,
             "#f7f7f7"
            ],
            [
             0.6,
             "#e6f5d0"
            ],
            [
             0.7,
             "#b8e186"
            ],
            [
             0.8,
             "#7fbc41"
            ],
            [
             0.9,
             "#4d9221"
            ],
            [
             1,
             "#276419"
            ]
           ],
           "sequential": [
            [
             0,
             "#0d0887"
            ],
            [
             0.1111111111111111,
             "#46039f"
            ],
            [
             0.2222222222222222,
             "#7201a8"
            ],
            [
             0.3333333333333333,
             "#9c179e"
            ],
            [
             0.4444444444444444,
             "#bd3786"
            ],
            [
             0.5555555555555556,
             "#d8576b"
            ],
            [
             0.6666666666666666,
             "#ed7953"
            ],
            [
             0.7777777777777778,
             "#fb9f3a"
            ],
            [
             0.8888888888888888,
             "#fdca26"
            ],
            [
             1,
             "#f0f921"
            ]
           ],
           "sequentialminus": [
            [
             0,
             "#0d0887"
            ],
            [
             0.1111111111111111,
             "#46039f"
            ],
            [
             0.2222222222222222,
             "#7201a8"
            ],
            [
             0.3333333333333333,
             "#9c179e"
            ],
            [
             0.4444444444444444,
             "#bd3786"
            ],
            [
             0.5555555555555556,
             "#d8576b"
            ],
            [
             0.6666666666666666,
             "#ed7953"
            ],
            [
             0.7777777777777778,
             "#fb9f3a"
            ],
            [
             0.8888888888888888,
             "#fdca26"
            ],
            [
             1,
             "#f0f921"
            ]
           ]
          },
          "colorway": [
           "#636efa",
           "#EF553B",
           "#00cc96",
           "#ab63fa",
           "#FFA15A",
           "#19d3f3",
           "#FF6692",
           "#B6E880",
           "#FF97FF",
           "#FECB52"
          ],
          "font": {
           "color": "#2a3f5f"
          },
          "geo": {
           "bgcolor": "white",
           "lakecolor": "white",
           "landcolor": "#E5ECF6",
           "showlakes": true,
           "showland": true,
           "subunitcolor": "white"
          },
          "hoverlabel": {
           "align": "left"
          },
          "hovermode": "closest",
          "mapbox": {
           "style": "light"
          },
          "paper_bgcolor": "white",
          "plot_bgcolor": "#E5ECF6",
          "polar": {
           "angularaxis": {
            "gridcolor": "white",
            "linecolor": "white",
            "ticks": ""
           },
           "bgcolor": "#E5ECF6",
           "radialaxis": {
            "gridcolor": "white",
            "linecolor": "white",
            "ticks": ""
           }
          },
          "scene": {
           "xaxis": {
            "backgroundcolor": "#E5ECF6",
            "gridcolor": "white",
            "gridwidth": 2,
            "linecolor": "white",
            "showbackground": true,
            "ticks": "",
            "zerolinecolor": "white"
           },
           "yaxis": {
            "backgroundcolor": "#E5ECF6",
            "gridcolor": "white",
            "gridwidth": 2,
            "linecolor": "white",
            "showbackground": true,
            "ticks": "",
            "zerolinecolor": "white"
           },
           "zaxis": {
            "backgroundcolor": "#E5ECF6",
            "gridcolor": "white",
            "gridwidth": 2,
            "linecolor": "white",
            "showbackground": true,
            "ticks": "",
            "zerolinecolor": "white"
           }
          },
          "shapedefaults": {
           "line": {
            "color": "#2a3f5f"
           }
          },
          "ternary": {
           "aaxis": {
            "gridcolor": "white",
            "linecolor": "white",
            "ticks": ""
           },
           "baxis": {
            "gridcolor": "white",
            "linecolor": "white",
            "ticks": ""
           },
           "bgcolor": "#E5ECF6",
           "caxis": {
            "gridcolor": "white",
            "linecolor": "white",
            "ticks": ""
           }
          },
          "title": {
           "x": 0.05
          },
          "xaxis": {
           "automargin": true,
           "gridcolor": "white",
           "linecolor": "white",
           "ticks": "",
           "title": {
            "standoff": 15
           },
           "zerolinecolor": "white",
           "zerolinewidth": 2
          },
          "yaxis": {
           "automargin": true,
           "gridcolor": "white",
           "linecolor": "white",
           "ticks": "",
           "title": {
            "standoff": 15
           },
           "zerolinecolor": "white",
           "zerolinewidth": 2
          }
         }
        },
        "title": {
         "text": "Distribución de tipos de calzada"
        }
       }
      }
     },
     "metadata": {},
     "output_type": "display_data"
    }
   ],
   "source": [
    "import gpxpy\n",
    "import osmnx as ox\n",
    "import networkx as nx\n",
    "import folium\n",
    "import math\n",
    "from collections import Counter\n",
    "import plotly.express as px\n",
    "from concurrent.futures import ThreadPoolExecutor, as_completed\n",
    "\n",
    "# Load the GPX file\n",
    "with open('ruta.gpx', 'r') as gpx_file:\n",
    "    gpx = gpxpy.parse(gpx_file)\n",
    "\n",
    "# Extract points and elevations from the GPX track\n",
    "points = []\n",
    "elevations = []\n",
    "for track in gpx.tracks:\n",
    "    for segment in track.segments:\n",
    "        for point in segment.points:\n",
    "            points.append((point.latitude, point.longitude))\n",
    "            elevations.append(point.elevation)\n",
    "\n",
    "def haversine(coord1, coord2):\n",
    "    R = 6371000  # radius of Earth in meters\n",
    "    lat1, lon1 = coord1\n",
    "    lat2, lon2 = coord2\n",
    "    phi1 = math.radians(lat1)\n",
    "    phi2 = math.radians(lat2)\n",
    "    delta_phi = math.radians(lat2 - lat1)\n",
    "    delta_lambda = math.radians(lon2 - lon1)\n",
    "    a = math.sin(delta_phi / 2.0) ** 2 + math.cos(phi1) * math.cos(phi2) * math.sin(delta_lambda / 2.0) ** 2\n",
    "    c = 2 * math.atan2(math.sqrt(a), math.sqrt(1 - a))\n",
    "    meters = R * c  # output distance in meters\n",
    "    return meters\n",
    "\n",
    "def calculate_bearing(coord1, coord2):\n",
    "    lat1, lon1 = math.radians(coord1[0]), math.radians(coord1[1])\n",
    "    lat2, lon2 = math.radians(coord2[0]), math.radians(coord2[1])\n",
    "    delta_lon = lon2 - lon1\n",
    "    x = math.sin(delta_lon) * math.cos(lat2)\n",
    "    y = math.cos(lat1) * math.sin(lat2) - math.sin(lat1) * math.cos(lat2) * math.cos(delta_lon)\n",
    "    bearing = math.atan2(x, y)\n",
    "    bearing = math.degrees(bearing)\n",
    "    return (bearing + 360) % 360\n",
    "\n",
    "# Detect curves and check if they are downhill\n",
    "num_curves = 0\n",
    "num_downhill_curves = 0\n",
    "for i in range(1, len(points) - 1):\n",
    "    bearing1 = calculate_bearing(points[i-1], points[i])\n",
    "    bearing2 = calculate_bearing(points[i], points[i+1])\n",
    "    change_in_bearing = abs(bearing2 - bearing1)\n",
    "    if change_in_bearing > 30:  # Threshold for detecting a curve, can be adjusted\n",
    "        num_curves += 1\n",
    "        if elevations[i] > elevations[i+1]:\n",
    "            num_downhill_curves += 1\n",
    "\n",
    "print(f'Número total de curvas: {num_curves}')\n",
    "print(f'Número de curvas cuesta abajo: {num_downhill_curves}')\n",
    "\n",
    "def get_road_type(point, dist=500):  # Increase distance to 500 meters\n",
    "    try:\n",
    "        G = ox.graph_from_point(point, dist=dist, network_type='all')\n",
    "        if len(G) == 0:\n",
    "            raise nx.NetworkXPointlessConcept(\"Graph is empty.\")\n",
    "        for u, v, data in G.edges(data=True):\n",
    "            if 'highway' in data:\n",
    "                highway_type = data['highway']\n",
    "                if isinstance(highway_type, list):\n",
    "                    highway_type = highway_type[0]  # Take the first type if it's a list\n",
    "                return highway_type\n",
    "    except Exception as e:\n",
    "        print(f\"Error fetching OSM data for point {point}: {e}\")\n",
    "    return None\n",
    "\n",
    "# Define a color mapping based on road difficulty\n",
    "road_color_map = {\n",
    "    'motorway': 'gray',\n",
    "    'trunk': 'gray',\n",
    "    'primary': 'gray',\n",
    "    'secondary': 'gray',\n",
    "    'tertiary': 'gray',\n",
    "    'unclassified': 'white',\n",
    "    'residential': 'gray',\n",
    "    'service': 'gray',\n",
    "    'track': 'brown',\n",
    "    'path': 'darkorange',\n",
    "    'footway': 'red',\n",
    "    'cycleway': 'red'\n",
    "}\n",
    "\n",
    "# Parallel processing to get road types for each point\n",
    "def process_point(point):\n",
    "    road_type = get_road_type(point)\n",
    "    if road_type:\n",
    "        color = road_color_map.get(road_type, 'black')\n",
    "        return (point[0], point[1], color, road_type)\n",
    "    return (point[0], point[1], 'black', None)\n",
    "\n",
    "track_data = []\n",
    "with ThreadPoolExecutor(max_workers=10) as executor:\n",
    "    future_to_point = {executor.submit(process_point, point): point for point in points}\n",
    "    for future in as_completed(future_to_point):\n",
    "        track_data.append(future.result())\n",
    "\n",
    "# Initialize the map at the center of the track\n",
    "map_center = [points[0][0], points[0][1]]\n",
    "mymap = folium.Map(location=map_center, zoom_start=14)\n",
    "\n",
    "# Add the track to the map\n",
    "for i in range(len(track_data) - 1):\n",
    "    folium.PolyLine(locations=[(track_data[i][0], track_data[i][1]), (track_data[i+1][0], track_data[i+1][1])], color=track_data[i][2], weight=5).add_to(mymap)\n",
    "\n",
    "# Save the map to an HTML file\n",
    "mymap.save('track_map.html')\n",
    "\n",
    "# Create a counter for the road types\n",
    "road_type_counts = Counter([data[3] for data in track_data if data[3]])\n",
    "\n",
    "# Prepare data for the sunburst plot\n",
    "labels = []\n",
    "parents = []\n",
    "values = []\n",
    "\n",
    "for road_type, count in road_type_counts.items():\n",
    "    labels.append(road_type)\n",
    "    parents.append(\"\")\n",
    "    values.append(count)\n",
    "\n",
    "# Create the sunburst plot\n",
    "fig = px.sunburst(\n",
    "    names=labels,\n",
    "    parents=parents,\n",
    "    values=values,\n",
    "    title=\"Distribución de tipos de calzada\"\n",
    ")\n",
    "\n",
    "# Show the plot\n",
    "fig.show()\n"
   ]
  },
  {
   "cell_type": "code",
   "execution_count": 20,
   "metadata": {},
   "outputs": [
    {
     "name": "stdout",
     "output_type": "stream",
     "text": [
      "Número total de curvas: 438\n",
      "Número de curvas cuesta abajo: 206\n",
      "Error fetching OSM data for point (39.841439, -0.3765): Found no graph nodes within the requested polygonError fetching OSM data for point (39.84266, -0.381716): Connectivity is undefined for the null graph.\n",
      "\n",
      "Error fetching OSM data for point (39.840378, -0.372854): Connectivity is undefined for the null graph.\n",
      "Error fetching OSM data for point (39.84576, -0.384149): Connectivity is undefined for the null graph.\n",
      "Error fetching OSM data for point (39.840903, -0.375454): Found no graph nodes within the requested polygon\n",
      "Error fetching OSM data for point (39.852116, -0.39245): Connectivity is undefined for the null graph.\n",
      "Error fetching OSM data for point (39.851318, -0.395229): Found no graph nodes within the requested polygon\n",
      "Error fetching OSM data for point (39.852383, -0.396562): Found no graph nodes within the requested polygon\n",
      "Error fetching OSM data for point (39.855608, -0.403122): Connectivity is undefined for the null graph.\n",
      "Error fetching OSM data for point (39.855745, -0.406025): Connectivity is undefined for the null graph.\n",
      "Error fetching OSM data for point (39.862336, -0.409186): Connectivity is undefined for the null graph.\n",
      "Error fetching OSM data for point (39.855595, -0.406502): Connectivity is undefined for the null graph.\n",
      "Error fetching OSM data for point (39.86398, -0.409198): Found no graph nodes within the requested polygon\n",
      "Error fetching OSM data for point (39.864404, -0.409568): Found no graph nodes within the requested polygon\n",
      "Error fetching OSM data for point (39.872982, -0.41752): Connectivity is undefined for the null graph.\n",
      "Error fetching OSM data for point (39.87542, -0.416319): Connectivity is undefined for the null graph.\n",
      "Error fetching OSM data for point (39.877692, -0.416508): Connectivity is undefined for the null graph.\n",
      "Error fetching OSM data for point (39.877218, -0.417532): Connectivity is undefined for the null graph.\n",
      "Error fetching OSM data for point (39.879567, -0.417138): Connectivity is undefined for the null graph.\n",
      "Error fetching OSM data for point (39.879635, -0.417119): Connectivity is undefined for the null graph.\n",
      "Error fetching OSM data for point (39.884379, -0.417974): Found no graph nodes within the requested polygon\n",
      "Error fetching OSM data for point (39.88102, -0.417565): Connectivity is undefined for the null graph.\n",
      "Error fetching OSM data for point (39.884615, -0.41855): Found no graph nodes within the requested polygon\n",
      "Error fetching OSM data for point (39.88222, -0.416614): Found no graph nodes within the requested polygon\n",
      "Error fetching OSM data for point (39.883725, -0.417878): Found no graph nodes within the requested polygon\n",
      "Error fetching OSM data for point (39.885049, -0.417847): Connectivity is undefined for the null graph.\n",
      "Error fetching OSM data for point (39.88638, -0.419227): Connectivity is undefined for the null graph.\n",
      "Error fetching OSM data for point (39.88496, -0.418464): Found no graph nodes within the requested polygon\n",
      "Error fetching OSM data for point (39.886209, -0.419624): Connectivity is undefined for the null graph.\n",
      "Error fetching OSM data for point (39.886856, -0.419474): Connectivity is undefined for the null graph.\n",
      "Error fetching OSM data for point (39.892117, -0.415695): Found no graph nodes within the requested polygon\n",
      "Error fetching OSM data for point (39.889163, -0.418971): Connectivity is undefined for the null graph.\n",
      "Error fetching OSM data for point (39.894315, -0.411262): Connectivity is undefined for the null graph.\n",
      "Error fetching OSM data for point (39.894045, -0.411205): Connectivity is undefined for the null graph.\n",
      "Error fetching OSM data for point (39.894008, -0.411622): Connectivity is undefined for the null graph.\n",
      "Error fetching OSM data for point (39.893559, -0.414516): Connectivity is undefined for the null graph.\n",
      "Error fetching OSM data for point (39.89371, -0.411536): Connectivity is undefined for the null graph.\n",
      "Error fetching OSM data for point (39.893294, -0.410349): Found no graph nodes within the requested polygon\n",
      "Error fetching OSM data for point (39.893684, -0.410643): Found no graph nodes within the requested polygon\n",
      "Error fetching OSM data for point (39.892647, -0.408737): Found no graph nodes within the requested polygon\n",
      "Error fetching OSM data for point (39.893115, -0.409229): Found no graph nodes within the requested polygon\n",
      "Error fetching OSM data for point (39.8929, -0.4063): Connectivity is undefined for the null graph.\n",
      "Error fetching OSM data for point (39.893577, -0.406118): Connectivity is undefined for the null graph.\n",
      "Error fetching OSM data for point (39.899592, -0.395933): Connectivity is undefined for the null graph.\n",
      "Error fetching OSM data for point (39.898416, -0.39822): Connectivity is undefined for the null graph.\n",
      "Error fetching OSM data for point (39.899074, -0.397089): Connectivity is undefined for the null graph.\n",
      "Error fetching OSM data for point (39.898432, -0.394689): Connectivity is undefined for the null graph.\n",
      "Error fetching OSM data for point (39.89917, -0.39456): Connectivity is undefined for the null graph.\n",
      "Error fetching OSM data for point (39.899095, -0.39601): Connectivity is undefined for the null graph.\n",
      "Error fetching OSM data for point (39.89952, -0.397313): Connectivity is undefined for the null graph.\n",
      "Error fetching OSM data for point (39.899461, -0.385151): Connectivity is undefined for the null graph.\n",
      "Error fetching OSM data for point (39.899714, -0.387002): Connectivity is undefined for the null graph.\n",
      "Error fetching OSM data for point (39.898638, -0.393138): Connectivity is undefined for the null graph.\n",
      "Error fetching OSM data for point (39.899076, -0.393426): Connectivity is undefined for the null graph.\n",
      "Error fetching OSM data for point (39.901744, -0.388038): Connectivity is undefined for the null graph.\n",
      "Error fetching OSM data for point (39.902057, -0.386405): Connectivity is undefined for the null graph.\n",
      "Error fetching OSM data for point (39.902487, -0.389177): Connectivity is undefined for the null graph.\n",
      "Error fetching OSM data for point (39.905478, -0.392546): Found no graph nodes within the requested polygon\n",
      "Error fetching OSM data for point (39.904462, -0.391036): Found no graph nodes within the requested polygon\n",
      "Error fetching OSM data for point (39.903718, -0.388494): Found no graph nodes within the requested polygon\n",
      "Error fetching OSM data for point (39.911543, -0.39623): Found no graph nodes within the requested polygon\n",
      "Error fetching OSM data for point (39.910553, -0.39697): Found no graph nodes within the requested polygon\n",
      "Error fetching OSM data for point (39.911419, -0.395506): Found no graph nodes within the requested polygon\n",
      "Error fetching OSM data for point (39.917329, -0.386427): Connectivity is undefined for the null graph.\n",
      "Error fetching OSM data for point (39.91829, -0.386056): Connectivity is undefined for the null graph.\n",
      "Error fetching OSM data for point (39.919643, -0.385607): Connectivity is undefined for the null graph.\n",
      "Error fetching OSM data for point (39.918991, -0.386323): Connectivity is undefined for the null graph.\n",
      "Error fetching OSM data for point (39.919922, -0.387145): Found no graph nodes within the requested polygon\n",
      "Error fetching OSM data for point (39.921598, -0.387098): Found no graph nodes within the requested polygon\n",
      "Error fetching OSM data for point (39.921588, -0.387534): Connectivity is undefined for the null graph.\n",
      "Error fetching OSM data for point (39.921983, -0.387547): Connectivity is undefined for the null graph.\n",
      "Error fetching OSM data for point (39.922158, -0.396404): Connectivity is undefined for the null graph.\n",
      "Error fetching OSM data for point (39.923447, -0.397229): Found no graph nodes within the requested polygon\n",
      "Error fetching OSM data for point (39.923714, -0.39805): Connectivity is undefined for the null graph.\n",
      "Error fetching OSM data for point (39.923452, -0.378427): Found no graph nodes within the requested polygon\n",
      "Error fetching OSM data for point (39.924198, -0.377521): Found no graph nodes within the requested polygon\n",
      "Error fetching OSM data for point (39.922813, -0.38103): Found no graph nodes within the requested polygon\n",
      "Error fetching OSM data for point (39.924514, -0.37306): Found no graph nodes within the requested polygon\n",
      "Error fetching OSM data for point (39.924079, -0.372392): Found no graph nodes within the requested polygon\n",
      "Error fetching OSM data for point (39.923166, -0.36812): Connectivity is undefined for the null graph.\n",
      "Error fetching OSM data for point (39.922425, -0.367843): Connectivity is undefined for the null graph.\n",
      "Error fetching OSM data for point (39.908335, -0.356644): Connectivity is undefined for the null graph.\n",
      "Error fetching OSM data for point (39.907948, -0.355892): Connectivity is undefined for the null graph.\n",
      "Error fetching OSM data for point (39.905971, -0.354727): Found no graph nodes within the requested polygon\n",
      "Error fetching OSM data for point (39.905379, -0.356027): Connectivity is undefined for the null graph.\n",
      "Error fetching OSM data for point (39.883538, -0.344348): Connectivity is undefined for the null graph.\n",
      "Error fetching OSM data for point (39.888894, -0.341493): Found no graph nodes within the requested polygon\n",
      "Error fetching OSM data for point (39.888688, -0.342259): Found no graph nodes within the requested polygon\n",
      "Error fetching OSM data for point (39.890714, -0.340761): Connectivity is undefined for the null graph.\n",
      "Error fetching OSM data for point (39.8912, -0.341048): Connectivity is undefined for the null graph.\n",
      "Error fetching OSM data for point (39.888078, -0.340085): Found no graph nodes within the requested polygon\n",
      "Error fetching OSM data for point (39.8868, -0.344195): Connectivity is undefined for the null graph.\n",
      "Error fetching OSM data for point (39.885063, -0.340106): Found no graph nodes within the requested polygon\n",
      "Error fetching OSM data for point (39.884395, -0.34033): Found no graph nodes within the requested polygon\n",
      "Error fetching OSM data for point (39.883975, -0.339807): Found no graph nodes within the requested polygon\n",
      "Error fetching OSM data for point (39.88571, -0.341013): Found no graph nodes within the requested polygon\n",
      "Error fetching OSM data for point (39.888008, -0.342515): Found no graph nodes within the requested polygon\n",
      "Error fetching OSM data for point (39.885733, -0.343424): Connectivity is undefined for the null graph.\n",
      "Error fetching OSM data for point (39.882967, -0.339881): Found no graph nodes within the requested polygon\n",
      "Error fetching OSM data for point (39.892213, -0.339848): Connectivity is undefined for the null graph.\n",
      "Error fetching OSM data for point (39.891096, -0.340395): Connectivity is undefined for the null graph.\n",
      "Error fetching OSM data for point (39.886838, -0.340516): Found no graph nodes within the requested polygon\n",
      "Error fetching OSM data for point (39.886427, -0.341057): Found no graph nodes within the requested polygon\n",
      "Error fetching OSM data for point (39.88255, -0.333422): Found no graph nodes within the requested polygon\n",
      "Error fetching OSM data for point (39.882182, -0.332999): Connectivity is undefined for the null graph.\n",
      "Error fetching OSM data for point (39.88316, -0.331791): Found no graph nodes within the requested polygon\n",
      "Error fetching OSM data for point (39.883427, -0.334553): Found no graph nodes within the requested polygon\n",
      "Error fetching OSM data for point (39.884422, -0.327628): Connectivity is undefined for the null graph.\n",
      "Error fetching OSM data for point (39.884258, -0.316753): Connectivity is undefined for the null graph.\n",
      "Error fetching OSM data for point (39.884594, -0.316588): Connectivity is undefined for the null graph.\n",
      "Error fetching OSM data for point (39.885836, -0.31656): Connectivity is undefined for the null graph.\n",
      "Error fetching OSM data for point (39.873872, -0.307294): Connectivity is undefined for the null graph.\n",
      "Error fetching OSM data for point (39.871726, -0.302467): Found no graph nodes within the requested polygon\n",
      "Error fetching OSM data for point (39.869976, -0.301998): Found no graph nodes within the requested polygon\n",
      "Error fetching OSM data for point (39.869653, -0.300622): Connectivity is undefined for the null graph.\n",
      "Error fetching OSM data for point (39.869216, -0.302287): Found no graph nodes within the requested polygon\n",
      "Error fetching OSM data for point (39.870307, -0.308719): Connectivity is undefined for the null graph.\n",
      "Error fetching OSM data for point (39.870299, -0.309728): Found no graph nodes within the requested polygon\n",
      "Error fetching OSM data for point (39.870268, -0.303665): Found no graph nodes within the requested polygon\n",
      "Error fetching OSM data for point (39.864717, -0.31799): Connectivity is undefined for the null graph.\n",
      "Error fetching OSM data for point (39.869367, -0.322358): Found no graph nodes within the requested polygon\n",
      "Error fetching OSM data for point (39.869198, -0.323737): Connectivity is undefined for the null graph.\n",
      "Error fetching OSM data for point (39.869757, -0.321447): Found no graph nodes within the requested polygon\n",
      "Error fetching OSM data for point (39.868553, -0.323285): Found no graph nodes within the requested polygon\n",
      "Error fetching OSM data for point (39.869621, -0.325726): Connectivity is undefined for the null graph.\n",
      "Error fetching OSM data for point (39.868763, -0.321071): Found no graph nodes within the requested polygon\n",
      "Error fetching OSM data for point (39.869576, -0.325779): Connectivity is undefined for the null graph.\n",
      "Error fetching OSM data for point (39.869684, -0.32139): Found no graph nodes within the requested polygon\n",
      "Error fetching OSM data for point (39.869385, -0.32233): Found no graph nodes within the requested polygon\n",
      "Error fetching OSM data for point (39.86884, -0.321467): Found no graph nodes within the requested polygon\n",
      "Error fetching OSM data for point (39.869247, -0.323754): Connectivity is undefined for the null graph.\n",
      "Error fetching OSM data for point (39.867379, -0.326489): Connectivity is undefined for the null graph.\n",
      "Error fetching OSM data for point (39.868184, -0.327609): Connectivity is undefined for the null graph.\n",
      "Error fetching OSM data for point (39.868913, -0.321016): Found no graph nodes within the requested polygon\n",
      "Error fetching OSM data for point (39.870495, -0.333949): Found no graph nodes within the requested polygon\n",
      "Error fetching OSM data for point (39.870736, -0.332342): Found no graph nodes within the requested polygon\n",
      "Error fetching OSM data for point (39.869588, -0.329487): Found no graph nodes within the requested polygon\n",
      "Error fetching OSM data for point (39.867539, -0.336036): Connectivity is undefined for the null graph.\n",
      "Error fetching OSM data for point (39.866127, -0.336795): Connectivity is undefined for the null graph.\n",
      "Error fetching OSM data for point (39.869515, -0.330336): Connectivity is undefined for the null graph.\n",
      "Error fetching OSM data for point (39.868878, -0.33249): Connectivity is undefined for the null graph.\n",
      "Error fetching OSM data for point (39.868732, -0.331398): Connectivity is undefined for the null graph.\n",
      "Error fetching OSM data for point (39.868628, -0.329302): Found no graph nodes within the requested polygon\n",
      "Error fetching OSM data for point (39.864294, -0.335974): Connectivity is undefined for the null graph.\n",
      "Error fetching OSM data for point (39.86399, -0.335279): Connectivity is undefined for the null graph.\n",
      "Error fetching OSM data for point (39.862653, -0.335627): Connectivity is undefined for the null graph.\n",
      "Error fetching OSM data for point (39.862219, -0.335197): Connectivity is undefined for the null graph.\n",
      "Error fetching OSM data for point (39.858804, -0.342866): Found no graph nodes within the requested polygon\n",
      "Error fetching OSM data for point (39.859989, -0.342037): Found no graph nodes within the requested polygon\n",
      "Error fetching OSM data for point (39.861027, -0.338508): Connectivity is undefined for the null graph.\n",
      "Error fetching OSM data for point (39.86035, -0.339764): Found no graph nodes within the requested polygon\n",
      "Error fetching OSM data for point (39.860269, -0.341249): Found no graph nodes within the requested polygon\n",
      "Error fetching OSM data for point (39.859567, -0.341426): Found no graph nodes within the requested polygon\n",
      "Error fetching OSM data for point (39.86142, -0.343133): Found no graph nodes within the requested polygon\n",
      "Error fetching OSM data for point (39.865221, -0.342674): Found no graph nodes within the requested polygon\n",
      "Error fetching OSM data for point (39.862653, -0.343586): Found no graph nodes within the requested polygon\n",
      "Error fetching OSM data for point (39.862036, -0.34473): Found no graph nodes within the requested polygon\n",
      "Error fetching OSM data for point (39.86635, -0.34532): Found no graph nodes within the requested polygon\n",
      "Error fetching OSM data for point (39.863355, -0.343267): Found no graph nodes within the requested polygon\n",
      "Error fetching OSM data for point (39.864237, -0.343482): Found no graph nodes within the requested polygon\n",
      "Error fetching OSM data for point (39.865738, -0.346254): Found no graph nodes within the requested polygon\n",
      "Error fetching OSM data for point (39.865768, -0.346905): Found no graph nodes within the requested polygon\n",
      "Error fetching OSM data for point (39.866313, -0.347589): Found no graph nodes within the requested polygon\n",
      "Error fetching OSM data for point (39.866898, -0.34748): Found no graph nodes within the requested polygon\n",
      "Error fetching OSM data for point (39.868874, -0.349259): Found no graph nodes within the requested polygon\n",
      "Error fetching OSM data for point (39.867483, -0.349513): Found no graph nodes within the requested polygon\n",
      "Error fetching OSM data for point (39.866712, -0.349215): Found no graph nodes within the requested polygon\n",
      "Error fetching OSM data for point (39.871972, -0.349745): Connectivity is undefined for the null graph.\n",
      "Error fetching OSM data for point (39.871521, -0.3509): Connectivity is undefined for the null graph.\n",
      "Error fetching OSM data for point (39.868993, -0.352138): Found no graph nodes within the requested polygon\n",
      "Error fetching OSM data for point (39.869059, -0.353344): Found no graph nodes within the requested polygon\n",
      "Error fetching OSM data for point (39.868744, -0.353626): Found no graph nodes within the requested polygon\n",
      "Error fetching OSM data for point (39.870708, -0.350022): Connectivity is undefined for the null graph.\n",
      "Error fetching OSM data for point (39.868713, -0.354299): Found no graph nodes within the requested polygon\n",
      "Error fetching OSM data for point (39.871144, -0.355167): Found no graph nodes within the requested polygon\n",
      "Error fetching OSM data for point (39.870611, -0.354383): Found no graph nodes within the requested polygon\n",
      "Error fetching OSM data for point (39.867254, -0.357181): Connectivity is undefined for the null graph.\n",
      "Error fetching OSM data for point (39.865212, -0.353502): Found no graph nodes within the requested polygon\n",
      "Error fetching OSM data for point (39.862944, -0.353909): Found no graph nodes within the requested polygon\n",
      "Error fetching OSM data for point (39.866963, -0.356601): Connectivity is undefined for the null graph.\n",
      "Error fetching OSM data for point (39.866111, -0.357185): Connectivity is undefined for the null graph.\n",
      "Error fetching OSM data for point (39.867687, -0.35639): Connectivity is undefined for the null graph.\n",
      "Error fetching OSM data for point (39.861016, -0.353438): Found no graph nodes within the requested polygon\n",
      "Error fetching OSM data for point (39.86604, -0.353944): Found no graph nodes within the requested polygon\n",
      "Error fetching OSM data for point (39.86065, -0.35371): Connectivity is undefined for the null graph.\n",
      "Error fetching OSM data for point (39.866822, -0.35619): Connectivity is undefined for the null graph.\n",
      "Error fetching OSM data for point (39.866065, -0.355049): Connectivity is undefined for the null graph.\n",
      "Error fetching OSM data for point (39.859401, -0.352344): Connectivity is undefined for the null graph.\n",
      "Error fetching OSM data for point (39.857589, -0.352618): Connectivity is undefined for the null graph.\n",
      "Error fetching OSM data for point (39.846797, -0.359545): Connectivity is undefined for the null graph.\n",
      "Error fetching OSM data for point (39.85048, -0.353143): Connectivity is undefined for the null graph.\n",
      "Error fetching OSM data for point (39.85253, -0.349681): Found no graph nodes within the requested polygon\n",
      "Error fetching OSM data for point (39.846241, -0.361152): Found no graph nodes within the requested polygon\n",
      "Error fetching OSM data for point (39.845201, -0.364452): Connectivity is undefined for the null graph.\n",
      "Error fetching OSM data for point (39.844519, -0.366902): Connectivity is undefined for the null graph.\n",
      "Error fetching OSM data for point (39.845586, -0.361826): Connectivity is undefined for the null graph.\n"
     ]
    },
    {
     "data": {
      "application/vnd.plotly.v1+json": {
       "config": {
        "plotlyServerURL": "https://plot.ly"
       },
       "data": [
        {
         "domain": {
          "x": [
           0,
           1
          ],
          "y": [
           0,
           1
          ]
         },
         "hovertemplate": "label=%{label}<br>value=%{value}<br>parent=%{parent}<extra></extra>",
         "labels": [
          "secondary",
          "track",
          "unclassified",
          "residential",
          "path",
          "steps",
          "living_street",
          "service"
         ],
         "name": "",
         "parents": [
          "",
          "",
          "",
          "",
          "",
          "",
          "",
          ""
         ],
         "type": "sunburst",
         "values": [
          45,
          165,
          5,
          20,
          57,
          1,
          9,
          2
         ]
        }
       ],
       "layout": {
        "legend": {
         "tracegroupgap": 0
        },
        "template": {
         "data": {
          "bar": [
           {
            "error_x": {
             "color": "#2a3f5f"
            },
            "error_y": {
             "color": "#2a3f5f"
            },
            "marker": {
             "line": {
              "color": "#E5ECF6",
              "width": 0.5
             },
             "pattern": {
              "fillmode": "overlay",
              "size": 10,
              "solidity": 0.2
             }
            },
            "type": "bar"
           }
          ],
          "barpolar": [
           {
            "marker": {
             "line": {
              "color": "#E5ECF6",
              "width": 0.5
             },
             "pattern": {
              "fillmode": "overlay",
              "size": 10,
              "solidity": 0.2
             }
            },
            "type": "barpolar"
           }
          ],
          "carpet": [
           {
            "aaxis": {
             "endlinecolor": "#2a3f5f",
             "gridcolor": "white",
             "linecolor": "white",
             "minorgridcolor": "white",
             "startlinecolor": "#2a3f5f"
            },
            "baxis": {
             "endlinecolor": "#2a3f5f",
             "gridcolor": "white",
             "linecolor": "white",
             "minorgridcolor": "white",
             "startlinecolor": "#2a3f5f"
            },
            "type": "carpet"
           }
          ],
          "choropleth": [
           {
            "colorbar": {
             "outlinewidth": 0,
             "ticks": ""
            },
            "type": "choropleth"
           }
          ],
          "contour": [
           {
            "colorbar": {
             "outlinewidth": 0,
             "ticks": ""
            },
            "colorscale": [
             [
              0,
              "#0d0887"
             ],
             [
              0.1111111111111111,
              "#46039f"
             ],
             [
              0.2222222222222222,
              "#7201a8"
             ],
             [
              0.3333333333333333,
              "#9c179e"
             ],
             [
              0.4444444444444444,
              "#bd3786"
             ],
             [
              0.5555555555555556,
              "#d8576b"
             ],
             [
              0.6666666666666666,
              "#ed7953"
             ],
             [
              0.7777777777777778,
              "#fb9f3a"
             ],
             [
              0.8888888888888888,
              "#fdca26"
             ],
             [
              1,
              "#f0f921"
             ]
            ],
            "type": "contour"
           }
          ],
          "contourcarpet": [
           {
            "colorbar": {
             "outlinewidth": 0,
             "ticks": ""
            },
            "type": "contourcarpet"
           }
          ],
          "heatmap": [
           {
            "colorbar": {
             "outlinewidth": 0,
             "ticks": ""
            },
            "colorscale": [
             [
              0,
              "#0d0887"
             ],
             [
              0.1111111111111111,
              "#46039f"
             ],
             [
              0.2222222222222222,
              "#7201a8"
             ],
             [
              0.3333333333333333,
              "#9c179e"
             ],
             [
              0.4444444444444444,
              "#bd3786"
             ],
             [
              0.5555555555555556,
              "#d8576b"
             ],
             [
              0.6666666666666666,
              "#ed7953"
             ],
             [
              0.7777777777777778,
              "#fb9f3a"
             ],
             [
              0.8888888888888888,
              "#fdca26"
             ],
             [
              1,
              "#f0f921"
             ]
            ],
            "type": "heatmap"
           }
          ],
          "heatmapgl": [
           {
            "colorbar": {
             "outlinewidth": 0,
             "ticks": ""
            },
            "colorscale": [
             [
              0,
              "#0d0887"
             ],
             [
              0.1111111111111111,
              "#46039f"
             ],
             [
              0.2222222222222222,
              "#7201a8"
             ],
             [
              0.3333333333333333,
              "#9c179e"
             ],
             [
              0.4444444444444444,
              "#bd3786"
             ],
             [
              0.5555555555555556,
              "#d8576b"
             ],
             [
              0.6666666666666666,
              "#ed7953"
             ],
             [
              0.7777777777777778,
              "#fb9f3a"
             ],
             [
              0.8888888888888888,
              "#fdca26"
             ],
             [
              1,
              "#f0f921"
             ]
            ],
            "type": "heatmapgl"
           }
          ],
          "histogram": [
           {
            "marker": {
             "pattern": {
              "fillmode": "overlay",
              "size": 10,
              "solidity": 0.2
             }
            },
            "type": "histogram"
           }
          ],
          "histogram2d": [
           {
            "colorbar": {
             "outlinewidth": 0,
             "ticks": ""
            },
            "colorscale": [
             [
              0,
              "#0d0887"
             ],
             [
              0.1111111111111111,
              "#46039f"
             ],
             [
              0.2222222222222222,
              "#7201a8"
             ],
             [
              0.3333333333333333,
              "#9c179e"
             ],
             [
              0.4444444444444444,
              "#bd3786"
             ],
             [
              0.5555555555555556,
              "#d8576b"
             ],
             [
              0.6666666666666666,
              "#ed7953"
             ],
             [
              0.7777777777777778,
              "#fb9f3a"
             ],
             [
              0.8888888888888888,
              "#fdca26"
             ],
             [
              1,
              "#f0f921"
             ]
            ],
            "type": "histogram2d"
           }
          ],
          "histogram2dcontour": [
           {
            "colorbar": {
             "outlinewidth": 0,
             "ticks": ""
            },
            "colorscale": [
             [
              0,
              "#0d0887"
             ],
             [
              0.1111111111111111,
              "#46039f"
             ],
             [
              0.2222222222222222,
              "#7201a8"
             ],
             [
              0.3333333333333333,
              "#9c179e"
             ],
             [
              0.4444444444444444,
              "#bd3786"
             ],
             [
              0.5555555555555556,
              "#d8576b"
             ],
             [
              0.6666666666666666,
              "#ed7953"
             ],
             [
              0.7777777777777778,
              "#fb9f3a"
             ],
             [
              0.8888888888888888,
              "#fdca26"
             ],
             [
              1,
              "#f0f921"
             ]
            ],
            "type": "histogram2dcontour"
           }
          ],
          "mesh3d": [
           {
            "colorbar": {
             "outlinewidth": 0,
             "ticks": ""
            },
            "type": "mesh3d"
           }
          ],
          "parcoords": [
           {
            "line": {
             "colorbar": {
              "outlinewidth": 0,
              "ticks": ""
             }
            },
            "type": "parcoords"
           }
          ],
          "pie": [
           {
            "automargin": true,
            "type": "pie"
           }
          ],
          "scatter": [
           {
            "fillpattern": {
             "fillmode": "overlay",
             "size": 10,
             "solidity": 0.2
            },
            "type": "scatter"
           }
          ],
          "scatter3d": [
           {
            "line": {
             "colorbar": {
              "outlinewidth": 0,
              "ticks": ""
             }
            },
            "marker": {
             "colorbar": {
              "outlinewidth": 0,
              "ticks": ""
             }
            },
            "type": "scatter3d"
           }
          ],
          "scattercarpet": [
           {
            "marker": {
             "colorbar": {
              "outlinewidth": 0,
              "ticks": ""
             }
            },
            "type": "scattercarpet"
           }
          ],
          "scattergeo": [
           {
            "marker": {
             "colorbar": {
              "outlinewidth": 0,
              "ticks": ""
             }
            },
            "type": "scattergeo"
           }
          ],
          "scattergl": [
           {
            "marker": {
             "colorbar": {
              "outlinewidth": 0,
              "ticks": ""
             }
            },
            "type": "scattergl"
           }
          ],
          "scattermapbox": [
           {
            "marker": {
             "colorbar": {
              "outlinewidth": 0,
              "ticks": ""
             }
            },
            "type": "scattermapbox"
           }
          ],
          "scatterpolar": [
           {
            "marker": {
             "colorbar": {
              "outlinewidth": 0,
              "ticks": ""
             }
            },
            "type": "scatterpolar"
           }
          ],
          "scatterpolargl": [
           {
            "marker": {
             "colorbar": {
              "outlinewidth": 0,
              "ticks": ""
             }
            },
            "type": "scatterpolargl"
           }
          ],
          "scatterternary": [
           {
            "marker": {
             "colorbar": {
              "outlinewidth": 0,
              "ticks": ""
             }
            },
            "type": "scatterternary"
           }
          ],
          "surface": [
           {
            "colorbar": {
             "outlinewidth": 0,
             "ticks": ""
            },
            "colorscale": [
             [
              0,
              "#0d0887"
             ],
             [
              0.1111111111111111,
              "#46039f"
             ],
             [
              0.2222222222222222,
              "#7201a8"
             ],
             [
              0.3333333333333333,
              "#9c179e"
             ],
             [
              0.4444444444444444,
              "#bd3786"
             ],
             [
              0.5555555555555556,
              "#d8576b"
             ],
             [
              0.6666666666666666,
              "#ed7953"
             ],
             [
              0.7777777777777778,
              "#fb9f3a"
             ],
             [
              0.8888888888888888,
              "#fdca26"
             ],
             [
              1,
              "#f0f921"
             ]
            ],
            "type": "surface"
           }
          ],
          "table": [
           {
            "cells": {
             "fill": {
              "color": "#EBF0F8"
             },
             "line": {
              "color": "white"
             }
            },
            "header": {
             "fill": {
              "color": "#C8D4E3"
             },
             "line": {
              "color": "white"
             }
            },
            "type": "table"
           }
          ]
         },
         "layout": {
          "annotationdefaults": {
           "arrowcolor": "#2a3f5f",
           "arrowhead": 0,
           "arrowwidth": 1
          },
          "autotypenumbers": "strict",
          "coloraxis": {
           "colorbar": {
            "outlinewidth": 0,
            "ticks": ""
           }
          },
          "colorscale": {
           "diverging": [
            [
             0,
             "#8e0152"
            ],
            [
             0.1,
             "#c51b7d"
            ],
            [
             0.2,
             "#de77ae"
            ],
            [
             0.3,
             "#f1b6da"
            ],
            [
             0.4,
             "#fde0ef"
            ],
            [
             0.5,
             "#f7f7f7"
            ],
            [
             0.6,
             "#e6f5d0"
            ],
            [
             0.7,
             "#b8e186"
            ],
            [
             0.8,
             "#7fbc41"
            ],
            [
             0.9,
             "#4d9221"
            ],
            [
             1,
             "#276419"
            ]
           ],
           "sequential": [
            [
             0,
             "#0d0887"
            ],
            [
             0.1111111111111111,
             "#46039f"
            ],
            [
             0.2222222222222222,
             "#7201a8"
            ],
            [
             0.3333333333333333,
             "#9c179e"
            ],
            [
             0.4444444444444444,
             "#bd3786"
            ],
            [
             0.5555555555555556,
             "#d8576b"
            ],
            [
             0.6666666666666666,
             "#ed7953"
            ],
            [
             0.7777777777777778,
             "#fb9f3a"
            ],
            [
             0.8888888888888888,
             "#fdca26"
            ],
            [
             1,
             "#f0f921"
            ]
           ],
           "sequentialminus": [
            [
             0,
             "#0d0887"
            ],
            [
             0.1111111111111111,
             "#46039f"
            ],
            [
             0.2222222222222222,
             "#7201a8"
            ],
            [
             0.3333333333333333,
             "#9c179e"
            ],
            [
             0.4444444444444444,
             "#bd3786"
            ],
            [
             0.5555555555555556,
             "#d8576b"
            ],
            [
             0.6666666666666666,
             "#ed7953"
            ],
            [
             0.7777777777777778,
             "#fb9f3a"
            ],
            [
             0.8888888888888888,
             "#fdca26"
            ],
            [
             1,
             "#f0f921"
            ]
           ]
          },
          "colorway": [
           "#636efa",
           "#EF553B",
           "#00cc96",
           "#ab63fa",
           "#FFA15A",
           "#19d3f3",
           "#FF6692",
           "#B6E880",
           "#FF97FF",
           "#FECB52"
          ],
          "font": {
           "color": "#2a3f5f"
          },
          "geo": {
           "bgcolor": "white",
           "lakecolor": "white",
           "landcolor": "#E5ECF6",
           "showlakes": true,
           "showland": true,
           "subunitcolor": "white"
          },
          "hoverlabel": {
           "align": "left"
          },
          "hovermode": "closest",
          "mapbox": {
           "style": "light"
          },
          "paper_bgcolor": "white",
          "plot_bgcolor": "#E5ECF6",
          "polar": {
           "angularaxis": {
            "gridcolor": "white",
            "linecolor": "white",
            "ticks": ""
           },
           "bgcolor": "#E5ECF6",
           "radialaxis": {
            "gridcolor": "white",
            "linecolor": "white",
            "ticks": ""
           }
          },
          "scene": {
           "xaxis": {
            "backgroundcolor": "#E5ECF6",
            "gridcolor": "white",
            "gridwidth": 2,
            "linecolor": "white",
            "showbackground": true,
            "ticks": "",
            "zerolinecolor": "white"
           },
           "yaxis": {
            "backgroundcolor": "#E5ECF6",
            "gridcolor": "white",
            "gridwidth": 2,
            "linecolor": "white",
            "showbackground": true,
            "ticks": "",
            "zerolinecolor": "white"
           },
           "zaxis": {
            "backgroundcolor": "#E5ECF6",
            "gridcolor": "white",
            "gridwidth": 2,
            "linecolor": "white",
            "showbackground": true,
            "ticks": "",
            "zerolinecolor": "white"
           }
          },
          "shapedefaults": {
           "line": {
            "color": "#2a3f5f"
           }
          },
          "ternary": {
           "aaxis": {
            "gridcolor": "white",
            "linecolor": "white",
            "ticks": ""
           },
           "baxis": {
            "gridcolor": "white",
            "linecolor": "white",
            "ticks": ""
           },
           "bgcolor": "#E5ECF6",
           "caxis": {
            "gridcolor": "white",
            "linecolor": "white",
            "ticks": ""
           }
          },
          "title": {
           "x": 0.05
          },
          "xaxis": {
           "automargin": true,
           "gridcolor": "white",
           "linecolor": "white",
           "ticks": "",
           "title": {
            "standoff": 15
           },
           "zerolinecolor": "white",
           "zerolinewidth": 2
          },
          "yaxis": {
           "automargin": true,
           "gridcolor": "white",
           "linecolor": "white",
           "ticks": "",
           "title": {
            "standoff": 15
           },
           "zerolinecolor": "white",
           "zerolinewidth": 2
          }
         }
        },
        "title": {
         "text": "Distribución de tipos de calzada"
        }
       }
      }
     },
     "metadata": {},
     "output_type": "display_data"
    }
   ],
   "source": [
    "import gpxpy\n",
    "import osmnx as ox\n",
    "import networkx as nx\n",
    "import folium\n",
    "import math\n",
    "from collections import Counter\n",
    "import plotly.express as px\n",
    "from concurrent.futures import ThreadPoolExecutor, as_completed\n",
    "\n",
    "# Load the GPX file\n",
    "with open('ruta.gpx', 'r') as gpx_file:\n",
    "    gpx = gpxpy.parse(gpx_file)\n",
    "\n",
    "# Extract points and elevations from the GPX track\n",
    "points = []\n",
    "elevations = []\n",
    "for track in gpx.tracks:\n",
    "    for segment in track.segments:\n",
    "        for point in segment.points:\n",
    "            points.append((point.latitude, point.longitude))\n",
    "            elevations.append(point.elevation)\n",
    "\n",
    "def haversine(coord1, coord2):\n",
    "    R = 6371000  # radius of Earth in meters\n",
    "    lat1, lon1 = coord1\n",
    "    lat2, lon2 = coord2\n",
    "    phi1 = math.radians(lat1)\n",
    "    phi2 = math.radians(lat2)\n",
    "    delta_phi = math.radians(lat2 - lat1)\n",
    "    delta_lambda = math.radians(lon2 - lon1)\n",
    "    a = math.sin(delta_phi / 2.0) ** 2 + math.cos(phi1) * math.cos(phi2) * math.sin(delta_lambda / 2.0) ** 2\n",
    "    c = 2 * math.atan2(math.sqrt(a), math.sqrt(1 - a))\n",
    "    meters = R * c  # output distance in meters\n",
    "    return meters\n",
    "\n",
    "def calculate_bearing(coord1, coord2):\n",
    "    lat1, lon1 = math.radians(coord1[0]), math.radians(coord1[1])\n",
    "    lat2, lon2 = math.radians(coord2[0]), math.radians(coord2[1])\n",
    "    delta_lon = lon2 - lon1\n",
    "    x = math.sin(delta_lon) * math.cos(lat2)\n",
    "    y = math.cos(lat1) * math.sin(lat2) - math.sin(lat1) * math.cos(lat2) * math.cos(delta_lon)\n",
    "    bearing = math.atan2(x, y)\n",
    "    bearing = math.degrees(bearing)\n",
    "    return (bearing + 360) % 360\n",
    "\n",
    "# Detect curves and check if they are downhill\n",
    "num_curves = 0\n",
    "num_downhill_curves = 0\n",
    "for i in range(1, len(points) - 1):\n",
    "    bearing1 = calculate_bearing(points[i-1], points[i])\n",
    "    bearing2 = calculate_bearing(points[i], points[i+1])\n",
    "    change_in_bearing = abs(bearing2 - bearing1)\n",
    "    if change_in_bearing > 30:  # Threshold for detecting a curve, can be adjusted\n",
    "        num_curves += 1\n",
    "        if elevations[i] > elevations[i+1]:\n",
    "            num_downhill_curves += 1\n",
    "\n",
    "print(f'Número total de curvas: {num_curves}')\n",
    "print(f'Número de curvas cuesta abajo: {num_downhill_curves}')\n",
    "\n",
    "def get_road_type(point, dist=200):  # Increase distance to 500 meters\n",
    "    try:\n",
    "        G = ox.graph_from_point(point, dist=dist, network_type='all')\n",
    "        if len(G) == 0:\n",
    "            raise nx.NetworkXPointlessConcept(\"Graph is empty.\")\n",
    "        for u, v, data in G.edges(data=True):\n",
    "            if 'highway' in data:\n",
    "                highway_type = data['highway']\n",
    "                if isinstance(highway_type, list):\n",
    "                    highway_type = highway_type[0]  # Take the first type if it's a list\n",
    "                return highway_type\n",
    "    except Exception as e:\n",
    "        print(f\"Error fetching OSM data for point {point}: {e}\")\n",
    "    return None\n",
    "\n",
    "# Define a color mapping based on road difficulty\n",
    "road_color_map = {\n",
    "    'motorway': 'gray',\n",
    "    'trunk': 'gray',\n",
    "    'primary': 'gray',\n",
    "    'secondary': 'gray',\n",
    "    'tertiary': 'gray',\n",
    "    'unclassified': 'black',\n",
    "    'residential': 'gray',\n",
    "    'service': 'gray',\n",
    "    'track': 'orange',\n",
    "    'path': 'darkorange',\n",
    "    'footway': 'red',\n",
    "    'cycleway': 'red'\n",
    "}\n",
    "\n",
    "# Parallel processing to get road types for each point\n",
    "def process_point(index, point):\n",
    "    road_type = get_road_type(point)\n",
    "    if road_type:\n",
    "        color = road_color_map.get(road_type, 'black')\n",
    "        return (index, point[0], point[1], color, road_type)\n",
    "    return (index, point[0], point[1], 'black', None)\n",
    "\n",
    "track_data = []\n",
    "with ThreadPoolExecutor(max_workers=10) as executor:\n",
    "    future_to_point = {executor.submit(process_point, idx, point): idx for idx, point in enumerate(points)}\n",
    "    for future in as_completed(future_to_point):\n",
    "        track_data.append(future.result())\n",
    "\n",
    "# Sort track_data based on the original index to maintain order\n",
    "track_data.sort()\n",
    "\n",
    "# Initialize the map at the center of the track\n",
    "map_center = [points[0][0], points[0][1]]\n",
    "mymap = folium.Map(location=map_center, zoom_start=14)\n",
    "\n",
    "# Add the track to the map\n",
    "for i in range(len(track_data) - 1):\n",
    "    folium.PolyLine(locations=[(track_data[i][1], track_data[i][2]), (track_data[i+1][1], track_data[i+1][2])], color=track_data[i][3], weight=5).add_to(mymap)\n",
    "\n",
    "# Save the map to an HTML file\n",
    "mymap.save('track_map.html')\n",
    "\n",
    "# Create a counter for the road types\n",
    "road_type_counts = Counter([data[4] for data in track_data if data[4]])\n",
    "\n",
    "# Prepare data for the sunburst plot\n",
    "labels = []\n",
    "parents = []\n",
    "values = []\n",
    "\n",
    "for road_type, count in road_type_counts.items():\n",
    "    labels.append(road_type)\n",
    "    parents.append(\"\")\n",
    "    values.append(count)\n",
    "\n",
    "# Create the sunburst plot\n",
    "fig = px.sunburst(\n",
    "    names=labels,\n",
    "    parents=parents,\n",
    "    values=values,\n",
    "    title=\"Distribución de tipos de calzada\"\n",
    ")\n",
    "\n",
    "# Show the plot\n",
    "fig.show()\n"
   ]
  },
  {
   "cell_type": "code",
   "execution_count": 21,
   "metadata": {},
   "outputs": [
    {
     "name": "stdout",
     "output_type": "stream",
     "text": [
      "Número total de curvas: 438\n",
      "Número de curvas cuesta abajo: 206\n",
      "Error fetching OSM data for point (39.884379, -0.417974): Connectivity is undefined for the null graph.\n",
      "Error fetching OSM data for point (39.923452, -0.378427): Connectivity is undefined for the null graph.\n",
      "Error fetching OSM data for point (39.924514, -0.37306): Connectivity is undefined for the null graph.\n",
      "Error fetching OSM data for point (39.858804, -0.342866): Connectivity is undefined for the null graph.\n",
      "Error fetching OSM data for point (39.859989, -0.342037): Connectivity is undefined for the null graph.\n",
      "Error fetching OSM data for point (39.86142, -0.343133): Connectivity is undefined for the null graph.\n",
      "Error fetching OSM data for point (39.862036, -0.34473): Connectivity is undefined for the null graph.\n",
      "Error fetching OSM data for point (39.864237, -0.343482): Connectivity is undefined for the null graph.\n",
      "Error fetching OSM data for point (39.862653, -0.343586): Connectivity is undefined for the null graph.\n",
      "Error fetching OSM data for point (39.863355, -0.343267): Connectivity is undefined for the null graph.\n",
      "Error fetching OSM data for point (39.865221, -0.342674): Connectivity is undefined for the null graph.\n",
      "Error fetching OSM data for point (39.865738, -0.346254): Connectivity is undefined for the null graph.\n",
      "Error fetching OSM data for point (39.865768, -0.346905): Connectivity is undefined for the null graph.\n",
      "Error fetching OSM data for point (39.866313, -0.347589): Connectivity is undefined for the null graph.\n",
      "Error fetching OSM data for point (39.86635, -0.34532): Connectivity is undefined for the null graph.\n",
      "Error fetching OSM data for point (39.866898, -0.34748): Connectivity is undefined for the null graph.\n",
      "Error fetching OSM data for point (39.866712, -0.349215): Connectivity is undefined for the null graph.\n",
      "Error fetching OSM data for point (39.867483, -0.349513): Connectivity is undefined for the null graph.\n",
      "Error fetching OSM data for point (39.871521, -0.3509): Connectivity is undefined for the null graph.\n",
      "Error fetching OSM data for point (39.865212, -0.353502): Connectivity is undefined for the null graph.\n"
     ]
    },
    {
     "data": {
      "application/vnd.plotly.v1+json": {
       "config": {
        "plotlyServerURL": "https://plot.ly"
       },
       "data": [
        {
         "domain": {
          "x": [
           0,
           1
          ],
          "y": [
           0,
           1
          ]
         },
         "hovertemplate": "label=%{label}<br>value=%{value}<br>parent=%{parent}<extra></extra>",
         "labels": [
          "secondary",
          "footway",
          "unclassified",
          "track",
          "residential",
          "path",
          "living_street",
          "service"
         ],
         "name": "",
         "parents": [
          "",
          "",
          "",
          "",
          "",
          "",
          "",
          ""
         ],
         "type": "sunburst",
         "values": [
          33,
          1,
          10,
          307,
          28,
          87,
          13,
          1
         ]
        }
       ],
       "layout": {
        "legend": {
         "tracegroupgap": 0
        },
        "template": {
         "data": {
          "bar": [
           {
            "error_x": {
             "color": "#2a3f5f"
            },
            "error_y": {
             "color": "#2a3f5f"
            },
            "marker": {
             "line": {
              "color": "#E5ECF6",
              "width": 0.5
             },
             "pattern": {
              "fillmode": "overlay",
              "size": 10,
              "solidity": 0.2
             }
            },
            "type": "bar"
           }
          ],
          "barpolar": [
           {
            "marker": {
             "line": {
              "color": "#E5ECF6",
              "width": 0.5
             },
             "pattern": {
              "fillmode": "overlay",
              "size": 10,
              "solidity": 0.2
             }
            },
            "type": "barpolar"
           }
          ],
          "carpet": [
           {
            "aaxis": {
             "endlinecolor": "#2a3f5f",
             "gridcolor": "white",
             "linecolor": "white",
             "minorgridcolor": "white",
             "startlinecolor": "#2a3f5f"
            },
            "baxis": {
             "endlinecolor": "#2a3f5f",
             "gridcolor": "white",
             "linecolor": "white",
             "minorgridcolor": "white",
             "startlinecolor": "#2a3f5f"
            },
            "type": "carpet"
           }
          ],
          "choropleth": [
           {
            "colorbar": {
             "outlinewidth": 0,
             "ticks": ""
            },
            "type": "choropleth"
           }
          ],
          "contour": [
           {
            "colorbar": {
             "outlinewidth": 0,
             "ticks": ""
            },
            "colorscale": [
             [
              0,
              "#0d0887"
             ],
             [
              0.1111111111111111,
              "#46039f"
             ],
             [
              0.2222222222222222,
              "#7201a8"
             ],
             [
              0.3333333333333333,
              "#9c179e"
             ],
             [
              0.4444444444444444,
              "#bd3786"
             ],
             [
              0.5555555555555556,
              "#d8576b"
             ],
             [
              0.6666666666666666,
              "#ed7953"
             ],
             [
              0.7777777777777778,
              "#fb9f3a"
             ],
             [
              0.8888888888888888,
              "#fdca26"
             ],
             [
              1,
              "#f0f921"
             ]
            ],
            "type": "contour"
           }
          ],
          "contourcarpet": [
           {
            "colorbar": {
             "outlinewidth": 0,
             "ticks": ""
            },
            "type": "contourcarpet"
           }
          ],
          "heatmap": [
           {
            "colorbar": {
             "outlinewidth": 0,
             "ticks": ""
            },
            "colorscale": [
             [
              0,
              "#0d0887"
             ],
             [
              0.1111111111111111,
              "#46039f"
             ],
             [
              0.2222222222222222,
              "#7201a8"
             ],
             [
              0.3333333333333333,
              "#9c179e"
             ],
             [
              0.4444444444444444,
              "#bd3786"
             ],
             [
              0.5555555555555556,
              "#d8576b"
             ],
             [
              0.6666666666666666,
              "#ed7953"
             ],
             [
              0.7777777777777778,
              "#fb9f3a"
             ],
             [
              0.8888888888888888,
              "#fdca26"
             ],
             [
              1,
              "#f0f921"
             ]
            ],
            "type": "heatmap"
           }
          ],
          "heatmapgl": [
           {
            "colorbar": {
             "outlinewidth": 0,
             "ticks": ""
            },
            "colorscale": [
             [
              0,
              "#0d0887"
             ],
             [
              0.1111111111111111,
              "#46039f"
             ],
             [
              0.2222222222222222,
              "#7201a8"
             ],
             [
              0.3333333333333333,
              "#9c179e"
             ],
             [
              0.4444444444444444,
              "#bd3786"
             ],
             [
              0.5555555555555556,
              "#d8576b"
             ],
             [
              0.6666666666666666,
              "#ed7953"
             ],
             [
              0.7777777777777778,
              "#fb9f3a"
             ],
             [
              0.8888888888888888,
              "#fdca26"
             ],
             [
              1,
              "#f0f921"
             ]
            ],
            "type": "heatmapgl"
           }
          ],
          "histogram": [
           {
            "marker": {
             "pattern": {
              "fillmode": "overlay",
              "size": 10,
              "solidity": 0.2
             }
            },
            "type": "histogram"
           }
          ],
          "histogram2d": [
           {
            "colorbar": {
             "outlinewidth": 0,
             "ticks": ""
            },
            "colorscale": [
             [
              0,
              "#0d0887"
             ],
             [
              0.1111111111111111,
              "#46039f"
             ],
             [
              0.2222222222222222,
              "#7201a8"
             ],
             [
              0.3333333333333333,
              "#9c179e"
             ],
             [
              0.4444444444444444,
              "#bd3786"
             ],
             [
              0.5555555555555556,
              "#d8576b"
             ],
             [
              0.6666666666666666,
              "#ed7953"
             ],
             [
              0.7777777777777778,
              "#fb9f3a"
             ],
             [
              0.8888888888888888,
              "#fdca26"
             ],
             [
              1,
              "#f0f921"
             ]
            ],
            "type": "histogram2d"
           }
          ],
          "histogram2dcontour": [
           {
            "colorbar": {
             "outlinewidth": 0,
             "ticks": ""
            },
            "colorscale": [
             [
              0,
              "#0d0887"
             ],
             [
              0.1111111111111111,
              "#46039f"
             ],
             [
              0.2222222222222222,
              "#7201a8"
             ],
             [
              0.3333333333333333,
              "#9c179e"
             ],
             [
              0.4444444444444444,
              "#bd3786"
             ],
             [
              0.5555555555555556,
              "#d8576b"
             ],
             [
              0.6666666666666666,
              "#ed7953"
             ],
             [
              0.7777777777777778,
              "#fb9f3a"
             ],
             [
              0.8888888888888888,
              "#fdca26"
             ],
             [
              1,
              "#f0f921"
             ]
            ],
            "type": "histogram2dcontour"
           }
          ],
          "mesh3d": [
           {
            "colorbar": {
             "outlinewidth": 0,
             "ticks": ""
            },
            "type": "mesh3d"
           }
          ],
          "parcoords": [
           {
            "line": {
             "colorbar": {
              "outlinewidth": 0,
              "ticks": ""
             }
            },
            "type": "parcoords"
           }
          ],
          "pie": [
           {
            "automargin": true,
            "type": "pie"
           }
          ],
          "scatter": [
           {
            "fillpattern": {
             "fillmode": "overlay",
             "size": 10,
             "solidity": 0.2
            },
            "type": "scatter"
           }
          ],
          "scatter3d": [
           {
            "line": {
             "colorbar": {
              "outlinewidth": 0,
              "ticks": ""
             }
            },
            "marker": {
             "colorbar": {
              "outlinewidth": 0,
              "ticks": ""
             }
            },
            "type": "scatter3d"
           }
          ],
          "scattercarpet": [
           {
            "marker": {
             "colorbar": {
              "outlinewidth": 0,
              "ticks": ""
             }
            },
            "type": "scattercarpet"
           }
          ],
          "scattergeo": [
           {
            "marker": {
             "colorbar": {
              "outlinewidth": 0,
              "ticks": ""
             }
            },
            "type": "scattergeo"
           }
          ],
          "scattergl": [
           {
            "marker": {
             "colorbar": {
              "outlinewidth": 0,
              "ticks": ""
             }
            },
            "type": "scattergl"
           }
          ],
          "scattermapbox": [
           {
            "marker": {
             "colorbar": {
              "outlinewidth": 0,
              "ticks": ""
             }
            },
            "type": "scattermapbox"
           }
          ],
          "scatterpolar": [
           {
            "marker": {
             "colorbar": {
              "outlinewidth": 0,
              "ticks": ""
             }
            },
            "type": "scatterpolar"
           }
          ],
          "scatterpolargl": [
           {
            "marker": {
             "colorbar": {
              "outlinewidth": 0,
              "ticks": ""
             }
            },
            "type": "scatterpolargl"
           }
          ],
          "scatterternary": [
           {
            "marker": {
             "colorbar": {
              "outlinewidth": 0,
              "ticks": ""
             }
            },
            "type": "scatterternary"
           }
          ],
          "surface": [
           {
            "colorbar": {
             "outlinewidth": 0,
             "ticks": ""
            },
            "colorscale": [
             [
              0,
              "#0d0887"
             ],
             [
              0.1111111111111111,
              "#46039f"
             ],
             [
              0.2222222222222222,
              "#7201a8"
             ],
             [
              0.3333333333333333,
              "#9c179e"
             ],
             [
              0.4444444444444444,
              "#bd3786"
             ],
             [
              0.5555555555555556,
              "#d8576b"
             ],
             [
              0.6666666666666666,
              "#ed7953"
             ],
             [
              0.7777777777777778,
              "#fb9f3a"
             ],
             [
              0.8888888888888888,
              "#fdca26"
             ],
             [
              1,
              "#f0f921"
             ]
            ],
            "type": "surface"
           }
          ],
          "table": [
           {
            "cells": {
             "fill": {
              "color": "#EBF0F8"
             },
             "line": {
              "color": "white"
             }
            },
            "header": {
             "fill": {
              "color": "#C8D4E3"
             },
             "line": {
              "color": "white"
             }
            },
            "type": "table"
           }
          ]
         },
         "layout": {
          "annotationdefaults": {
           "arrowcolor": "#2a3f5f",
           "arrowhead": 0,
           "arrowwidth": 1
          },
          "autotypenumbers": "strict",
          "coloraxis": {
           "colorbar": {
            "outlinewidth": 0,
            "ticks": ""
           }
          },
          "colorscale": {
           "diverging": [
            [
             0,
             "#8e0152"
            ],
            [
             0.1,
             "#c51b7d"
            ],
            [
             0.2,
             "#de77ae"
            ],
            [
             0.3,
             "#f1b6da"
            ],
            [
             0.4,
             "#fde0ef"
            ],
            [
             0.5,
             "#f7f7f7"
            ],
            [
             0.6,
             "#e6f5d0"
            ],
            [
             0.7,
             "#b8e186"
            ],
            [
             0.8,
             "#7fbc41"
            ],
            [
             0.9,
             "#4d9221"
            ],
            [
             1,
             "#276419"
            ]
           ],
           "sequential": [
            [
             0,
             "#0d0887"
            ],
            [
             0.1111111111111111,
             "#46039f"
            ],
            [
             0.2222222222222222,
             "#7201a8"
            ],
            [
             0.3333333333333333,
             "#9c179e"
            ],
            [
             0.4444444444444444,
             "#bd3786"
            ],
            [
             0.5555555555555556,
             "#d8576b"
            ],
            [
             0.6666666666666666,
             "#ed7953"
            ],
            [
             0.7777777777777778,
             "#fb9f3a"
            ],
            [
             0.8888888888888888,
             "#fdca26"
            ],
            [
             1,
             "#f0f921"
            ]
           ],
           "sequentialminus": [
            [
             0,
             "#0d0887"
            ],
            [
             0.1111111111111111,
             "#46039f"
            ],
            [
             0.2222222222222222,
             "#7201a8"
            ],
            [
             0.3333333333333333,
             "#9c179e"
            ],
            [
             0.4444444444444444,
             "#bd3786"
            ],
            [
             0.5555555555555556,
             "#d8576b"
            ],
            [
             0.6666666666666666,
             "#ed7953"
            ],
            [
             0.7777777777777778,
             "#fb9f3a"
            ],
            [
             0.8888888888888888,
             "#fdca26"
            ],
            [
             1,
             "#f0f921"
            ]
           ]
          },
          "colorway": [
           "#636efa",
           "#EF553B",
           "#00cc96",
           "#ab63fa",
           "#FFA15A",
           "#19d3f3",
           "#FF6692",
           "#B6E880",
           "#FF97FF",
           "#FECB52"
          ],
          "font": {
           "color": "#2a3f5f"
          },
          "geo": {
           "bgcolor": "white",
           "lakecolor": "white",
           "landcolor": "#E5ECF6",
           "showlakes": true,
           "showland": true,
           "subunitcolor": "white"
          },
          "hoverlabel": {
           "align": "left"
          },
          "hovermode": "closest",
          "mapbox": {
           "style": "light"
          },
          "paper_bgcolor": "white",
          "plot_bgcolor": "#E5ECF6",
          "polar": {
           "angularaxis": {
            "gridcolor": "white",
            "linecolor": "white",
            "ticks": ""
           },
           "bgcolor": "#E5ECF6",
           "radialaxis": {
            "gridcolor": "white",
            "linecolor": "white",
            "ticks": ""
           }
          },
          "scene": {
           "xaxis": {
            "backgroundcolor": "#E5ECF6",
            "gridcolor": "white",
            "gridwidth": 2,
            "linecolor": "white",
            "showbackground": true,
            "ticks": "",
            "zerolinecolor": "white"
           },
           "yaxis": {
            "backgroundcolor": "#E5ECF6",
            "gridcolor": "white",
            "gridwidth": 2,
            "linecolor": "white",
            "showbackground": true,
            "ticks": "",
            "zerolinecolor": "white"
           },
           "zaxis": {
            "backgroundcolor": "#E5ECF6",
            "gridcolor": "white",
            "gridwidth": 2,
            "linecolor": "white",
            "showbackground": true,
            "ticks": "",
            "zerolinecolor": "white"
           }
          },
          "shapedefaults": {
           "line": {
            "color": "#2a3f5f"
           }
          },
          "ternary": {
           "aaxis": {
            "gridcolor": "white",
            "linecolor": "white",
            "ticks": ""
           },
           "baxis": {
            "gridcolor": "white",
            "linecolor": "white",
            "ticks": ""
           },
           "bgcolor": "#E5ECF6",
           "caxis": {
            "gridcolor": "white",
            "linecolor": "white",
            "ticks": ""
           }
          },
          "title": {
           "x": 0.05
          },
          "xaxis": {
           "automargin": true,
           "gridcolor": "white",
           "linecolor": "white",
           "ticks": "",
           "title": {
            "standoff": 15
           },
           "zerolinecolor": "white",
           "zerolinewidth": 2
          },
          "yaxis": {
           "automargin": true,
           "gridcolor": "white",
           "linecolor": "white",
           "ticks": "",
           "title": {
            "standoff": 15
           },
           "zerolinecolor": "white",
           "zerolinewidth": 2
          }
         }
        },
        "title": {
         "text": "Distribución de tipos de calzada"
        }
       }
      }
     },
     "metadata": {},
     "output_type": "display_data"
    }
   ],
   "source": [
    "import gpxpy\n",
    "import osmnx as ox\n",
    "import networkx as nx\n",
    "import folium\n",
    "import math\n",
    "from collections import Counter\n",
    "import plotly.express as px\n",
    "from concurrent.futures import ThreadPoolExecutor, as_completed\n",
    "\n",
    "# Load the GPX file\n",
    "with open('ruta.gpx', 'r') as gpx_file:\n",
    "    gpx = gpxpy.parse(gpx_file)\n",
    "\n",
    "# Extract points and elevations from the GPX track\n",
    "points = []\n",
    "elevations = []\n",
    "for track in gpx.tracks:\n",
    "    for segment in track.segments:\n",
    "        for point in segment.points:\n",
    "            points.append((point.latitude, point.longitude))\n",
    "            elevations.append(point.elevation)\n",
    "\n",
    "def haversine(coord1, coord2):\n",
    "    R = 6371000  # radius of Earth in meters\n",
    "    lat1, lon1 = coord1\n",
    "    lat2, lon2 = coord2\n",
    "    phi1 = math.radians(lat1)\n",
    "    phi2 = math.radians(lat2)\n",
    "    delta_phi = math.radians(lat2 - lat1)\n",
    "    delta_lambda = math.radians(lon2 - lon1)\n",
    "    a = math.sin(delta_phi / 2.0) ** 2 + math.cos(phi1) * math.cos(phi2) * math.sin(delta_lambda / 2.0) ** 2\n",
    "    c = 2 * math.atan2(math.sqrt(a), math.sqrt(1 - a))\n",
    "    meters = R * c  # output distance in meters\n",
    "    return meters\n",
    "\n",
    "def calculate_bearing(coord1, coord2):\n",
    "    lat1, lon1 = math.radians(coord1[0]), math.radians(coord1[1])\n",
    "    lat2, lon2 = math.radians(coord2[0]), math.radians(coord2[1])\n",
    "    delta_lon = lon2 - lon1\n",
    "    x = math.sin(delta_lon) * math.cos(lat2)\n",
    "    y = math.cos(lat1) * math.sin(lat2) - math.sin(lat1) * math.cos(lat2) * math.cos(delta_lon)\n",
    "    bearing = math.atan2(x, y)\n",
    "    bearing = math.degrees(bearing)\n",
    "    return (bearing + 360) % 360\n",
    "\n",
    "# Detect curves and check if they are downhill\n",
    "num_curves = 0\n",
    "num_downhill_curves = 0\n",
    "for i in range(1, len(points) - 1):\n",
    "    bearing1 = calculate_bearing(points[i-1], points[i])\n",
    "    bearing2 = calculate_bearing(points[i], points[i+1])\n",
    "    change_in_bearing = abs(bearing2 - bearing1)\n",
    "    if change_in_bearing > 30:  # Threshold for detecting a curve, can be adjusted\n",
    "        num_curves += 1\n",
    "        if elevations[i] > elevations[i+1]:\n",
    "            num_downhill_curves += 1\n",
    "\n",
    "print(f'Número total de curvas: {num_curves}')\n",
    "print(f'Número de curvas cuesta abajo: {num_downhill_curves}')\n",
    "\n",
    "def get_road_type(point, dist=500):  # Increase distance to 500 meters\n",
    "    try:\n",
    "        G = ox.graph_from_point(point, dist=dist, network_type='all')\n",
    "        if len(G) == 0:\n",
    "            raise nx.NetworkXPointlessConcept(\"Graph is empty.\")\n",
    "        nearest_node = ox.distance.nearest_nodes(G, point[1], point[0])\n",
    "        for u, v, data in G.edges(nbunch=[nearest_node], data=True):\n",
    "            if 'highway' in data:\n",
    "                highway_type = data['highway']\n",
    "                if isinstance(highway_type, list):\n",
    "                    highway_type = highway_type[0]  # Take the first type if it's a list\n",
    "                return highway_type\n",
    "    except Exception as e:\n",
    "        print(f\"Error fetching OSM data for point {point}: {e}\")\n",
    "    return None\n",
    "\n",
    "# Define a color mapping based on road difficulty\n",
    "road_color_map = {\n",
    "    'motorway': '#808080',  # gray\n",
    "    'trunk': '#a9a9a9',     # darkgray\n",
    "    'primary': '#c0c0c0',   # silver\n",
    "    'secondary': '#d3d3d3', # lightgray\n",
    "    'tertiary': '#dcdcdc',  # gainsboro\n",
    "    'unclassified': '#f5f5f5', # whitesmoke\n",
    "    'residential': '#f5f5f5', # whitesmoke\n",
    "    'service': '#f5f5f5',   # whitesmoke\n",
    "    'track': '#8b4513',     # saddlebrown\n",
    "    'path': '#a0522d',      # sienna\n",
    "    'footway': '#a0522d',   # sienna\n",
    "    'cycleway': '#a0522d',  # sienna\n",
    "    'pedestrian': 'red'     # red\n",
    "}\n",
    "\n",
    "# Parallel processing to get road types for each point\n",
    "def process_point(index, point):\n",
    "    road_type = get_road_type(point)\n",
    "    if road_type:\n",
    "        color = road_color_map.get(road_type, 'black')\n",
    "        return (index, point[0], point[1], color, road_type)\n",
    "    return (index, point[0], point[1], 'black', None)\n",
    "\n",
    "track_data = []\n",
    "with ThreadPoolExecutor(max_workers=10) as executor:\n",
    "    future_to_point = {executor.submit(process_point, idx, point): idx for idx, point in enumerate(points)}\n",
    "    for future in as_completed(future_to_point):\n",
    "        track_data.append(future.result())\n",
    "\n",
    "# Sort track_data based on the original index to maintain order\n",
    "track_data.sort()\n",
    "\n",
    "# Initialize the map at the center of the track\n",
    "map_center = [points[0][0], points[0][1]]\n",
    "mymap = folium.Map(location=map_center, zoom_start=14)\n",
    "\n",
    "# Add the track to the map\n",
    "for i in range(len(track_data) - 1):\n",
    "    folium.PolyLine(locations=[(track_data[i][1], track_data[i][2]), (track_data[i+1][1], track_data[i+1][2])], color=track_data[i][3], weight=5).add_to(mymap)\n",
    "\n",
    "# Save the map to an HTML file\n",
    "mymap.save('track_map.html')\n",
    "\n",
    "# Create a counter for the road types\n",
    "road_type_counts = Counter([data[4] for data in track_data if data[4]])\n",
    "\n",
    "# Prepare data for the sunburst plot\n",
    "labels = []\n",
    "parents = []\n",
    "values = []\n",
    "\n",
    "for road_type, count in road_type_counts.items():\n",
    "    labels.append(road_type)\n",
    "    parents.append(\"\")\n",
    "    values.append(count)\n",
    "\n",
    "# Create the sunburst plot\n",
    "fig = px.sunburst(\n",
    "    names=labels,\n",
    "    parents=parents,\n",
    "    values=values,\n",
    "    title=\"Distribución de tipos de calzada\"\n",
    ")\n",
    "\n",
    "# Show the plot\n",
    "fig.show()\n"
   ]
  },
  {
   "cell_type": "code",
   "execution_count": 1,
   "metadata": {},
   "outputs": [
    {
     "name": "stdout",
     "output_type": "stream",
     "text": [
      "Número de curvas fáciles: 257\n",
      "Número de curvas normales: 210\n",
      "Número de curvas difíciles: 31\n",
      "Número de curvas difíciles cuesta abajo: 8\n",
      "Error fetching OSM data for point (39.884379, -0.417974): Connectivity is undefined for the null graph.\n",
      "Error fetching OSM data for point (39.923452, -0.378427): Connectivity is undefined for the null graph.\n",
      "Error fetching OSM data for point (39.924514, -0.37306): Connectivity is undefined for the null graph.\n",
      "Error fetching OSM data for point (39.859989, -0.342037): Connectivity is undefined for the null graph.\n",
      "Error fetching OSM data for point (39.862036, -0.34473): Connectivity is undefined for the null graph.\n",
      "Error fetching OSM data for point (39.858804, -0.342866): Connectivity is undefined for the null graph.\n",
      "Error fetching OSM data for point (39.86142, -0.343133): Connectivity is undefined for the null graph.\n",
      "Error fetching OSM data for point (39.863355, -0.343267): Connectivity is undefined for the null graph.\n",
      "Error fetching OSM data for point (39.862653, -0.343586): Connectivity is undefined for the null graph.\n",
      "Error fetching OSM data for point (39.864237, -0.343482): Connectivity is undefined for the null graph.\n",
      "Error fetching OSM data for point (39.865221, -0.342674): Connectivity is undefined for the null graph.\n",
      "Error fetching OSM data for point (39.86635, -0.34532): Connectivity is undefined for the null graph.\n",
      "Error fetching OSM data for point (39.865738, -0.346254): Connectivity is undefined for the null graph.\n",
      "Error fetching OSM data for point (39.866712, -0.349215): Connectivity is undefined for the null graph.\n",
      "Error fetching OSM data for point (39.865768, -0.346905): Connectivity is undefined for the null graph.\n",
      "Error fetching OSM data for point (39.866313, -0.347589): Connectivity is undefined for the null graph.\n",
      "Error fetching OSM data for point (39.866898, -0.34748): Connectivity is undefined for the null graph.\n",
      "Error fetching OSM data for point (39.867483, -0.349513): Connectivity is undefined for the null graph.\n",
      "Error fetching OSM data for point (39.871521, -0.3509): Connectivity is undefined for the null graph.\n",
      "Error fetching OSM data for point (39.865212, -0.353502): Connectivity is undefined for the null graph.\n"
     ]
    },
    {
     "data": {
      "application/vnd.plotly.v1+json": {
       "config": {
        "plotlyServerURL": "https://plot.ly"
       },
       "data": [
        {
         "domain": {
          "x": [
           0,
           1
          ],
          "y": [
           0,
           1
          ]
         },
         "hovertemplate": "label=%{label}<br>value=%{value}<br>parent=%{parent}<extra></extra>",
         "labels": [
          "secondary",
          "footway",
          "unclassified",
          "track",
          "residential",
          "path",
          "living_street",
          "service"
         ],
         "name": "",
         "parents": [
          "",
          "",
          "",
          "",
          "",
          "",
          "",
          ""
         ],
         "type": "sunburst",
         "values": [
          33,
          1,
          10,
          316,
          28,
          78,
          13,
          1
         ]
        }
       ],
       "layout": {
        "legend": {
         "tracegroupgap": 0
        },
        "template": {
         "data": {
          "bar": [
           {
            "error_x": {
             "color": "#2a3f5f"
            },
            "error_y": {
             "color": "#2a3f5f"
            },
            "marker": {
             "line": {
              "color": "#E5ECF6",
              "width": 0.5
             },
             "pattern": {
              "fillmode": "overlay",
              "size": 10,
              "solidity": 0.2
             }
            },
            "type": "bar"
           }
          ],
          "barpolar": [
           {
            "marker": {
             "line": {
              "color": "#E5ECF6",
              "width": 0.5
             },
             "pattern": {
              "fillmode": "overlay",
              "size": 10,
              "solidity": 0.2
             }
            },
            "type": "barpolar"
           }
          ],
          "carpet": [
           {
            "aaxis": {
             "endlinecolor": "#2a3f5f",
             "gridcolor": "white",
             "linecolor": "white",
             "minorgridcolor": "white",
             "startlinecolor": "#2a3f5f"
            },
            "baxis": {
             "endlinecolor": "#2a3f5f",
             "gridcolor": "white",
             "linecolor": "white",
             "minorgridcolor": "white",
             "startlinecolor": "#2a3f5f"
            },
            "type": "carpet"
           }
          ],
          "choropleth": [
           {
            "colorbar": {
             "outlinewidth": 0,
             "ticks": ""
            },
            "type": "choropleth"
           }
          ],
          "contour": [
           {
            "colorbar": {
             "outlinewidth": 0,
             "ticks": ""
            },
            "colorscale": [
             [
              0,
              "#0d0887"
             ],
             [
              0.1111111111111111,
              "#46039f"
             ],
             [
              0.2222222222222222,
              "#7201a8"
             ],
             [
              0.3333333333333333,
              "#9c179e"
             ],
             [
              0.4444444444444444,
              "#bd3786"
             ],
             [
              0.5555555555555556,
              "#d8576b"
             ],
             [
              0.6666666666666666,
              "#ed7953"
             ],
             [
              0.7777777777777778,
              "#fb9f3a"
             ],
             [
              0.8888888888888888,
              "#fdca26"
             ],
             [
              1,
              "#f0f921"
             ]
            ],
            "type": "contour"
           }
          ],
          "contourcarpet": [
           {
            "colorbar": {
             "outlinewidth": 0,
             "ticks": ""
            },
            "type": "contourcarpet"
           }
          ],
          "heatmap": [
           {
            "colorbar": {
             "outlinewidth": 0,
             "ticks": ""
            },
            "colorscale": [
             [
              0,
              "#0d0887"
             ],
             [
              0.1111111111111111,
              "#46039f"
             ],
             [
              0.2222222222222222,
              "#7201a8"
             ],
             [
              0.3333333333333333,
              "#9c179e"
             ],
             [
              0.4444444444444444,
              "#bd3786"
             ],
             [
              0.5555555555555556,
              "#d8576b"
             ],
             [
              0.6666666666666666,
              "#ed7953"
             ],
             [
              0.7777777777777778,
              "#fb9f3a"
             ],
             [
              0.8888888888888888,
              "#fdca26"
             ],
             [
              1,
              "#f0f921"
             ]
            ],
            "type": "heatmap"
           }
          ],
          "heatmapgl": [
           {
            "colorbar": {
             "outlinewidth": 0,
             "ticks": ""
            },
            "colorscale": [
             [
              0,
              "#0d0887"
             ],
             [
              0.1111111111111111,
              "#46039f"
             ],
             [
              0.2222222222222222,
              "#7201a8"
             ],
             [
              0.3333333333333333,
              "#9c179e"
             ],
             [
              0.4444444444444444,
              "#bd3786"
             ],
             [
              0.5555555555555556,
              "#d8576b"
             ],
             [
              0.6666666666666666,
              "#ed7953"
             ],
             [
              0.7777777777777778,
              "#fb9f3a"
             ],
             [
              0.8888888888888888,
              "#fdca26"
             ],
             [
              1,
              "#f0f921"
             ]
            ],
            "type": "heatmapgl"
           }
          ],
          "histogram": [
           {
            "marker": {
             "pattern": {
              "fillmode": "overlay",
              "size": 10,
              "solidity": 0.2
             }
            },
            "type": "histogram"
           }
          ],
          "histogram2d": [
           {
            "colorbar": {
             "outlinewidth": 0,
             "ticks": ""
            },
            "colorscale": [
             [
              0,
              "#0d0887"
             ],
             [
              0.1111111111111111,
              "#46039f"
             ],
             [
              0.2222222222222222,
              "#7201a8"
             ],
             [
              0.3333333333333333,
              "#9c179e"
             ],
             [
              0.4444444444444444,
              "#bd3786"
             ],
             [
              0.5555555555555556,
              "#d8576b"
             ],
             [
              0.6666666666666666,
              "#ed7953"
             ],
             [
              0.7777777777777778,
              "#fb9f3a"
             ],
             [
              0.8888888888888888,
              "#fdca26"
             ],
             [
              1,
              "#f0f921"
             ]
            ],
            "type": "histogram2d"
           }
          ],
          "histogram2dcontour": [
           {
            "colorbar": {
             "outlinewidth": 0,
             "ticks": ""
            },
            "colorscale": [
             [
              0,
              "#0d0887"
             ],
             [
              0.1111111111111111,
              "#46039f"
             ],
             [
              0.2222222222222222,
              "#7201a8"
             ],
             [
              0.3333333333333333,
              "#9c179e"
             ],
             [
              0.4444444444444444,
              "#bd3786"
             ],
             [
              0.5555555555555556,
              "#d8576b"
             ],
             [
              0.6666666666666666,
              "#ed7953"
             ],
             [
              0.7777777777777778,
              "#fb9f3a"
             ],
             [
              0.8888888888888888,
              "#fdca26"
             ],
             [
              1,
              "#f0f921"
             ]
            ],
            "type": "histogram2dcontour"
           }
          ],
          "mesh3d": [
           {
            "colorbar": {
             "outlinewidth": 0,
             "ticks": ""
            },
            "type": "mesh3d"
           }
          ],
          "parcoords": [
           {
            "line": {
             "colorbar": {
              "outlinewidth": 0,
              "ticks": ""
             }
            },
            "type": "parcoords"
           }
          ],
          "pie": [
           {
            "automargin": true,
            "type": "pie"
           }
          ],
          "scatter": [
           {
            "fillpattern": {
             "fillmode": "overlay",
             "size": 10,
             "solidity": 0.2
            },
            "type": "scatter"
           }
          ],
          "scatter3d": [
           {
            "line": {
             "colorbar": {
              "outlinewidth": 0,
              "ticks": ""
             }
            },
            "marker": {
             "colorbar": {
              "outlinewidth": 0,
              "ticks": ""
             }
            },
            "type": "scatter3d"
           }
          ],
          "scattercarpet": [
           {
            "marker": {
             "colorbar": {
              "outlinewidth": 0,
              "ticks": ""
             }
            },
            "type": "scattercarpet"
           }
          ],
          "scattergeo": [
           {
            "marker": {
             "colorbar": {
              "outlinewidth": 0,
              "ticks": ""
             }
            },
            "type": "scattergeo"
           }
          ],
          "scattergl": [
           {
            "marker": {
             "colorbar": {
              "outlinewidth": 0,
              "ticks": ""
             }
            },
            "type": "scattergl"
           }
          ],
          "scattermapbox": [
           {
            "marker": {
             "colorbar": {
              "outlinewidth": 0,
              "ticks": ""
             }
            },
            "type": "scattermapbox"
           }
          ],
          "scatterpolar": [
           {
            "marker": {
             "colorbar": {
              "outlinewidth": 0,
              "ticks": ""
             }
            },
            "type": "scatterpolar"
           }
          ],
          "scatterpolargl": [
           {
            "marker": {
             "colorbar": {
              "outlinewidth": 0,
              "ticks": ""
             }
            },
            "type": "scatterpolargl"
           }
          ],
          "scatterternary": [
           {
            "marker": {
             "colorbar": {
              "outlinewidth": 0,
              "ticks": ""
             }
            },
            "type": "scatterternary"
           }
          ],
          "surface": [
           {
            "colorbar": {
             "outlinewidth": 0,
             "ticks": ""
            },
            "colorscale": [
             [
              0,
              "#0d0887"
             ],
             [
              0.1111111111111111,
              "#46039f"
             ],
             [
              0.2222222222222222,
              "#7201a8"
             ],
             [
              0.3333333333333333,
              "#9c179e"
             ],
             [
              0.4444444444444444,
              "#bd3786"
             ],
             [
              0.5555555555555556,
              "#d8576b"
             ],
             [
              0.6666666666666666,
              "#ed7953"
             ],
             [
              0.7777777777777778,
              "#fb9f3a"
             ],
             [
              0.8888888888888888,
              "#fdca26"
             ],
             [
              1,
              "#f0f921"
             ]
            ],
            "type": "surface"
           }
          ],
          "table": [
           {
            "cells": {
             "fill": {
              "color": "#EBF0F8"
             },
             "line": {
              "color": "white"
             }
            },
            "header": {
             "fill": {
              "color": "#C8D4E3"
             },
             "line": {
              "color": "white"
             }
            },
            "type": "table"
           }
          ]
         },
         "layout": {
          "annotationdefaults": {
           "arrowcolor": "#2a3f5f",
           "arrowhead": 0,
           "arrowwidth": 1
          },
          "autotypenumbers": "strict",
          "coloraxis": {
           "colorbar": {
            "outlinewidth": 0,
            "ticks": ""
           }
          },
          "colorscale": {
           "diverging": [
            [
             0,
             "#8e0152"
            ],
            [
             0.1,
             "#c51b7d"
            ],
            [
             0.2,
             "#de77ae"
            ],
            [
             0.3,
             "#f1b6da"
            ],
            [
             0.4,
             "#fde0ef"
            ],
            [
             0.5,
             "#f7f7f7"
            ],
            [
             0.6,
             "#e6f5d0"
            ],
            [
             0.7,
             "#b8e186"
            ],
            [
             0.8,
             "#7fbc41"
            ],
            [
             0.9,
             "#4d9221"
            ],
            [
             1,
             "#276419"
            ]
           ],
           "sequential": [
            [
             0,
             "#0d0887"
            ],
            [
             0.1111111111111111,
             "#46039f"
            ],
            [
             0.2222222222222222,
             "#7201a8"
            ],
            [
             0.3333333333333333,
             "#9c179e"
            ],
            [
             0.4444444444444444,
             "#bd3786"
            ],
            [
             0.5555555555555556,
             "#d8576b"
            ],
            [
             0.6666666666666666,
             "#ed7953"
            ],
            [
             0.7777777777777778,
             "#fb9f3a"
            ],
            [
             0.8888888888888888,
             "#fdca26"
            ],
            [
             1,
             "#f0f921"
            ]
           ],
           "sequentialminus": [
            [
             0,
             "#0d0887"
            ],
            [
             0.1111111111111111,
             "#46039f"
            ],
            [
             0.2222222222222222,
             "#7201a8"
            ],
            [
             0.3333333333333333,
             "#9c179e"
            ],
            [
             0.4444444444444444,
             "#bd3786"
            ],
            [
             0.5555555555555556,
             "#d8576b"
            ],
            [
             0.6666666666666666,
             "#ed7953"
            ],
            [
             0.7777777777777778,
             "#fb9f3a"
            ],
            [
             0.8888888888888888,
             "#fdca26"
            ],
            [
             1,
             "#f0f921"
            ]
           ]
          },
          "colorway": [
           "#636efa",
           "#EF553B",
           "#00cc96",
           "#ab63fa",
           "#FFA15A",
           "#19d3f3",
           "#FF6692",
           "#B6E880",
           "#FF97FF",
           "#FECB52"
          ],
          "font": {
           "color": "#2a3f5f"
          },
          "geo": {
           "bgcolor": "white",
           "lakecolor": "white",
           "landcolor": "#E5ECF6",
           "showlakes": true,
           "showland": true,
           "subunitcolor": "white"
          },
          "hoverlabel": {
           "align": "left"
          },
          "hovermode": "closest",
          "mapbox": {
           "style": "light"
          },
          "paper_bgcolor": "white",
          "plot_bgcolor": "#E5ECF6",
          "polar": {
           "angularaxis": {
            "gridcolor": "white",
            "linecolor": "white",
            "ticks": ""
           },
           "bgcolor": "#E5ECF6",
           "radialaxis": {
            "gridcolor": "white",
            "linecolor": "white",
            "ticks": ""
           }
          },
          "scene": {
           "xaxis": {
            "backgroundcolor": "#E5ECF6",
            "gridcolor": "white",
            "gridwidth": 2,
            "linecolor": "white",
            "showbackground": true,
            "ticks": "",
            "zerolinecolor": "white"
           },
           "yaxis": {
            "backgroundcolor": "#E5ECF6",
            "gridcolor": "white",
            "gridwidth": 2,
            "linecolor": "white",
            "showbackground": true,
            "ticks": "",
            "zerolinecolor": "white"
           },
           "zaxis": {
            "backgroundcolor": "#E5ECF6",
            "gridcolor": "white",
            "gridwidth": 2,
            "linecolor": "white",
            "showbackground": true,
            "ticks": "",
            "zerolinecolor": "white"
           }
          },
          "shapedefaults": {
           "line": {
            "color": "#2a3f5f"
           }
          },
          "ternary": {
           "aaxis": {
            "gridcolor": "white",
            "linecolor": "white",
            "ticks": ""
           },
           "baxis": {
            "gridcolor": "white",
            "linecolor": "white",
            "ticks": ""
           },
           "bgcolor": "#E5ECF6",
           "caxis": {
            "gridcolor": "white",
            "linecolor": "white",
            "ticks": ""
           }
          },
          "title": {
           "x": 0.05
          },
          "xaxis": {
           "automargin": true,
           "gridcolor": "white",
           "linecolor": "white",
           "ticks": "",
           "title": {
            "standoff": 15
           },
           "zerolinecolor": "white",
           "zerolinewidth": 2
          },
          "yaxis": {
           "automargin": true,
           "gridcolor": "white",
           "linecolor": "white",
           "ticks": "",
           "title": {
            "standoff": 15
           },
           "zerolinecolor": "white",
           "zerolinewidth": 2
          }
         }
        },
        "title": {
         "text": "Distribución de tipos de calzada"
        }
       }
      }
     },
     "metadata": {},
     "output_type": "display_data"
    },
    {
     "data": {
      "application/vnd.plotly.v1+json": {
       "config": {
        "plotlyServerURL": "https://plot.ly"
       },
       "data": [
        {
         "domain": {
          "x": [
           0,
           1
          ],
          "y": [
           0,
           1
          ]
         },
         "hovertemplate": "label=%{label}<br>value=%{value}<br>parent=%{parent}<extra></extra>",
         "labels": [
          "easy",
          "normal",
          "hard",
          "downhill_hard"
         ],
         "name": "",
         "parents": [
          "",
          "",
          "",
          ""
         ],
         "type": "sunburst",
         "values": [
          257,
          210,
          31,
          8
         ]
        }
       ],
       "layout": {
        "legend": {
         "tracegroupgap": 0
        },
        "template": {
         "data": {
          "bar": [
           {
            "error_x": {
             "color": "#2a3f5f"
            },
            "error_y": {
             "color": "#2a3f5f"
            },
            "marker": {
             "line": {
              "color": "#E5ECF6",
              "width": 0.5
             },
             "pattern": {
              "fillmode": "overlay",
              "size": 10,
              "solidity": 0.2
             }
            },
            "type": "bar"
           }
          ],
          "barpolar": [
           {
            "marker": {
             "line": {
              "color": "#E5ECF6",
              "width": 0.5
             },
             "pattern": {
              "fillmode": "overlay",
              "size": 10,
              "solidity": 0.2
             }
            },
            "type": "barpolar"
           }
          ],
          "carpet": [
           {
            "aaxis": {
             "endlinecolor": "#2a3f5f",
             "gridcolor": "white",
             "linecolor": "white",
             "minorgridcolor": "white",
             "startlinecolor": "#2a3f5f"
            },
            "baxis": {
             "endlinecolor": "#2a3f5f",
             "gridcolor": "white",
             "linecolor": "white",
             "minorgridcolor": "white",
             "startlinecolor": "#2a3f5f"
            },
            "type": "carpet"
           }
          ],
          "choropleth": [
           {
            "colorbar": {
             "outlinewidth": 0,
             "ticks": ""
            },
            "type": "choropleth"
           }
          ],
          "contour": [
           {
            "colorbar": {
             "outlinewidth": 0,
             "ticks": ""
            },
            "colorscale": [
             [
              0,
              "#0d0887"
             ],
             [
              0.1111111111111111,
              "#46039f"
             ],
             [
              0.2222222222222222,
              "#7201a8"
             ],
             [
              0.3333333333333333,
              "#9c179e"
             ],
             [
              0.4444444444444444,
              "#bd3786"
             ],
             [
              0.5555555555555556,
              "#d8576b"
             ],
             [
              0.6666666666666666,
              "#ed7953"
             ],
             [
              0.7777777777777778,
              "#fb9f3a"
             ],
             [
              0.8888888888888888,
              "#fdca26"
             ],
             [
              1,
              "#f0f921"
             ]
            ],
            "type": "contour"
           }
          ],
          "contourcarpet": [
           {
            "colorbar": {
             "outlinewidth": 0,
             "ticks": ""
            },
            "type": "contourcarpet"
           }
          ],
          "heatmap": [
           {
            "colorbar": {
             "outlinewidth": 0,
             "ticks": ""
            },
            "colorscale": [
             [
              0,
              "#0d0887"
             ],
             [
              0.1111111111111111,
              "#46039f"
             ],
             [
              0.2222222222222222,
              "#7201a8"
             ],
             [
              0.3333333333333333,
              "#9c179e"
             ],
             [
              0.4444444444444444,
              "#bd3786"
             ],
             [
              0.5555555555555556,
              "#d8576b"
             ],
             [
              0.6666666666666666,
              "#ed7953"
             ],
             [
              0.7777777777777778,
              "#fb9f3a"
             ],
             [
              0.8888888888888888,
              "#fdca26"
             ],
             [
              1,
              "#f0f921"
             ]
            ],
            "type": "heatmap"
           }
          ],
          "heatmapgl": [
           {
            "colorbar": {
             "outlinewidth": 0,
             "ticks": ""
            },
            "colorscale": [
             [
              0,
              "#0d0887"
             ],
             [
              0.1111111111111111,
              "#46039f"
             ],
             [
              0.2222222222222222,
              "#7201a8"
             ],
             [
              0.3333333333333333,
              "#9c179e"
             ],
             [
              0.4444444444444444,
              "#bd3786"
             ],
             [
              0.5555555555555556,
              "#d8576b"
             ],
             [
              0.6666666666666666,
              "#ed7953"
             ],
             [
              0.7777777777777778,
              "#fb9f3a"
             ],
             [
              0.8888888888888888,
              "#fdca26"
             ],
             [
              1,
              "#f0f921"
             ]
            ],
            "type": "heatmapgl"
           }
          ],
          "histogram": [
           {
            "marker": {
             "pattern": {
              "fillmode": "overlay",
              "size": 10,
              "solidity": 0.2
             }
            },
            "type": "histogram"
           }
          ],
          "histogram2d": [
           {
            "colorbar": {
             "outlinewidth": 0,
             "ticks": ""
            },
            "colorscale": [
             [
              0,
              "#0d0887"
             ],
             [
              0.1111111111111111,
              "#46039f"
             ],
             [
              0.2222222222222222,
              "#7201a8"
             ],
             [
              0.3333333333333333,
              "#9c179e"
             ],
             [
              0.4444444444444444,
              "#bd3786"
             ],
             [
              0.5555555555555556,
              "#d8576b"
             ],
             [
              0.6666666666666666,
              "#ed7953"
             ],
             [
              0.7777777777777778,
              "#fb9f3a"
             ],
             [
              0.8888888888888888,
              "#fdca26"
             ],
             [
              1,
              "#f0f921"
             ]
            ],
            "type": "histogram2d"
           }
          ],
          "histogram2dcontour": [
           {
            "colorbar": {
             "outlinewidth": 0,
             "ticks": ""
            },
            "colorscale": [
             [
              0,
              "#0d0887"
             ],
             [
              0.1111111111111111,
              "#46039f"
             ],
             [
              0.2222222222222222,
              "#7201a8"
             ],
             [
              0.3333333333333333,
              "#9c179e"
             ],
             [
              0.4444444444444444,
              "#bd3786"
             ],
             [
              0.5555555555555556,
              "#d8576b"
             ],
             [
              0.6666666666666666,
              "#ed7953"
             ],
             [
              0.7777777777777778,
              "#fb9f3a"
             ],
             [
              0.8888888888888888,
              "#fdca26"
             ],
             [
              1,
              "#f0f921"
             ]
            ],
            "type": "histogram2dcontour"
           }
          ],
          "mesh3d": [
           {
            "colorbar": {
             "outlinewidth": 0,
             "ticks": ""
            },
            "type": "mesh3d"
           }
          ],
          "parcoords": [
           {
            "line": {
             "colorbar": {
              "outlinewidth": 0,
              "ticks": ""
             }
            },
            "type": "parcoords"
           }
          ],
          "pie": [
           {
            "automargin": true,
            "type": "pie"
           }
          ],
          "scatter": [
           {
            "fillpattern": {
             "fillmode": "overlay",
             "size": 10,
             "solidity": 0.2
            },
            "type": "scatter"
           }
          ],
          "scatter3d": [
           {
            "line": {
             "colorbar": {
              "outlinewidth": 0,
              "ticks": ""
             }
            },
            "marker": {
             "colorbar": {
              "outlinewidth": 0,
              "ticks": ""
             }
            },
            "type": "scatter3d"
           }
          ],
          "scattercarpet": [
           {
            "marker": {
             "colorbar": {
              "outlinewidth": 0,
              "ticks": ""
             }
            },
            "type": "scattercarpet"
           }
          ],
          "scattergeo": [
           {
            "marker": {
             "colorbar": {
              "outlinewidth": 0,
              "ticks": ""
             }
            },
            "type": "scattergeo"
           }
          ],
          "scattergl": [
           {
            "marker": {
             "colorbar": {
              "outlinewidth": 0,
              "ticks": ""
             }
            },
            "type": "scattergl"
           }
          ],
          "scattermapbox": [
           {
            "marker": {
             "colorbar": {
              "outlinewidth": 0,
              "ticks": ""
             }
            },
            "type": "scattermapbox"
           }
          ],
          "scatterpolar": [
           {
            "marker": {
             "colorbar": {
              "outlinewidth": 0,
              "ticks": ""
             }
            },
            "type": "scatterpolar"
           }
          ],
          "scatterpolargl": [
           {
            "marker": {
             "colorbar": {
              "outlinewidth": 0,
              "ticks": ""
             }
            },
            "type": "scatterpolargl"
           }
          ],
          "scatterternary": [
           {
            "marker": {
             "colorbar": {
              "outlinewidth": 0,
              "ticks": ""
             }
            },
            "type": "scatterternary"
           }
          ],
          "surface": [
           {
            "colorbar": {
             "outlinewidth": 0,
             "ticks": ""
            },
            "colorscale": [
             [
              0,
              "#0d0887"
             ],
             [
              0.1111111111111111,
              "#46039f"
             ],
             [
              0.2222222222222222,
              "#7201a8"
             ],
             [
              0.3333333333333333,
              "#9c179e"
             ],
             [
              0.4444444444444444,
              "#bd3786"
             ],
             [
              0.5555555555555556,
              "#d8576b"
             ],
             [
              0.6666666666666666,
              "#ed7953"
             ],
             [
              0.7777777777777778,
              "#fb9f3a"
             ],
             [
              0.8888888888888888,
              "#fdca26"
             ],
             [
              1,
              "#f0f921"
             ]
            ],
            "type": "surface"
           }
          ],
          "table": [
           {
            "cells": {
             "fill": {
              "color": "#EBF0F8"
             },
             "line": {
              "color": "white"
             }
            },
            "header": {
             "fill": {
              "color": "#C8D4E3"
             },
             "line": {
              "color": "white"
             }
            },
            "type": "table"
           }
          ]
         },
         "layout": {
          "annotationdefaults": {
           "arrowcolor": "#2a3f5f",
           "arrowhead": 0,
           "arrowwidth": 1
          },
          "autotypenumbers": "strict",
          "coloraxis": {
           "colorbar": {
            "outlinewidth": 0,
            "ticks": ""
           }
          },
          "colorscale": {
           "diverging": [
            [
             0,
             "#8e0152"
            ],
            [
             0.1,
             "#c51b7d"
            ],
            [
             0.2,
             "#de77ae"
            ],
            [
             0.3,
             "#f1b6da"
            ],
            [
             0.4,
             "#fde0ef"
            ],
            [
             0.5,
             "#f7f7f7"
            ],
            [
             0.6,
             "#e6f5d0"
            ],
            [
             0.7,
             "#b8e186"
            ],
            [
             0.8,
             "#7fbc41"
            ],
            [
             0.9,
             "#4d9221"
            ],
            [
             1,
             "#276419"
            ]
           ],
           "sequential": [
            [
             0,
             "#0d0887"
            ],
            [
             0.1111111111111111,
             "#46039f"
            ],
            [
             0.2222222222222222,
             "#7201a8"
            ],
            [
             0.3333333333333333,
             "#9c179e"
            ],
            [
             0.4444444444444444,
             "#bd3786"
            ],
            [
             0.5555555555555556,
             "#d8576b"
            ],
            [
             0.6666666666666666,
             "#ed7953"
            ],
            [
             0.7777777777777778,
             "#fb9f3a"
            ],
            [
             0.8888888888888888,
             "#fdca26"
            ],
            [
             1,
             "#f0f921"
            ]
           ],
           "sequentialminus": [
            [
             0,
             "#0d0887"
            ],
            [
             0.1111111111111111,
             "#46039f"
            ],
            [
             0.2222222222222222,
             "#7201a8"
            ],
            [
             0.3333333333333333,
             "#9c179e"
            ],
            [
             0.4444444444444444,
             "#bd3786"
            ],
            [
             0.5555555555555556,
             "#d8576b"
            ],
            [
             0.6666666666666666,
             "#ed7953"
            ],
            [
             0.7777777777777778,
             "#fb9f3a"
            ],
            [
             0.8888888888888888,
             "#fdca26"
            ],
            [
             1,
             "#f0f921"
            ]
           ]
          },
          "colorway": [
           "#636efa",
           "#EF553B",
           "#00cc96",
           "#ab63fa",
           "#FFA15A",
           "#19d3f3",
           "#FF6692",
           "#B6E880",
           "#FF97FF",
           "#FECB52"
          ],
          "font": {
           "color": "#2a3f5f"
          },
          "geo": {
           "bgcolor": "white",
           "lakecolor": "white",
           "landcolor": "#E5ECF6",
           "showlakes": true,
           "showland": true,
           "subunitcolor": "white"
          },
          "hoverlabel": {
           "align": "left"
          },
          "hovermode": "closest",
          "mapbox": {
           "style": "light"
          },
          "paper_bgcolor": "white",
          "plot_bgcolor": "#E5ECF6",
          "polar": {
           "angularaxis": {
            "gridcolor": "white",
            "linecolor": "white",
            "ticks": ""
           },
           "bgcolor": "#E5ECF6",
           "radialaxis": {
            "gridcolor": "white",
            "linecolor": "white",
            "ticks": ""
           }
          },
          "scene": {
           "xaxis": {
            "backgroundcolor": "#E5ECF6",
            "gridcolor": "white",
            "gridwidth": 2,
            "linecolor": "white",
            "showbackground": true,
            "ticks": "",
            "zerolinecolor": "white"
           },
           "yaxis": {
            "backgroundcolor": "#E5ECF6",
            "gridcolor": "white",
            "gridwidth": 2,
            "linecolor": "white",
            "showbackground": true,
            "ticks": "",
            "zerolinecolor": "white"
           },
           "zaxis": {
            "backgroundcolor": "#E5ECF6",
            "gridcolor": "white",
            "gridwidth": 2,
            "linecolor": "white",
            "showbackground": true,
            "ticks": "",
            "zerolinecolor": "white"
           }
          },
          "shapedefaults": {
           "line": {
            "color": "#2a3f5f"
           }
          },
          "ternary": {
           "aaxis": {
            "gridcolor": "white",
            "linecolor": "white",
            "ticks": ""
           },
           "baxis": {
            "gridcolor": "white",
            "linecolor": "white",
            "ticks": ""
           },
           "bgcolor": "#E5ECF6",
           "caxis": {
            "gridcolor": "white",
            "linecolor": "white",
            "ticks": ""
           }
          },
          "title": {
           "x": 0.05
          },
          "xaxis": {
           "automargin": true,
           "gridcolor": "white",
           "linecolor": "white",
           "ticks": "",
           "title": {
            "standoff": 15
           },
           "zerolinecolor": "white",
           "zerolinewidth": 2
          },
          "yaxis": {
           "automargin": true,
           "gridcolor": "white",
           "linecolor": "white",
           "ticks": "",
           "title": {
            "standoff": 15
           },
           "zerolinecolor": "white",
           "zerolinewidth": 2
          }
         }
        },
        "title": {
         "text": "Distribución de tipos de curvas según inclinación"
        }
       }
      }
     },
     "metadata": {},
     "output_type": "display_data"
    },
    {
     "data": {
      "application/vnd.plotly.v1+json": {
       "config": {
        "plotlyServerURL": "https://plot.ly"
       },
       "data": [
        {
         "domain": {
          "x": [
           0,
           1
          ],
          "y": [
           0,
           1
          ]
         },
         "hovertemplate": "label=%{label}<br>value=%{value}<br>parent=%{parent}<extra></extra>",
         "labels": [
          "easy",
          "normal",
          "hard"
         ],
         "name": "",
         "parents": [
          "",
          "",
          ""
         ],
         "type": "sunburst",
         "values": [
          257,
          210,
          31
         ]
        }
       ],
       "layout": {
        "legend": {
         "tracegroupgap": 0
        },
        "template": {
         "data": {
          "bar": [
           {
            "error_x": {
             "color": "#2a3f5f"
            },
            "error_y": {
             "color": "#2a3f5f"
            },
            "marker": {
             "line": {
              "color": "#E5ECF6",
              "width": 0.5
             },
             "pattern": {
              "fillmode": "overlay",
              "size": 10,
              "solidity": 0.2
             }
            },
            "type": "bar"
           }
          ],
          "barpolar": [
           {
            "marker": {
             "line": {
              "color": "#E5ECF6",
              "width": 0.5
             },
             "pattern": {
              "fillmode": "overlay",
              "size": 10,
              "solidity": 0.2
             }
            },
            "type": "barpolar"
           }
          ],
          "carpet": [
           {
            "aaxis": {
             "endlinecolor": "#2a3f5f",
             "gridcolor": "white",
             "linecolor": "white",
             "minorgridcolor": "white",
             "startlinecolor": "#2a3f5f"
            },
            "baxis": {
             "endlinecolor": "#2a3f5f",
             "gridcolor": "white",
             "linecolor": "white",
             "minorgridcolor": "white",
             "startlinecolor": "#2a3f5f"
            },
            "type": "carpet"
           }
          ],
          "choropleth": [
           {
            "colorbar": {
             "outlinewidth": 0,
             "ticks": ""
            },
            "type": "choropleth"
           }
          ],
          "contour": [
           {
            "colorbar": {
             "outlinewidth": 0,
             "ticks": ""
            },
            "colorscale": [
             [
              0,
              "#0d0887"
             ],
             [
              0.1111111111111111,
              "#46039f"
             ],
             [
              0.2222222222222222,
              "#7201a8"
             ],
             [
              0.3333333333333333,
              "#9c179e"
             ],
             [
              0.4444444444444444,
              "#bd3786"
             ],
             [
              0.5555555555555556,
              "#d8576b"
             ],
             [
              0.6666666666666666,
              "#ed7953"
             ],
             [
              0.7777777777777778,
              "#fb9f3a"
             ],
             [
              0.8888888888888888,
              "#fdca26"
             ],
             [
              1,
              "#f0f921"
             ]
            ],
            "type": "contour"
           }
          ],
          "contourcarpet": [
           {
            "colorbar": {
             "outlinewidth": 0,
             "ticks": ""
            },
            "type": "contourcarpet"
           }
          ],
          "heatmap": [
           {
            "colorbar": {
             "outlinewidth": 0,
             "ticks": ""
            },
            "colorscale": [
             [
              0,
              "#0d0887"
             ],
             [
              0.1111111111111111,
              "#46039f"
             ],
             [
              0.2222222222222222,
              "#7201a8"
             ],
             [
              0.3333333333333333,
              "#9c179e"
             ],
             [
              0.4444444444444444,
              "#bd3786"
             ],
             [
              0.5555555555555556,
              "#d8576b"
             ],
             [
              0.6666666666666666,
              "#ed7953"
             ],
             [
              0.7777777777777778,
              "#fb9f3a"
             ],
             [
              0.8888888888888888,
              "#fdca26"
             ],
             [
              1,
              "#f0f921"
             ]
            ],
            "type": "heatmap"
           }
          ],
          "heatmapgl": [
           {
            "colorbar": {
             "outlinewidth": 0,
             "ticks": ""
            },
            "colorscale": [
             [
              0,
              "#0d0887"
             ],
             [
              0.1111111111111111,
              "#46039f"
             ],
             [
              0.2222222222222222,
              "#7201a8"
             ],
             [
              0.3333333333333333,
              "#9c179e"
             ],
             [
              0.4444444444444444,
              "#bd3786"
             ],
             [
              0.5555555555555556,
              "#d8576b"
             ],
             [
              0.6666666666666666,
              "#ed7953"
             ],
             [
              0.7777777777777778,
              "#fb9f3a"
             ],
             [
              0.8888888888888888,
              "#fdca26"
             ],
             [
              1,
              "#f0f921"
             ]
            ],
            "type": "heatmapgl"
           }
          ],
          "histogram": [
           {
            "marker": {
             "pattern": {
              "fillmode": "overlay",
              "size": 10,
              "solidity": 0.2
             }
            },
            "type": "histogram"
           }
          ],
          "histogram2d": [
           {
            "colorbar": {
             "outlinewidth": 0,
             "ticks": ""
            },
            "colorscale": [
             [
              0,
              "#0d0887"
             ],
             [
              0.1111111111111111,
              "#46039f"
             ],
             [
              0.2222222222222222,
              "#7201a8"
             ],
             [
              0.3333333333333333,
              "#9c179e"
             ],
             [
              0.4444444444444444,
              "#bd3786"
             ],
             [
              0.5555555555555556,
              "#d8576b"
             ],
             [
              0.6666666666666666,
              "#ed7953"
             ],
             [
              0.7777777777777778,
              "#fb9f3a"
             ],
             [
              0.8888888888888888,
              "#fdca26"
             ],
             [
              1,
              "#f0f921"
             ]
            ],
            "type": "histogram2d"
           }
          ],
          "histogram2dcontour": [
           {
            "colorbar": {
             "outlinewidth": 0,
             "ticks": ""
            },
            "colorscale": [
             [
              0,
              "#0d0887"
             ],
             [
              0.1111111111111111,
              "#46039f"
             ],
             [
              0.2222222222222222,
              "#7201a8"
             ],
             [
              0.3333333333333333,
              "#9c179e"
             ],
             [
              0.4444444444444444,
              "#bd3786"
             ],
             [
              0.5555555555555556,
              "#d8576b"
             ],
             [
              0.6666666666666666,
              "#ed7953"
             ],
             [
              0.7777777777777778,
              "#fb9f3a"
             ],
             [
              0.8888888888888888,
              "#fdca26"
             ],
             [
              1,
              "#f0f921"
             ]
            ],
            "type": "histogram2dcontour"
           }
          ],
          "mesh3d": [
           {
            "colorbar": {
             "outlinewidth": 0,
             "ticks": ""
            },
            "type": "mesh3d"
           }
          ],
          "parcoords": [
           {
            "line": {
             "colorbar": {
              "outlinewidth": 0,
              "ticks": ""
             }
            },
            "type": "parcoords"
           }
          ],
          "pie": [
           {
            "automargin": true,
            "type": "pie"
           }
          ],
          "scatter": [
           {
            "fillpattern": {
             "fillmode": "overlay",
             "size": 10,
             "solidity": 0.2
            },
            "type": "scatter"
           }
          ],
          "scatter3d": [
           {
            "line": {
             "colorbar": {
              "outlinewidth": 0,
              "ticks": ""
             }
            },
            "marker": {
             "colorbar": {
              "outlinewidth": 0,
              "ticks": ""
             }
            },
            "type": "scatter3d"
           }
          ],
          "scattercarpet": [
           {
            "marker": {
             "colorbar": {
              "outlinewidth": 0,
              "ticks": ""
             }
            },
            "type": "scattercarpet"
           }
          ],
          "scattergeo": [
           {
            "marker": {
             "colorbar": {
              "outlinewidth": 0,
              "ticks": ""
             }
            },
            "type": "scattergeo"
           }
          ],
          "scattergl": [
           {
            "marker": {
             "colorbar": {
              "outlinewidth": 0,
              "ticks": ""
             }
            },
            "type": "scattergl"
           }
          ],
          "scattermapbox": [
           {
            "marker": {
             "colorbar": {
              "outlinewidth": 0,
              "ticks": ""
             }
            },
            "type": "scattermapbox"
           }
          ],
          "scatterpolar": [
           {
            "marker": {
             "colorbar": {
              "outlinewidth": 0,
              "ticks": ""
             }
            },
            "type": "scatterpolar"
           }
          ],
          "scatterpolargl": [
           {
            "marker": {
             "colorbar": {
              "outlinewidth": 0,
              "ticks": ""
             }
            },
            "type": "scatterpolargl"
           }
          ],
          "scatterternary": [
           {
            "marker": {
             "colorbar": {
              "outlinewidth": 0,
              "ticks": ""
             }
            },
            "type": "scatterternary"
           }
          ],
          "surface": [
           {
            "colorbar": {
             "outlinewidth": 0,
             "ticks": ""
            },
            "colorscale": [
             [
              0,
              "#0d0887"
             ],
             [
              0.1111111111111111,
              "#46039f"
             ],
             [
              0.2222222222222222,
              "#7201a8"
             ],
             [
              0.3333333333333333,
              "#9c179e"
             ],
             [
              0.4444444444444444,
              "#bd3786"
             ],
             [
              0.5555555555555556,
              "#d8576b"
             ],
             [
              0.6666666666666666,
              "#ed7953"
             ],
             [
              0.7777777777777778,
              "#fb9f3a"
             ],
             [
              0.8888888888888888,
              "#fdca26"
             ],
             [
              1,
              "#f0f921"
             ]
            ],
            "type": "surface"
           }
          ],
          "table": [
           {
            "cells": {
             "fill": {
              "color": "#EBF0F8"
             },
             "line": {
              "color": "white"
             }
            },
            "header": {
             "fill": {
              "color": "#C8D4E3"
             },
             "line": {
              "color": "white"
             }
            },
            "type": "table"
           }
          ]
         },
         "layout": {
          "annotationdefaults": {
           "arrowcolor": "#2a3f5f",
           "arrowhead": 0,
           "arrowwidth": 1
          },
          "autotypenumbers": "strict",
          "coloraxis": {
           "colorbar": {
            "outlinewidth": 0,
            "ticks": ""
           }
          },
          "colorscale": {
           "diverging": [
            [
             0,
             "#8e0152"
            ],
            [
             0.1,
             "#c51b7d"
            ],
            [
             0.2,
             "#de77ae"
            ],
            [
             0.3,
             "#f1b6da"
            ],
            [
             0.4,
             "#fde0ef"
            ],
            [
             0.5,
             "#f7f7f7"
            ],
            [
             0.6,
             "#e6f5d0"
            ],
            [
             0.7,
             "#b8e186"
            ],
            [
             0.8,
             "#7fbc41"
            ],
            [
             0.9,
             "#4d9221"
            ],
            [
             1,
             "#276419"
            ]
           ],
           "sequential": [
            [
             0,
             "#0d0887"
            ],
            [
             0.1111111111111111,
             "#46039f"
            ],
            [
             0.2222222222222222,
             "#7201a8"
            ],
            [
             0.3333333333333333,
             "#9c179e"
            ],
            [
             0.4444444444444444,
             "#bd3786"
            ],
            [
             0.5555555555555556,
             "#d8576b"
            ],
            [
             0.6666666666666666,
             "#ed7953"
            ],
            [
             0.7777777777777778,
             "#fb9f3a"
            ],
            [
             0.8888888888888888,
             "#fdca26"
            ],
            [
             1,
             "#f0f921"
            ]
           ],
           "sequentialminus": [
            [
             0,
             "#0d0887"
            ],
            [
             0.1111111111111111,
             "#46039f"
            ],
            [
             0.2222222222222222,
             "#7201a8"
            ],
            [
             0.3333333333333333,
             "#9c179e"
            ],
            [
             0.4444444444444444,
             "#bd3786"
            ],
            [
             0.5555555555555556,
             "#d8576b"
            ],
            [
             0.6666666666666666,
             "#ed7953"
            ],
            [
             0.7777777777777778,
             "#fb9f3a"
            ],
            [
             0.8888888888888888,
             "#fdca26"
            ],
            [
             1,
             "#f0f921"
            ]
           ]
          },
          "colorway": [
           "#636efa",
           "#EF553B",
           "#00cc96",
           "#ab63fa",
           "#FFA15A",
           "#19d3f3",
           "#FF6692",
           "#B6E880",
           "#FF97FF",
           "#FECB52"
          ],
          "font": {
           "color": "#2a3f5f"
          },
          "geo": {
           "bgcolor": "white",
           "lakecolor": "white",
           "landcolor": "#E5ECF6",
           "showlakes": true,
           "showland": true,
           "subunitcolor": "white"
          },
          "hoverlabel": {
           "align": "left"
          },
          "hovermode": "closest",
          "mapbox": {
           "style": "light"
          },
          "paper_bgcolor": "white",
          "plot_bgcolor": "#E5ECF6",
          "polar": {
           "angularaxis": {
            "gridcolor": "white",
            "linecolor": "white",
            "ticks": ""
           },
           "bgcolor": "#E5ECF6",
           "radialaxis": {
            "gridcolor": "white",
            "linecolor": "white",
            "ticks": ""
           }
          },
          "scene": {
           "xaxis": {
            "backgroundcolor": "#E5ECF6",
            "gridcolor": "white",
            "gridwidth": 2,
            "linecolor": "white",
            "showbackground": true,
            "ticks": "",
            "zerolinecolor": "white"
           },
           "yaxis": {
            "backgroundcolor": "#E5ECF6",
            "gridcolor": "white",
            "gridwidth": 2,
            "linecolor": "white",
            "showbackground": true,
            "ticks": "",
            "zerolinecolor": "white"
           },
           "zaxis": {
            "backgroundcolor": "#E5ECF6",
            "gridcolor": "white",
            "gridwidth": 2,
            "linecolor": "white",
            "showbackground": true,
            "ticks": "",
            "zerolinecolor": "white"
           }
          },
          "shapedefaults": {
           "line": {
            "color": "#2a3f5f"
           }
          },
          "ternary": {
           "aaxis": {
            "gridcolor": "white",
            "linecolor": "white",
            "ticks": ""
           },
           "baxis": {
            "gridcolor": "white",
            "linecolor": "white",
            "ticks": ""
           },
           "bgcolor": "#E5ECF6",
           "caxis": {
            "gridcolor": "white",
            "linecolor": "white",
            "ticks": ""
           }
          },
          "title": {
           "x": 0.05
          },
          "xaxis": {
           "automargin": true,
           "gridcolor": "white",
           "linecolor": "white",
           "ticks": "",
           "title": {
            "standoff": 15
           },
           "zerolinecolor": "white",
           "zerolinewidth": 2
          },
          "yaxis": {
           "automargin": true,
           "gridcolor": "white",
           "linecolor": "white",
           "ticks": "",
           "title": {
            "standoff": 15
           },
           "zerolinecolor": "white",
           "zerolinewidth": 2
          }
         }
        },
        "title": {
         "text": "Distribución de tipos de curvas según ángulo"
        }
       }
      }
     },
     "metadata": {},
     "output_type": "display_data"
    }
   ],
   "source": [
    "import gpxpy\n",
    "import osmnx as ox\n",
    "import networkx as nx\n",
    "import folium\n",
    "import math\n",
    "from collections import Counter\n",
    "import plotly.express as px\n",
    "from concurrent.futures import ThreadPoolExecutor, as_completed\n",
    "\n",
    "# Load the GPX file\n",
    "with open('ruta.gpx', 'r') as gpx_file:\n",
    "    gpx = gpxpy.parse(gpx_file)\n",
    "\n",
    "# Extract points and elevations from the GPX track\n",
    "points = []\n",
    "elevations = []\n",
    "for track in gpx.tracks:\n",
    "    for segment in track.segments:\n",
    "        for point in segment.points:\n",
    "            points.append((point.latitude, point.longitude))\n",
    "            elevations.append(point.elevation)\n",
    "\n",
    "def haversine(coord1, coord2):\n",
    "    R = 6371000  # radius of Earth in meters\n",
    "    lat1, lon1 = coord1\n",
    "    lat2, lon2 = coord2\n",
    "    phi1 = math.radians(lat1)\n",
    "    phi2 = math.radians(lat2)\n",
    "    delta_phi = math.radians(lat2 - lat1)\n",
    "    delta_lambda = math.radians(lon2 - lon1)\n",
    "    a = math.sin(delta_phi / 2.0) ** 2 + math.cos(phi1) * math.cos(phi2) * math.sin(delta_lambda / 2.0) ** 2\n",
    "    c = 2 * math.atan2(math.sqrt(a), math.sqrt(1 - a))\n",
    "    meters = R * c  # output distance in meters\n",
    "    return meters\n",
    "\n",
    "def calculate_bearing(coord1, coord2):\n",
    "    lat1, lon1 = math.radians(coord1[0]), math.radians(coord1[1])\n",
    "    lat2, lon2 = math.radians(coord2[0]), math.radians(coord2[1])\n",
    "    delta_lon = lon2 - lon1\n",
    "    x = math.sin(delta_lon) * math.cos(lat2)\n",
    "    y = math.cos(lat1) * math.sin(lat2) - math.sin(lat1) * math.cos(lat2) * math.cos(delta_lon)\n",
    "    bearing = math.atan2(x, y)\n",
    "    bearing = math.degrees(bearing)\n",
    "    return (bearing + 360) % 360\n",
    "\n",
    "def calculate_inclination(elev1, elev2, distance):\n",
    "    return (elev2 - elev1) / distance if distance != 0 else 0\n",
    "\n",
    "# Detect and classify curves, including those with high inclination\n",
    "num_easy_curves = 0\n",
    "num_normal_curves = 0\n",
    "num_hard_curves = 0\n",
    "num_downhill_hard_curves = 0\n",
    "\n",
    "curves_inclination = {'easy': 0, 'normal': 0, 'hard': 0, 'downhill_hard': 0}\n",
    "curves_angle = {'easy': 0, 'normal': 0, 'hard': 0}\n",
    "\n",
    "inclinations = []\n",
    "\n",
    "for i in range(1, len(points) - 1):\n",
    "    bearing1 = calculate_bearing(points[i-1], points[i])\n",
    "    bearing2 = calculate_bearing(points[i], points[i+1])\n",
    "    change_in_bearing = abs(bearing2 - bearing1)\n",
    "    if change_in_bearing > 180:\n",
    "        change_in_bearing = 360 - change_in_bearing\n",
    "\n",
    "    distance = haversine(points[i], points[i+1])\n",
    "    inclination = calculate_inclination(elevations[i], elevations[i+1], distance)\n",
    "    inclinations.append(inclination)\n",
    "\n",
    "    if change_in_bearing < 60:\n",
    "        num_easy_curves += 1\n",
    "        curves_inclination['easy'] += 1\n",
    "        curves_angle['easy'] += 1\n",
    "    elif 60 <= change_in_bearing < 150:\n",
    "        num_normal_curves += 1\n",
    "        curves_inclination['normal'] += 1\n",
    "        curves_angle['normal'] += 1\n",
    "    else:\n",
    "        num_hard_curves += 1\n",
    "        curves_inclination['hard'] += 1\n",
    "        curves_angle['hard'] += 1\n",
    "        if inclination < -0.1:\n",
    "            num_downhill_hard_curves += 1\n",
    "            curves_inclination['downhill_hard'] += 1\n",
    "\n",
    "print(f'Número de curvas fáciles: {num_easy_curves}')\n",
    "print(f'Número de curvas normales: {num_normal_curves}')\n",
    "print(f'Número de curvas difíciles: {num_hard_curves}')\n",
    "print(f'Número de curvas difíciles cuesta abajo: {num_downhill_hard_curves}')\n",
    "\n",
    "def get_road_type(point, dist=50):\n",
    "    try:\n",
    "        G = ox.graph_from_point(point, dist=dist, network_type='all')\n",
    "        if len(G) == 0:\n",
    "            raise nx.NetworkXPointlessConcept(\"Graph is empty.\")\n",
    "        nearest_node = ox.distance.nearest_nodes(G, point[1], point[0])\n",
    "        for u, v, data in G.edges(nbunch=[nearest_node], data=True):\n",
    "            if 'highway' in data:\n",
    "                highway_type = data['highway']\n",
    "                if isinstance(highway_type, list):\n",
    "                    highway_type = highway_type[0]\n",
    "                return highway_type\n",
    "    except Exception as e:\n",
    "        print(f\"Error fetching OSM data for point {point}: {e}\")\n",
    "    return None\n",
    "\n",
    "# Define a color mapping for road types\n",
    "road_color_map = {\n",
    "    'motorway': '#808080',  # gray\n",
    "    'trunk': '#808080',     # gray\n",
    "    'primary': '#808080',   # gray\n",
    "    'secondary': '#808080', # gray\n",
    "    'tertiary': '#808080',  # gray\n",
    "    'unclassified': 'black',  \n",
    "    'residential': '#808080', # whitesmoke\n",
    "    'service': '#808080',   # whitesmoke\n",
    "    'track': '#8b4513',     # saddlebrown\n",
    "    'path': '#a0522d',      # sienna\n",
    "    'footway': '#a0522d',   # sienna\n",
    "    'cycleway': '#a0522d',  # sienna\n",
    "    'pedestrian': 'red'     # red\n",
    "}\n",
    "\n",
    "# Parallel processing to get road types for each point\n",
    "def process_point(index, point):\n",
    "    road_type = get_road_type(point)\n",
    "    if road_type:\n",
    "        color = road_color_map.get(road_type, 'black')\n",
    "        return (index, point[0], point[1], color, road_type)\n",
    "    return (index, point[0], point[1], 'black', None)\n",
    "\n",
    "track_data = []\n",
    "with ThreadPoolExecutor(max_workers=10) as executor:\n",
    "    future_to_point = {executor.submit(process_point, idx, point): idx for idx, point in enumerate(points)}\n",
    "    for future in as_completed(future_to_point):\n",
    "        track_data.append(future.result())\n",
    "\n",
    "# Sort track_data based on the original index to maintain order\n",
    "track_data.sort()\n",
    "\n",
    "# Initialize the map at the center of the track\n",
    "map_center = [points[0][0], points[0][1]]\n",
    "mymap = folium.Map(location=map_center, zoom_start=14)\n",
    "\n",
    "# Add the track to the map\n",
    "for i in range(len(track_data) - 1):\n",
    "    folium.PolyLine(locations=[(track_data[i][1], track_data[i][2]), (track_data[i+1][1], track_data[i+1][2])], color=track_data[i][3], weight=5).add_to(mymap)\n",
    "\n",
    "# Save the map to an HTML file\n",
    "mymap.save('track_map.html')\n",
    "\n",
    "# Create a counter for the road types\n",
    "road_type_counts = Counter([data[4] for data in track_data if data[4]])\n",
    "\n",
    "# Prepare data for the sunburst plot (road types)\n",
    "labels = []\n",
    "parents = []\n",
    "values = []\n",
    "\n",
    "for road_type, count in road_type_counts.items():\n",
    "    labels.append(road_type)\n",
    "    parents.append(\"\")\n",
    "    values.append(count)\n",
    "\n",
    "# Create the sunburst plot for road types\n",
    "fig_road_types = px.sunburst(\n",
    "    names=labels,\n",
    "    parents=parents,\n",
    "    values=values,\n",
    "    title=\"Distribución de tipos de calzada\"\n",
    ")\n",
    "\n",
    "# Show the plot\n",
    "fig_road_types.show()\n",
    "\n",
    "# Prepare data for the sunburst plot (curve inclination types)\n",
    "curve_inclination_labels = []\n",
    "curve_inclination_parents = []\n",
    "curve_inclination_values = []\n",
    "\n",
    "for curve_type, count in curves_inclination.items():\n",
    "    curve_inclination_labels.append(curve_type)\n",
    "    curve_inclination_parents.append(\"\")\n",
    "    curve_inclination_values.append(count)\n",
    "\n",
    "# Create the sunburst plot for curve inclination types\n",
    "fig_curve_inclination = px.sunburst(\n",
    "    names=curve_inclination_labels,\n",
    "    parents=curve_inclination_parents,\n",
    "    values=curve_inclination_values,\n",
    "    title=\"Distribución de tipos de curvas según inclinación\"\n",
    ")\n",
    "\n",
    "# Show the plot\n",
    "fig_curve_inclination.show()\n",
    "\n",
    "# Prepare data for the sunburst plot (curve angle types)\n",
    "curve_angle_labels = []\n",
    "curve_angle_parents = []\n",
    "curve_angle_values = []\n",
    "\n",
    "for curve_type, count in curves_angle.items():\n",
    "    curve_angle_labels.append(curve_type)\n",
    "    curve_angle_parents.append(\"\")\n",
    "    curve_angle_values.append(count)\n",
    "\n",
    "# Create the sunburst plot for curve angle types\n",
    "fig_curve_angle = px.sunburst(\n",
    "    names=curve_angle_labels,\n",
    "    parents=curve_angle_parents,\n",
    "    values=curve_angle_values,\n",
    "    title=\"Distribución de tipos de curvas según ángulo\"\n",
    ")\n",
    "\n",
    "# Show the plot\n",
    "fig_curve_angle.show()\n",
    "\n",
    "# Add markers for the difficult curves on a new map\n",
    "curves_map = folium.Map(location=map_center, zoom_start=14)\n",
    "for i in range(1, len(points) - 1):\n",
    "    bearing1 = calculate_bearing(points[i-1], points[i])\n",
    "    bearing2 = calculate_bearing(points[i], points[i+1])\n",
    "    change_in_bearing = abs(bearing2 - bearing1)\n",
    "    if change_in_bearing > 180:\n",
    "        change_in_bearing = 360 - change_in_bearing\n",
    "\n",
    "    distance = haversine(points[i], points[i+1])\n",
    "    inclination = calculate_inclination(elevations[i], elevations[i+1], distance)\n",
    "\n",
    "    if (change_in_bearing >= 150 and inclination < -0.1):\n",
    "        folium.Marker(\n",
    "            location=(points[i][0], points[i][1]),\n",
    "            popup=f\"Curva difícil\\nÁngulo: {change_in_bearing:.2f}°\\nInclinación: {inclination:.2f}\",\n",
    "            icon=folium.Icon(color='red', icon='info-sign')\n",
    "        ).add_to(curves_map)\n",
    "\n",
    "# Save the curves map to an HTML file\n",
    "curves_map.save('curves_map.html')\n"
   ]
  }
 ],
 "metadata": {
  "kernelspec": {
   "display_name": "Python (Spark Env)",
   "language": "python",
   "name": "spark_env"
  },
  "language_info": {
   "codemirror_mode": {
    "name": "ipython",
    "version": 3
   },
   "file_extension": ".py",
   "mimetype": "text/x-python",
   "name": "python",
   "nbconvert_exporter": "python",
   "pygments_lexer": "ipython3",
   "version": "3.9.18"
  }
 },
 "nbformat": 4,
 "nbformat_minor": 2
}
